{
  "nbformat": 4,
  "nbformat_minor": 0,
  "metadata": {
    "colab": {
      "provenance": []
    },
    "kernelspec": {
      "name": "python3",
      "display_name": "Python 3"
    },
    "language_info": {
      "name": "python"
    }
  },
  "cells": [
    {
      "cell_type": "markdown",
      "source": [
        "## Putting It All Together"
      ],
      "metadata": {
        "id": "dmoNIFPQqgSt"
      }
    },
    {
      "cell_type": "code",
      "execution_count": 1,
      "metadata": {
        "id": "mFUdb2Gtp7b1"
      },
      "outputs": [],
      "source": [
        "import torch\n",
        "import numpy as np\n",
        "\n",
        "from torch import nn\n",
        "from matplotlib import pyplot as plt\n",
        "from sklearn.model_selection import train_test_split"
      ]
    },
    {
      "cell_type": "code",
      "source": [
        "# Setup device agnostic code\n",
        "device = 'cuda' if torch.cuda.is_available() else 'cpu'\n",
        "print(f'device: {device}')"
      ],
      "metadata": {
        "colab": {
          "base_uri": "https://localhost:8080/"
        },
        "id": "v_2tXhX8qFO0",
        "outputId": "00a57b2e-5fda-4a36-f5d7-c3e2156d9f18"
      },
      "execution_count": 2,
      "outputs": [
        {
          "output_type": "stream",
          "name": "stdout",
          "text": [
            "device: cpu\n"
          ]
        }
      ]
    },
    {
      "cell_type": "markdown",
      "source": [
        "## 1. Data"
      ],
      "metadata": {
        "id": "5sMdQwjrqGMk"
      }
    },
    {
      "cell_type": "code",
      "source": [
        "# Create some data using the Linear Regrassion formula\n",
        "weight = 0.4\n",
        "bias = 0.6\n",
        "\n",
        "# Create range values\n",
        "start = 0\n",
        "end = 1\n",
        "step = 0.02\n",
        "\n",
        "# Create X and y (features and labels)\n",
        "X = torch.arange(start=start, end=end, step=step).unsqueeze(dim=1) # without unsqueeze, errors will pop up\n",
        "y = weight * X + bias"
      ],
      "metadata": {
        "id": "HnGpuHk9qGKG"
      },
      "execution_count": 3,
      "outputs": []
    },
    {
      "cell_type": "code",
      "source": [
        "# Split data\n",
        "X_train, X_test, y_train, y_test = train_test_split(X, y, test_size=0.2, random_state=147)\n",
        "len(X_train), len(y_train), len(X_test), len(y_test)"
      ],
      "metadata": {
        "colab": {
          "base_uri": "https://localhost:8080/"
        },
        "id": "UjKv0litqGHs",
        "outputId": "da0e2c07-2c6b-4793-a07f-6adbf9e34b8b"
      },
      "execution_count": 4,
      "outputs": [
        {
          "output_type": "execute_result",
          "data": {
            "text/plain": [
              "(40, 40, 10, 10)"
            ]
          },
          "metadata": {},
          "execution_count": 4
        }
      ]
    },
    {
      "cell_type": "code",
      "source": [
        "def plot_predictions(train_data=X_train,\n",
        "                     train_labels=y_train,\n",
        "                     test_data=X_test,\n",
        "                     test_labels=y_test,\n",
        "                     predictions=None):\n",
        "  plt.figure(figsize=(10, 7))\n",
        "\n",
        "  # Plot training data in blue\n",
        "  plt.scatter(train_data, train_labels, c='b', label='Train Data')\n",
        "\n",
        "  # Plot testing data in green\n",
        "  plt.scatter(test_data, test_labels, c='g', label='Test Data')\n",
        "\n",
        "  # Are there predictions?\n",
        "  if predictions is not None:\n",
        "    # Plot the predictions if they exist\n",
        "    plt.scatter(test_data, predictions, c='r', label='Predictions')\n",
        "  \n",
        "  plt.legend(prop={'size': 14})\n",
        "\n",
        "def visualize_loss(epoch_count_list, \n",
        "                   train_loss_list, \n",
        "                   test_loss_list):\n",
        "  plt.figure(figsize=(10, 7))\n",
        "\n",
        "  # Plot training loss\n",
        "  plt.plot(epoch_count_list, train_loss_list, label='Train Loss')\n",
        "  plt.plot(epoch_count_list, test_loss_list, label='Test Loss')\n",
        "  plt.title('Train & Test Loss Curves')\n",
        "  plt.xlabel('Epoch')\n",
        "  plt.ylabel('Loss')\n",
        "  plt.legend(prop={'size': 14})"
      ],
      "metadata": {
        "id": "PkWyUFSPqGFM"
      },
      "execution_count": 5,
      "outputs": []
    },
    {
      "cell_type": "code",
      "source": [
        "plot_predictions()"
      ],
      "metadata": {
        "colab": {
          "base_uri": "https://localhost:8080/",
          "height": 428
        },
        "id": "_pUhbg0UqGCp",
        "outputId": "caaa9bfa-7979-4b23-d9b8-92500ba31dc3"
      },
      "execution_count": 6,
      "outputs": [
        {
          "output_type": "display_data",
          "data": {
            "text/plain": [
              "<Figure size 720x504 with 1 Axes>"
            ],
            "image/png": "[encoded data removed]"
          },
          "metadata": {
            "needs_background": "light"
          }
        }
      ]
    },
    {
      "cell_type": "markdown",
      "source": [
        "## 2. Building a PyTorch Linear Model"
      ],
      "metadata": {
        "id": "AA6RNPXnqF__"
      }
    },
    {
      "cell_type": "code",
      "source": [
        "class LinearRegrassion(nn.Module):\n",
        "  def __init__(self):\n",
        "    super().__init__()\n",
        "    # Use nn.Linear() for creating the model parameters\n",
        "    self.linear_layer = nn.Linear(in_features=1,\n",
        "                                  out_features=1)\n",
        "  \n",
        "  def forward(self, x:torch.Tensor) -> torch.Tensor:\n",
        "    return self.linear_layer(x)\n",
        "  \n",
        "torch.manual_seed(42)\n",
        "model = LinearRegrassion()\n",
        "model.state_dict()"
      ],
      "metadata": {
        "colab": {
          "base_uri": "https://localhost:8080/"
        },
        "id": "CTqZ4isPqF9p",
        "outputId": "55327a3c-6d6a-40b7-a4f3-8694f02c7199"
      },
      "execution_count": 7,
      "outputs": [
        {
          "output_type": "execute_result",
          "data": {
            "text/plain": [
              "OrderedDict([('linear_layer.weight', tensor([[0.7645]])),\n",
              "             ('linear_layer.bias', tensor([0.8300]))])"
            ]
          },
          "metadata": {},
          "execution_count": 7
        }
      ]
    },
    {
      "cell_type": "markdown",
      "source": [
        "## 3. Train & Test Data"
      ],
      "metadata": {
        "id": "f5XJbZlSqF7F"
      }
    },
    {
      "cell_type": "code",
      "source": [
        "# For the trainig phase, we need to set up a Loss Function & Optimizer\n",
        "loss_function = nn.L1Loss() # same as MAE\n",
        "optimizer = torch.optim.SGD(params=model.parameters(), \n",
        "                            lr=0.01) # stochastic gradient descent"
      ],
      "metadata": {
        "id": "Tcj8-mdcqF4r"
      },
      "execution_count": 8,
      "outputs": []
    },
    {
      "cell_type": "code",
      "source": [
        "# Write a training loop\n",
        "torch.manual_seed(42)\n",
        "epochs = 150\n",
        "\n",
        "epoch_count_ = []\n",
        "train_loss_ = []\n",
        "test_loss_ = []\n",
        "\n",
        "for epoch in range(epochs):\n",
        "  model.train()\n",
        "  train_pred = model.forward(X_train)\n",
        "  train_loss = loss_function(train_pred, y_train)\n",
        "  optimizer.zero_grad()\n",
        "  train_loss.backward()\n",
        "  optimizer.step()\n",
        "\n",
        "  # Testing\n",
        "  model.eval()\n",
        "  with torch.inference_mode():\n",
        "    test_pred = model.forward(X_test)\n",
        "    test_loss = loss_function(test_pred, y_test)\n",
        "  \n",
        "  print(f'Epoch: {epoch} | Training Loss: {train_loss} | Testing Loss: {test_loss}')\n",
        "  print(model.state_dict())\n",
        "\n",
        "  epoch_count_.append(epoch)\n",
        "  train_loss_.append(train_loss)\n",
        "  test_loss_.append(test_loss)"
      ],
      "metadata": {
        "colab": {
          "base_uri": "https://localhost:8080/"
        },
        "id": "uxS1ln7XqF1-",
        "outputId": "ce1796ac-8197-4ce8-8940-b5b11895397d"
      },
      "execution_count": 9,
      "outputs": [
        {
          "output_type": "stream",
          "name": "stdout",
          "text": [
            "Epoch: 0 | Training Loss: 0.40954312682151794 | Testing Loss: 0.3926223814487457\n",
            "OrderedDict([('linear_layer.weight', tensor([[0.7596]])), ('linear_layer.bias', tensor([0.8200]))])\n",
            "Epoch: 1 | Training Loss: 0.397117555141449 | Testing Loss: 0.38025838136672974\n",
            "OrderedDict([('linear_layer.weight', tensor([[0.7547]])), ('linear_layer.bias', tensor([0.8100]))])\n",
            "Epoch: 2 | Training Loss: 0.38469198346138 | Testing Loss: 0.36789432168006897\n",
            "OrderedDict([('linear_layer.weight', tensor([[0.7498]])), ('linear_layer.bias', tensor([0.8000]))])\n",
            "Epoch: 3 | Training Loss: 0.3722664415836334 | Testing Loss: 0.35553041100502014\n",
            "OrderedDict([('linear_layer.weight', tensor([[0.7448]])), ('linear_layer.bias', tensor([0.7900]))])\n",
            "Epoch: 4 | Training Loss: 0.35984086990356445 | Testing Loss: 0.34316641092300415\n",
            "OrderedDict([('linear_layer.weight', tensor([[0.7399]])), ('linear_layer.bias', tensor([0.7800]))])\n",
            "Epoch: 5 | Training Loss: 0.3474152982234955 | Testing Loss: 0.33080238103866577\n",
            "OrderedDict([('linear_layer.weight', tensor([[0.7350]])), ('linear_layer.bias', tensor([0.7700]))])\n",
            "Epoch: 6 | Training Loss: 0.3349897265434265 | Testing Loss: 0.3184383809566498\n",
            "OrderedDict([('linear_layer.weight', tensor([[0.7301]])), ('linear_layer.bias', tensor([0.7600]))])\n",
            "Epoch: 7 | Training Loss: 0.32256418466567993 | Testing Loss: 0.3060743808746338\n",
            "OrderedDict([('linear_layer.weight', tensor([[0.7251]])), ('linear_layer.bias', tensor([0.7500]))])\n",
            "Epoch: 8 | Training Loss: 0.31013864278793335 | Testing Loss: 0.2937104105949402\n",
            "OrderedDict([('linear_layer.weight', tensor([[0.7202]])), ('linear_layer.bias', tensor([0.7400]))])\n",
            "Epoch: 9 | Training Loss: 0.29771310091018677 | Testing Loss: 0.2813463807106018\n",
            "OrderedDict([('linear_layer.weight', tensor([[0.7153]])), ('linear_layer.bias', tensor([0.7300]))])\n",
            "Epoch: 10 | Training Loss: 0.2852875292301178 | Testing Loss: 0.2689823508262634\n",
            "OrderedDict([('linear_layer.weight', tensor([[0.7104]])), ('linear_layer.bias', tensor([0.7200]))])\n",
            "Epoch: 11 | Training Loss: 0.27286195755004883 | Testing Loss: 0.2566184103488922\n",
            "OrderedDict([('linear_layer.weight', tensor([[0.7054]])), ('linear_layer.bias', tensor([0.7100]))])\n",
            "Epoch: 12 | Training Loss: 0.26043638586997986 | Testing Loss: 0.24425439536571503\n",
            "OrderedDict([('linear_layer.weight', tensor([[0.7005]])), ('linear_layer.bias', tensor([0.7000]))])\n",
            "Epoch: 13 | Training Loss: 0.24801082909107208 | Testing Loss: 0.23189043998718262\n",
            "OrderedDict([('linear_layer.weight', tensor([[0.6956]])), ('linear_layer.bias', tensor([0.6900]))])\n",
            "Epoch: 14 | Training Loss: 0.2355852574110031 | Testing Loss: 0.21952638030052185\n",
            "OrderedDict([('linear_layer.weight', tensor([[0.6907]])), ('linear_layer.bias', tensor([0.6800]))])\n",
            "Epoch: 15 | Training Loss: 0.22315971553325653 | Testing Loss: 0.20716242492198944\n",
            "OrderedDict([('linear_layer.weight', tensor([[0.6857]])), ('linear_layer.bias', tensor([0.6700]))])\n",
            "Epoch: 16 | Training Loss: 0.21073417365550995 | Testing Loss: 0.19479842483997345\n",
            "OrderedDict([('linear_layer.weight', tensor([[0.6808]])), ('linear_layer.bias', tensor([0.6600]))])\n",
            "Epoch: 17 | Training Loss: 0.19830861687660217 | Testing Loss: 0.18243443965911865\n",
            "OrderedDict([('linear_layer.weight', tensor([[0.6759]])), ('linear_layer.bias', tensor([0.6500]))])\n",
            "Epoch: 18 | Training Loss: 0.1858830451965332 | Testing Loss: 0.17007043957710266\n",
            "OrderedDict([('linear_layer.weight', tensor([[0.6710]])), ('linear_layer.bias', tensor([0.6400]))])\n",
            "Epoch: 19 | Training Loss: 0.17345747351646423 | Testing Loss: 0.15770643949508667\n",
            "OrderedDict([('linear_layer.weight', tensor([[0.6660]])), ('linear_layer.bias', tensor([0.6300]))])\n",
            "Epoch: 20 | Training Loss: 0.16103193163871765 | Testing Loss: 0.14534242451190948\n",
            "OrderedDict([('linear_layer.weight', tensor([[0.6611]])), ('linear_layer.bias', tensor([0.6200]))])\n",
            "Epoch: 21 | Training Loss: 0.14860635995864868 | Testing Loss: 0.1329784393310547\n",
            "OrderedDict([('linear_layer.weight', tensor([[0.6562]])), ('linear_layer.bias', tensor([0.6100]))])\n",
            "Epoch: 22 | Training Loss: 0.1361807882785797 | Testing Loss: 0.12061445415019989\n",
            "OrderedDict([('linear_layer.weight', tensor([[0.6513]])), ('linear_layer.bias', tensor([0.6000]))])\n",
            "Epoch: 23 | Training Loss: 0.12375523895025253 | Testing Loss: 0.10827811807394028\n",
            "OrderedDict([('linear_layer.weight', tensor([[0.6463]])), ('linear_layer.bias', tensor([0.5900]))])\n",
            "Epoch: 24 | Training Loss: 0.11208254098892212 | Testing Loss: 0.09875822812318802\n",
            "OrderedDict([('linear_layer.weight', tensor([[0.6414]])), ('linear_layer.bias', tensor([0.5810]))])\n",
            "Epoch: 25 | Training Loss: 0.1017921194434166 | Testing Loss: 0.09042012691497803\n",
            "OrderedDict([('linear_layer.weight', tensor([[0.6365]])), ('linear_layer.bias', tensor([0.5725]))])\n",
            "Epoch: 26 | Training Loss: 0.09260924905538559 | Testing Loss: 0.08404114097356796\n",
            "OrderedDict([('linear_layer.weight', tensor([[0.6317]])), ('linear_layer.bias', tensor([0.5645]))])\n",
            "Epoch: 27 | Training Loss: 0.08424626290798187 | Testing Loss: 0.07901231944561005\n",
            "OrderedDict([('linear_layer.weight', tensor([[0.6269]])), ('linear_layer.bias', tensor([0.5570]))])\n",
            "Epoch: 28 | Training Loss: 0.07677339762449265 | Testing Loss: 0.07445552945137024\n",
            "OrderedDict([('linear_layer.weight', tensor([[0.6223]])), ('linear_layer.bias', tensor([0.5505]))])\n",
            "Epoch: 29 | Training Loss: 0.07069960236549377 | Testing Loss: 0.07038779556751251\n",
            "OrderedDict([('linear_layer.weight', tensor([[0.6179]])), ('linear_layer.bias', tensor([0.5450]))])\n",
            "Epoch: 30 | Training Loss: 0.06586911529302597 | Testing Loss: 0.06657097488641739\n",
            "OrderedDict([('linear_layer.weight', tensor([[0.6136]])), ('linear_layer.bias', tensor([0.5400]))])\n",
            "Epoch: 31 | Training Loss: 0.061764907091856 | Testing Loss: 0.06326858699321747\n",
            "OrderedDict([('linear_layer.weight', tensor([[0.6096]])), ('linear_layer.bias', tensor([0.5360]))])\n",
            "Epoch: 32 | Training Loss: 0.05860863998532295 | Testing Loss: 0.060561954975128174\n",
            "OrderedDict([('linear_layer.weight', tensor([[0.6057]])), ('linear_layer.bias', tensor([0.5325]))])\n",
            "Epoch: 33 | Training Loss: 0.05588982626795769 | Testing Loss: 0.058470554649829865\n",
            "OrderedDict([('linear_layer.weight', tensor([[0.6019]])), ('linear_layer.bias', tensor([0.5290]))])\n",
            "Epoch: 34 | Training Loss: 0.0532890148460865 | Testing Loss: 0.056540340185165405\n",
            "OrderedDict([('linear_layer.weight', tensor([[0.5982]])), ('linear_layer.bias', tensor([0.5260]))])\n",
            "Epoch: 35 | Training Loss: 0.051156360656023026 | Testing Loss: 0.0547749288380146\n",
            "OrderedDict([('linear_layer.weight', tensor([[0.5946]])), ('linear_layer.bias', tensor([0.5235]))])\n",
            "Epoch: 36 | Training Loss: 0.04942212253808975 | Testing Loss: 0.05317794159054756\n",
            "OrderedDict([('linear_layer.weight', tensor([[0.5913]])), ('linear_layer.bias', tensor([0.5215]))])\n",
            "Epoch: 37 | Training Loss: 0.04801469296216965 | Testing Loss: 0.05194265767931938\n",
            "OrderedDict([('linear_layer.weight', tensor([[0.5882]])), ('linear_layer.bias', tensor([0.5200]))])\n",
            "Epoch: 38 | Training Loss: 0.046813130378723145 | Testing Loss: 0.051080167293548584\n",
            "OrderedDict([('linear_layer.weight', tensor([[0.5851]])), ('linear_layer.bias', tensor([0.5185]))])\n",
            "Epoch: 39 | Training Loss: 0.04561455920338631 | Testing Loss: 0.05027839541435242\n",
            "OrderedDict([('linear_layer.weight', tensor([[0.5822]])), ('linear_layer.bias', tensor([0.5175]))])\n",
            "Epoch: 40 | Training Loss: 0.04467064142227173 | Testing Loss: 0.04947660118341446\n",
            "OrderedDict([('linear_layer.weight', tensor([[0.5793]])), ('linear_layer.bias', tensor([0.5165]))])\n",
            "Epoch: 41 | Training Loss: 0.04377828165888786 | Testing Loss: 0.048738300800323486\n",
            "OrderedDict([('linear_layer.weight', tensor([[0.5766]])), ('linear_layer.bias', tensor([0.5160]))])\n",
            "Epoch: 42 | Training Loss: 0.04303771257400513 | Testing Loss: 0.04800000041723251\n",
            "OrderedDict([('linear_layer.weight', tensor([[0.5739]])), ('linear_layer.bias', tensor([0.5155]))])\n",
            "Epoch: 43 | Training Loss: 0.04234783723950386 | Testing Loss: 0.047327928245067596\n",
            "OrderedDict([('linear_layer.weight', tensor([[0.5715]])), ('linear_layer.bias', tensor([0.5155]))])\n",
            "Epoch: 44 | Training Loss: 0.04175489395856857 | Testing Loss: 0.04665587097406387\n",
            "OrderedDict([('linear_layer.weight', tensor([[0.5690]])), ('linear_layer.bias', tensor([0.5155]))])\n",
            "Epoch: 45 | Training Loss: 0.04116198047995567 | Testing Loss: 0.045983802527189255\n",
            "OrderedDict([('linear_layer.weight', tensor([[0.5666]])), ('linear_layer.bias', tensor([0.5155]))])\n",
            "Epoch: 46 | Training Loss: 0.040628451853990555 | Testing Loss: 0.04538073018193245\n",
            "OrderedDict([('linear_layer.weight', tensor([[0.5644]])), ('linear_layer.bias', tensor([0.5160]))])\n",
            "Epoch: 47 | Training Loss: 0.040126025676727295 | Testing Loss: 0.04477769136428833\n",
            "OrderedDict([('linear_layer.weight', tensor([[0.5622]])), ('linear_layer.bias', tensor([0.5165]))])\n",
            "Epoch: 48 | Training Loss: 0.039623599499464035 | Testing Loss: 0.044174619019031525\n",
            "OrderedDict([('linear_layer.weight', tensor([[0.5601]])), ('linear_layer.bias', tensor([0.5170]))])\n",
            "Epoch: 49 | Training Loss: 0.03912118822336197 | Testing Loss: 0.04365167021751404\n",
            "OrderedDict([('linear_layer.weight', tensor([[0.5579]])), ('linear_layer.bias', tensor([0.5175]))])\n",
            "Epoch: 50 | Training Loss: 0.03861875832080841 | Testing Loss: 0.0431758277118206\n",
            "OrderedDict([('linear_layer.weight', tensor([[0.5557]])), ('linear_layer.bias', tensor([0.5180]))])\n",
            "Epoch: 51 | Training Loss: 0.038116343319416046 | Testing Loss: 0.042700015008449554\n",
            "OrderedDict([('linear_layer.weight', tensor([[0.5535]])), ('linear_layer.bias', tensor([0.5185]))])\n",
            "Epoch: 52 | Training Loss: 0.037613920867443085 | Testing Loss: 0.042224179953336716\n",
            "OrderedDict([('linear_layer.weight', tensor([[0.5513]])), ('linear_layer.bias', tensor([0.5190]))])\n",
            "Epoch: 53 | Training Loss: 0.037111494690179825 | Testing Loss: 0.041748374700546265\n",
            "OrderedDict([('linear_layer.weight', tensor([[0.5491]])), ('linear_layer.bias', tensor([0.5195]))])\n",
            "Epoch: 54 | Training Loss: 0.03660907596349716 | Testing Loss: 0.041272539645433426\n",
            "OrderedDict([('linear_layer.weight', tensor([[0.5469]])), ('linear_layer.bias', tensor([0.5200]))])\n",
            "Epoch: 55 | Training Loss: 0.03613877668976784 | Testing Loss: 0.040743179619312286\n",
            "OrderedDict([('linear_layer.weight', tensor([[0.5450]])), ('linear_layer.bias', tensor([0.5210]))])\n",
            "Epoch: 56 | Training Loss: 0.035672061145305634 | Testing Loss: 0.040213800966739655\n",
            "OrderedDict([('linear_layer.weight', tensor([[0.5431]])), ('linear_layer.bias', tensor([0.5220]))])\n",
            "Epoch: 57 | Training Loss: 0.03520534932613373 | Testing Loss: 0.03968443349003792\n",
            "OrderedDict([('linear_layer.weight', tensor([[0.5412]])), ('linear_layer.bias', tensor([0.5230]))])\n",
            "Epoch: 58 | Training Loss: 0.03473861888051033 | Testing Loss: 0.039155054837465286\n",
            "OrderedDict([('linear_layer.weight', tensor([[0.5393]])), ('linear_layer.bias', tensor([0.5240]))])\n",
            "Epoch: 59 | Training Loss: 0.03427191451191902 | Testing Loss: 0.03862567991018295\n",
            "OrderedDict([('linear_layer.weight', tensor([[0.5374]])), ('linear_layer.bias', tensor([0.5250]))])\n",
            "Epoch: 60 | Training Loss: 0.03380519151687622 | Testing Loss: 0.03809630125761032\n",
            "OrderedDict([('linear_layer.weight', tensor([[0.5355]])), ('linear_layer.bias', tensor([0.5260]))])\n",
            "Epoch: 61 | Training Loss: 0.03333847224712372 | Testing Loss: 0.03756692260503769\n",
            "OrderedDict([('linear_layer.weight', tensor([[0.5335]])), ('linear_layer.bias', tensor([0.5270]))])\n",
            "Epoch: 62 | Training Loss: 0.03287176042795181 | Testing Loss: 0.03703756257891655\n",
            "OrderedDict([('linear_layer.weight', tensor([[0.5316]])), ('linear_layer.bias', tensor([0.5280]))])\n",
            "Epoch: 63 | Training Loss: 0.03240504115819931 | Testing Loss: 0.03650818392634392\n",
            "OrderedDict([('linear_layer.weight', tensor([[0.5297]])), ('linear_layer.bias', tensor([0.5290]))])\n",
            "Epoch: 64 | Training Loss: 0.03193832188844681 | Testing Loss: 0.03597881644964218\n",
            "OrderedDict([('linear_layer.weight', tensor([[0.5278]])), ('linear_layer.bias', tensor([0.5300]))])\n",
            "Epoch: 65 | Training Loss: 0.031471602618694305 | Testing Loss: 0.03544943779706955\n",
            "OrderedDict([('linear_layer.weight', tensor([[0.5259]])), ('linear_layer.bias', tensor([0.5310]))])\n",
            "Epoch: 66 | Training Loss: 0.0310048945248127 | Testing Loss: 0.03492005541920662\n",
            "OrderedDict([('linear_layer.weight', tensor([[0.5240]])), ('linear_layer.bias', tensor([0.5320]))])\n",
            "Epoch: 67 | Training Loss: 0.030538171529769897 | Testing Loss: 0.03439068794250488\n",
            "OrderedDict([('linear_layer.weight', tensor([[0.5220]])), ('linear_layer.bias', tensor([0.5330]))])\n",
            "Epoch: 68 | Training Loss: 0.03007146157324314 | Testing Loss: 0.03386131674051285\n",
            "OrderedDict([('linear_layer.weight', tensor([[0.5201]])), ('linear_layer.bias', tensor([0.5340]))])\n",
            "Epoch: 69 | Training Loss: 0.029604732990264893 | Testing Loss: 0.033331938087940216\n",
            "OrderedDict([('linear_layer.weight', tensor([[0.5182]])), ('linear_layer.bias', tensor([0.5350]))])\n",
            "Epoch: 70 | Training Loss: 0.029138019308447838 | Testing Loss: 0.032802581787109375\n",
            "OrderedDict([('linear_layer.weight', tensor([[0.5163]])), ('linear_layer.bias', tensor([0.5360]))])\n",
            "Epoch: 71 | Training Loss: 0.028671300038695335 | Testing Loss: 0.03227320313453674\n",
            "OrderedDict([('linear_layer.weight', tensor([[0.5144]])), ('linear_layer.bias', tensor([0.5370]))])\n",
            "Epoch: 72 | Training Loss: 0.02820459008216858 | Testing Loss: 0.03174383193254471\n",
            "OrderedDict([('linear_layer.weight', tensor([[0.5125]])), ('linear_layer.bias', tensor([0.5380]))])\n",
            "Epoch: 73 | Training Loss: 0.027737870812416077 | Testing Loss: 0.031214440241456032\n",
            "OrderedDict([('linear_layer.weight', tensor([[0.5106]])), ('linear_layer.bias', tensor([0.5390]))])\n",
            "Epoch: 74 | Training Loss: 0.02727116085588932 | Testing Loss: 0.030685078352689743\n",
            "OrderedDict([('linear_layer.weight', tensor([[0.5086]])), ('linear_layer.bias', tensor([0.5400]))])\n",
            "Epoch: 75 | Training Loss: 0.02680443599820137 | Testing Loss: 0.030155707150697708\n",
            "OrderedDict([('linear_layer.weight', tensor([[0.5067]])), ('linear_layer.bias', tensor([0.5410]))])\n",
            "Epoch: 76 | Training Loss: 0.026337724179029465 | Testing Loss: 0.029626334086060524\n",
            "OrderedDict([('linear_layer.weight', tensor([[0.5048]])), ('linear_layer.bias', tensor([0.5420]))])\n",
            "Epoch: 77 | Training Loss: 0.025871003046631813 | Testing Loss: 0.029096955433487892\n",
            "OrderedDict([('linear_layer.weight', tensor([[0.5029]])), ('linear_layer.bias', tensor([0.5430]))])\n",
            "Epoch: 78 | Training Loss: 0.02540428563952446 | Testing Loss: 0.02856757678091526\n",
            "OrderedDict([('linear_layer.weight', tensor([[0.5010]])), ('linear_layer.bias', tensor([0.5440]))])\n",
            "Epoch: 79 | Training Loss: 0.024937566369771957 | Testing Loss: 0.028038203716278076\n",
            "OrderedDict([('linear_layer.weight', tensor([[0.4991]])), ('linear_layer.bias', tensor([0.5450]))])\n",
            "Epoch: 80 | Training Loss: 0.024470841512084007 | Testing Loss: 0.027508830651640892\n",
            "OrderedDict([('linear_layer.weight', tensor([[0.4972]])), ('linear_layer.bias', tensor([0.5460]))])\n",
            "Epoch: 81 | Training Loss: 0.024004125967621803 | Testing Loss: 0.026979435235261917\n",
            "OrderedDict([('linear_layer.weight', tensor([[0.4952]])), ('linear_layer.bias', tensor([0.5470]))])\n",
            "Epoch: 82 | Training Loss: 0.023537401109933853 | Testing Loss: 0.026450062170624733\n",
            "OrderedDict([('linear_layer.weight', tensor([[0.4933]])), ('linear_layer.bias', tensor([0.5480]))])\n",
            "Epoch: 83 | Training Loss: 0.02307068184018135 | Testing Loss: 0.0259206835180521\n",
            "OrderedDict([('linear_layer.weight', tensor([[0.4914]])), ('linear_layer.bias', tensor([0.5490]))])\n",
            "Epoch: 84 | Training Loss: 0.0226039569824934 | Testing Loss: 0.02539130486547947\n",
            "OrderedDict([('linear_layer.weight', tensor([[0.4895]])), ('linear_layer.bias', tensor([0.5500]))])\n",
            "Epoch: 85 | Training Loss: 0.0221372339874506 | Testing Loss: 0.024861931800842285\n",
            "OrderedDict([('linear_layer.weight', tensor([[0.4876]])), ('linear_layer.bias', tensor([0.5510]))])\n",
            "Epoch: 86 | Training Loss: 0.021670512855052948 | Testing Loss: 0.024332547560334206\n",
            "OrderedDict([('linear_layer.weight', tensor([[0.4857]])), ('linear_layer.bias', tensor([0.5520]))])\n",
            "Epoch: 87 | Training Loss: 0.021204812452197075 | Testing Loss: 0.023751329630613327\n",
            "OrderedDict([('linear_layer.weight', tensor([[0.4840]])), ('linear_layer.bias', tensor([0.5535]))])\n",
            "Epoch: 88 | Training Loss: 0.0207406897097826 | Testing Loss: 0.023221958428621292\n",
            "OrderedDict([('linear_layer.weight', tensor([[0.4821]])), ('linear_layer.bias', tensor([0.5545]))])\n",
            "Epoch: 89 | Training Loss: 0.0202739629894495 | Testing Loss: 0.022692572325468063\n",
            "OrderedDict([('linear_layer.weight', tensor([[0.4802]])), ('linear_layer.bias', tensor([0.5555]))])\n",
            "Epoch: 90 | Training Loss: 0.01980723813176155 | Testing Loss: 0.02216319367289543\n",
            "OrderedDict([('linear_layer.weight', tensor([[0.4783]])), ('linear_layer.bias', tensor([0.5565]))])\n",
            "Epoch: 91 | Training Loss: 0.01934051886200905 | Testing Loss: 0.0216338150203228\n",
            "OrderedDict([('linear_layer.weight', tensor([[0.4764]])), ('linear_layer.bias', tensor([0.5575]))])\n",
            "Epoch: 92 | Training Loss: 0.018873797729611397 | Testing Loss: 0.021104443818330765\n",
            "OrderedDict([('linear_layer.weight', tensor([[0.4745]])), ('linear_layer.bias', tensor([0.5585]))])\n",
            "Epoch: 93 | Training Loss: 0.01840706542134285 | Testing Loss: 0.02057507075369358\n",
            "OrderedDict([('linear_layer.weight', tensor([[0.4725]])), ('linear_layer.bias', tensor([0.5595]))])\n",
            "Epoch: 94 | Training Loss: 0.017940346151590347 | Testing Loss: 0.0200456865131855\n",
            "OrderedDict([('linear_layer.weight', tensor([[0.4706]])), ('linear_layer.bias', tensor([0.5605]))])\n",
            "Epoch: 95 | Training Loss: 0.017473626881837845 | Testing Loss: 0.01951630786061287\n",
            "OrderedDict([('linear_layer.weight', tensor([[0.4687]])), ('linear_layer.bias', tensor([0.5615]))])\n",
            "Epoch: 96 | Training Loss: 0.017007675021886826 | Testing Loss: 0.018935073167085648\n",
            "OrderedDict([('linear_layer.weight', tensor([[0.4671]])), ('linear_layer.bias', tensor([0.5630]))])\n",
            "Epoch: 97 | Training Loss: 0.016543803736567497 | Testing Loss: 0.018405694514513016\n",
            "OrderedDict([('linear_layer.weight', tensor([[0.4652]])), ('linear_layer.bias', tensor([0.5640]))])\n",
            "Epoch: 98 | Training Loss: 0.016077088192105293 | Testing Loss: 0.01787632144987583\n",
            "OrderedDict([('linear_layer.weight', tensor([[0.4632]])), ('linear_layer.bias', tensor([0.5650]))])\n",
            "Epoch: 99 | Training Loss: 0.015610362403094769 | Testing Loss: 0.017346948385238647\n",
            "OrderedDict([('linear_layer.weight', tensor([[0.4613]])), ('linear_layer.bias', tensor([0.5660]))])\n",
            "Epoch: 100 | Training Loss: 0.015143638476729393 | Testing Loss: 0.016817551106214523\n",
            "OrderedDict([('linear_layer.weight', tensor([[0.4594]])), ('linear_layer.bias', tensor([0.5670]))])\n",
            "Epoch: 101 | Training Loss: 0.014676913619041443 | Testing Loss: 0.016288185492157936\n",
            "OrderedDict([('linear_layer.weight', tensor([[0.4575]])), ('linear_layer.bias', tensor([0.5680]))])\n",
            "Epoch: 102 | Training Loss: 0.014210192486643791 | Testing Loss: 0.015758812427520752\n",
            "OrderedDict([('linear_layer.weight', tensor([[0.4556]])), ('linear_layer.bias', tensor([0.5690]))])\n",
            "Epoch: 103 | Training Loss: 0.013743467628955841 | Testing Loss: 0.01522943377494812\n",
            "OrderedDict([('linear_layer.weight', tensor([[0.4537]])), ('linear_layer.bias', tensor([0.5700]))])\n",
            "Epoch: 104 | Training Loss: 0.013276743702590466 | Testing Loss: 0.014700055122375488\n",
            "OrderedDict([('linear_layer.weight', tensor([[0.4518]])), ('linear_layer.bias', tensor([0.5710]))])\n",
            "Epoch: 105 | Training Loss: 0.012810547836124897 | Testing Loss: 0.014118838123977184\n",
            "OrderedDict([('linear_layer.weight', tensor([[0.4501]])), ('linear_layer.bias', tensor([0.5725]))])\n",
            "Epoch: 106 | Training Loss: 0.012346920557320118 | Testing Loss: 0.013589459471404552\n",
            "OrderedDict([('linear_layer.weight', tensor([[0.4482]])), ('linear_layer.bias', tensor([0.5735]))])\n",
            "Epoch: 107 | Training Loss: 0.011880201287567616 | Testing Loss: 0.013060075230896473\n",
            "OrderedDict([('linear_layer.weight', tensor([[0.4463]])), ('linear_layer.bias', tensor([0.5745]))])\n",
            "Epoch: 108 | Training Loss: 0.01141347549855709 | Testing Loss: 0.012530696578323841\n",
            "OrderedDict([('linear_layer.weight', tensor([[0.4444]])), ('linear_layer.bias', tensor([0.5755]))])\n",
            "Epoch: 109 | Training Loss: 0.010946748778223991 | Testing Loss: 0.012001311406493187\n",
            "OrderedDict([('linear_layer.weight', tensor([[0.4425]])), ('linear_layer.bias', tensor([0.5765]))])\n",
            "Epoch: 110 | Training Loss: 0.010480029508471489 | Testing Loss: 0.011471939273178577\n",
            "OrderedDict([('linear_layer.weight', tensor([[0.4405]])), ('linear_layer.bias', tensor([0.5775]))])\n",
            "Epoch: 111 | Training Loss: 0.01001330278813839 | Testing Loss: 0.010942548513412476\n",
            "OrderedDict([('linear_layer.weight', tensor([[0.4386]])), ('linear_layer.bias', tensor([0.5785]))])\n",
            "Epoch: 112 | Training Loss: 0.00954658817499876 | Testing Loss: 0.010413175448775291\n",
            "OrderedDict([('linear_layer.weight', tensor([[0.4367]])), ('linear_layer.bias', tensor([0.5795]))])\n",
            "Epoch: 113 | Training Loss: 0.00907986145466566 | Testing Loss: 0.00988379679620266\n",
            "OrderedDict([('linear_layer.weight', tensor([[0.4348]])), ('linear_layer.bias', tensor([0.5805]))])\n",
            "Epoch: 114 | Training Loss: 0.008613398298621178 | Testing Loss: 0.00930258072912693\n",
            "OrderedDict([('linear_layer.weight', tensor([[0.4332]])), ('linear_layer.bias', tensor([0.5820]))])\n",
            "Epoch: 115 | Training Loss: 0.008150039240717888 | Testing Loss: 0.008773202076554298\n",
            "OrderedDict([('linear_layer.weight', tensor([[0.4312]])), ('linear_layer.bias', tensor([0.5830]))])\n",
            "Epoch: 116 | Training Loss: 0.007683312986046076 | Testing Loss: 0.008243834599852562\n",
            "OrderedDict([('linear_layer.weight', tensor([[0.4293]])), ('linear_layer.bias', tensor([0.5840]))])\n",
            "Epoch: 117 | Training Loss: 0.0072165923193097115 | Testing Loss: 0.007714450359344482\n",
            "OrderedDict([('linear_layer.weight', tensor([[0.4274]])), ('linear_layer.bias', tensor([0.5850]))])\n",
            "Epoch: 118 | Training Loss: 0.00674987118691206 | Testing Loss: 0.007185083813965321\n",
            "OrderedDict([('linear_layer.weight', tensor([[0.4255]])), ('linear_layer.bias', tensor([0.5860]))])\n",
            "Epoch: 119 | Training Loss: 0.0062831430695950985 | Testing Loss: 0.006655699107795954\n",
            "OrderedDict([('linear_layer.weight', tensor([[0.4236]])), ('linear_layer.bias', tensor([0.5870]))])\n",
            "Epoch: 120 | Training Loss: 0.005816423799842596 | Testing Loss: 0.006126308348029852\n",
            "OrderedDict([('linear_layer.weight', tensor([[0.4217]])), ('linear_layer.bias', tensor([0.5880]))])\n",
            "Epoch: 121 | Training Loss: 0.005349710583686829 | Testing Loss: 0.005596923641860485\n",
            "OrderedDict([('linear_layer.weight', tensor([[0.4198]])), ('linear_layer.bias', tensor([0.5890]))])\n",
            "Epoch: 122 | Training Loss: 0.00488297501578927 | Testing Loss: 0.005067551042884588\n",
            "OrderedDict([('linear_layer.weight', tensor([[0.4178]])), ('linear_layer.bias', tensor([0.5900]))])\n",
            "Epoch: 123 | Training Loss: 0.004416261799633503 | Testing Loss: 0.0044863224029541016\n",
            "OrderedDict([('linear_layer.weight', tensor([[0.4162]])), ('linear_layer.bias', tensor([0.5915]))])\n",
            "Epoch: 124 | Training Loss: 0.0039661661721765995 | Testing Loss: 0.004010510630905628\n",
            "OrderedDict([('linear_layer.weight', tensor([[0.4140]])), ('linear_layer.bias', tensor([0.5920]))])\n",
            "Epoch: 125 | Training Loss: 0.0034916908480226994 | Testing Loss: 0.0034292936325073242\n",
            "OrderedDict([('linear_layer.weight', tensor([[0.4124]])), ('linear_layer.bias', tensor([0.5935]))])\n",
            "Epoch: 126 | Training Loss: 0.0030314966570585966 | Testing Loss: 0.002953481627628207\n",
            "OrderedDict([('linear_layer.weight', tensor([[0.4102]])), ('linear_layer.bias', tensor([0.5940]))])\n",
            "Epoch: 127 | Training Loss: 0.00257084215991199 | Testing Loss: 0.002444916870445013\n",
            "OrderedDict([('linear_layer.weight', tensor([[0.4089]])), ('linear_layer.bias', tensor([0.5960]))])\n",
            "Epoch: 128 | Training Loss: 0.002174134599044919 | Testing Loss: 0.002304858062416315\n",
            "OrderedDict([('linear_layer.weight', tensor([[0.4060]])), ('linear_layer.bias', tensor([0.5950]))])\n",
            "Epoch: 129 | Training Loss: 0.002187925623729825 | Testing Loss: 0.005918771028518677\n",
            "OrderedDict([('linear_layer.weight', tensor([[0.4081]])), ('linear_layer.bias', tensor([0.6020]))])\n",
            "Epoch: 130 | Training Loss: 0.00602064561098814 | Testing Loss: 0.006445211358368397\n",
            "OrderedDict([('linear_layer.weight', tensor([[0.4032]])), ('linear_layer.bias', tensor([0.5920]))])\n",
            "Epoch: 131 | Training Loss: 0.0064049153588712215 | Testing Loss: 0.005918771028518677\n",
            "OrderedDict([('linear_layer.weight', tensor([[0.4081]])), ('linear_layer.bias', tensor([0.6020]))])\n",
            "Epoch: 132 | Training Loss: 0.00602064561098814 | Testing Loss: 0.006445211358368397\n",
            "OrderedDict([('linear_layer.weight', tensor([[0.4032]])), ('linear_layer.bias', tensor([0.5920]))])\n",
            "Epoch: 133 | Training Loss: 0.0064049153588712215 | Testing Loss: 0.005918771028518677\n",
            "OrderedDict([('linear_layer.weight', tensor([[0.4081]])), ('linear_layer.bias', tensor([0.6020]))])\n",
            "Epoch: 134 | Training Loss: 0.00602064561098814 | Testing Loss: 0.006445211358368397\n",
            "OrderedDict([('linear_layer.weight', tensor([[0.4032]])), ('linear_layer.bias', tensor([0.5920]))])\n",
            "Epoch: 135 | Training Loss: 0.0064049153588712215 | Testing Loss: 0.005918771028518677\n",
            "OrderedDict([('linear_layer.weight', tensor([[0.4081]])), ('linear_layer.bias', tensor([0.6020]))])\n",
            "Epoch: 136 | Training Loss: 0.00602064561098814 | Testing Loss: 0.006445211358368397\n",
            "OrderedDict([('linear_layer.weight', tensor([[0.4032]])), ('linear_layer.bias', tensor([0.5920]))])\n",
            "Epoch: 137 | Training Loss: 0.0064049153588712215 | Testing Loss: 0.005918771028518677\n",
            "OrderedDict([('linear_layer.weight', tensor([[0.4081]])), ('linear_layer.bias', tensor([0.6020]))])\n",
            "Epoch: 138 | Training Loss: 0.00602064561098814 | Testing Loss: 0.006445211358368397\n",
            "OrderedDict([('linear_layer.weight', tensor([[0.4032]])), ('linear_layer.bias', tensor([0.5920]))])\n",
            "Epoch: 139 | Training Loss: 0.0064049153588712215 | Testing Loss: 0.005918771028518677\n",
            "OrderedDict([('linear_layer.weight', tensor([[0.4081]])), ('linear_layer.bias', tensor([0.6020]))])\n",
            "Epoch: 140 | Training Loss: 0.00602064561098814 | Testing Loss: 0.006445211358368397\n",
            "OrderedDict([('linear_layer.weight', tensor([[0.4032]])), ('linear_layer.bias', tensor([0.5920]))])\n",
            "Epoch: 141 | Training Loss: 0.0064049153588712215 | Testing Loss: 0.005918771028518677\n",
            "OrderedDict([('linear_layer.weight', tensor([[0.4081]])), ('linear_layer.bias', tensor([0.6020]))])\n",
            "Epoch: 142 | Training Loss: 0.00602064561098814 | Testing Loss: 0.006445211358368397\n",
            "OrderedDict([('linear_layer.weight', tensor([[0.4032]])), ('linear_layer.bias', tensor([0.5920]))])\n",
            "Epoch: 143 | Training Loss: 0.0064049153588712215 | Testing Loss: 0.005918771028518677\n",
            "OrderedDict([('linear_layer.weight', tensor([[0.4081]])), ('linear_layer.bias', tensor([0.6020]))])\n",
            "Epoch: 144 | Training Loss: 0.00602064561098814 | Testing Loss: 0.006445211358368397\n",
            "OrderedDict([('linear_layer.weight', tensor([[0.4032]])), ('linear_layer.bias', tensor([0.5920]))])\n",
            "Epoch: 145 | Training Loss: 0.0064049153588712215 | Testing Loss: 0.005918771028518677\n",
            "OrderedDict([('linear_layer.weight', tensor([[0.4081]])), ('linear_layer.bias', tensor([0.6020]))])\n",
            "Epoch: 146 | Training Loss: 0.00602064561098814 | Testing Loss: 0.006445211358368397\n",
            "OrderedDict([('linear_layer.weight', tensor([[0.4032]])), ('linear_layer.bias', tensor([0.5920]))])\n",
            "Epoch: 147 | Training Loss: 0.0064049153588712215 | Testing Loss: 0.005918771028518677\n",
            "OrderedDict([('linear_layer.weight', tensor([[0.4081]])), ('linear_layer.bias', tensor([0.6020]))])\n",
            "Epoch: 148 | Training Loss: 0.00602064561098814 | Testing Loss: 0.006445211358368397\n",
            "OrderedDict([('linear_layer.weight', tensor([[0.4032]])), ('linear_layer.bias', tensor([0.5920]))])\n",
            "Epoch: 149 | Training Loss: 0.0064049153588712215 | Testing Loss: 0.005918771028518677\n",
            "OrderedDict([('linear_layer.weight', tensor([[0.4081]])), ('linear_layer.bias', tensor([0.6020]))])\n"
          ]
        }
      ]
    },
    {
      "cell_type": "code",
      "source": [
        "plot_predictions(predictions=test_pred)"
      ],
      "metadata": {
        "id": "qv2AD17gqFzr",
        "colab": {
          "base_uri": "https://localhost:8080/",
          "height": 428
        },
        "outputId": "fb326ada-2e31-43a7-e187-4659b6c96e63"
      },
      "execution_count": 10,
      "outputs": [
        {
          "output_type": "display_data",
          "data": {
            "text/plain": [
              "<Figure size 720x504 with 1 Axes>"
            ],
            "image/png": "[encoded data removed]"
          },
          "metadata": {
            "needs_background": "light"
          }
        }
      ]
    },
    {
      "cell_type": "code",
      "source": [
        "visualize_loss(np.array(torch.tensor(epoch_count_).numpy()), np.array(torch.tensor(train_loss_).numpy()), np.array(torch.tensor(test_loss_).numpy()))"
      ],
      "metadata": {
        "colab": {
          "base_uri": "https://localhost:8080/",
          "height": 458
        },
        "id": "iDKAWvEM25Ao",
        "outputId": "a81785f9-80fa-4276-b3ff-cff45ed72c13"
      },
      "execution_count": 11,
      "outputs": [
        {
          "output_type": "display_data",
          "data": {
            "text/plain": [
              "<Figure size 720x504 with 1 Axes>"
            ],
            "image/png": "[encoded data removed]"
          },
          "metadata": {
            "needs_background": "light"
          }
        }
      ]
    },
    {
      "cell_type": "markdown",
      "source": [
        "## Saving & Loading a Trained Model"
      ],
      "metadata": {
        "id": "eJUNSEzx4Cdj"
      }
    },
    {
      "cell_type": "code",
      "source": [
        "# Saving our PyTorch model\n",
        "from pathlib import Path\n",
        "\n",
        "# 1. Create models directory\n",
        "MODEL_PATH = Path('models')\n",
        "MODEL_PATH.mkdir(parents=True, exist_ok=True)\n",
        "\n",
        "# 2. Create model save path\n",
        "MODEL_NAME = 'pytorch_workflow_all_together.pth'\n",
        "MODEL_SAVE_PATH = MODEL_PATH/MODEL_NAME\n",
        "\n",
        "# 3. Save the model state dict\n",
        "torch.save(model.state_dict(), MODEL_SAVE_PATH)"
      ],
      "metadata": {
        "id": "r9amp_Nh7e4A"
      },
      "execution_count": 12,
      "outputs": []
    }
  ]
}