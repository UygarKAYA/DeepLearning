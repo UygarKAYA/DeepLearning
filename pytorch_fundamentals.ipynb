{
  "cells": [
    {
      "cell_type": "code",
      "execution_count": 1,
      "metadata": {
        "id": "jyX0ldQSvKvu"
      },
      "outputs": [],
      "source": [
        "import torch\n",
        "import pandas as pd \n",
        "import numpy as np\n",
        "\n",
        "from matplotlib import pyplot as plt"
      ]
    },
    {
      "cell_type": "markdown",
      "metadata": {
        "id": "2A6lEV_dwEaA"
      },
      "source": [
        "## Introduction to Tensors\n",
        "# Creating Tensors"
      ]
    },
    {
      "cell_type": "code",
      "execution_count": 2,
      "metadata": {
        "colab": {
          "base_uri": "https://localhost:8080/"
        },
        "id": "QcdNvn2jxGv4",
        "outputId": "a72c9dc0-935f-438f-e058-45d5c132cbc4"
      },
      "outputs": [
        {
          "data": {
            "text/plain": [
              "7"
            ]
          },
          "execution_count": 2,
          "metadata": {},
          "output_type": "execute_result"
        }
      ],
      "source": [
        "# Scalar\n",
        "scalar = torch.tensor(7) # Create a Scalar\n",
        "scalar.item() # Get the Python int from PyTorch Scalar"
      ]
    },
    {
      "cell_type": "code",
      "execution_count": 3,
      "metadata": {
        "colab": {
          "base_uri": "https://localhost:8080/"
        },
        "id": "eSwIHhEAx7_c",
        "outputId": "ea961384-e74c-4ce4-991e-cf28ed3cb668"
      },
      "outputs": [
        {
          "data": {
            "text/plain": [
              "tensor([5, 6, 7])"
            ]
          },
          "execution_count": 3,
          "metadata": {},
          "output_type": "execute_result"
        }
      ],
      "source": [
        "# Vector\n",
        "vector = torch.tensor([5, 6, 7])\n",
        "vector"
      ]
    },
    {
      "cell_type": "code",
      "execution_count": 4,
      "metadata": {
        "colab": {
          "base_uri": "https://localhost:8080/"
        },
        "id": "1yd3c1HjzSEG",
        "outputId": "64fa2c09-5137-4336-9a93-084cff6f0743"
      },
      "outputs": [
        {
          "data": {
            "text/plain": [
              "tensor([[7, 7],\n",
              "        [4, 3]])"
            ]
          },
          "execution_count": 4,
          "metadata": {},
          "output_type": "execute_result"
        }
      ],
      "source": [
        "# Matrix\n",
        "matrix = torch.tensor([[7, 7],\n",
        "                              [4, 3]])\n",
        "matrix"
      ]
    },
    {
      "cell_type": "code",
      "execution_count": 5,
      "metadata": {
        "colab": {
          "base_uri": "https://localhost:8080/"
        },
        "id": "wy02RKmu0Hty",
        "outputId": "1f1734c5-663e-4293-8790-edccf0e016ea"
      },
      "outputs": [
        {
          "data": {
            "text/plain": [
              "tensor([[[1, 2, 3],\n",
              "         [4, 5, 6],\n",
              "         [7, 8, 9]]])"
            ]
          },
          "execution_count": 5,
          "metadata": {},
          "output_type": "execute_result"
        }
      ],
      "source": [
        "# Tensor\n",
        "tensor = torch.tensor([[[1, 2, 3], \n",
        "                        [4, 5, 6],\n",
        "                        [7, 8, 9]]])\n",
        "\n",
        "tensor"
      ]
    },
    {
      "cell_type": "markdown",
      "metadata": {
        "id": "zhjQHiV433Xa"
      },
      "source": [
        "## Random Tensor"
      ]
    },
    {
      "cell_type": "code",
      "execution_count": 6,
      "metadata": {
        "colab": {
          "base_uri": "https://localhost:8080/"
        },
        "id": "ziVPc_kn9afY",
        "outputId": "bf18c946-a31a-420f-f8e2-c9e578045433"
      },
      "outputs": [
        {
          "data": {
            "text/plain": [
              "tensor([[0.5888, 0.4612, 0.6420, 0.3686],\n",
              "        [0.7693, 0.5800, 0.0486, 0.8621],\n",
              "        [0.7844, 0.2326, 0.9111, 0.2839]])"
            ]
          },
          "execution_count": 6,
          "metadata": {},
          "output_type": "execute_result"
        }
      ],
      "source": [
        "# Create a Random Tensor\n",
        "random_tensor = torch.rand(3, 4)\n",
        "random_tensor"
      ]
    },
    {
      "cell_type": "code",
      "execution_count": 7,
      "metadata": {
        "colab": {
          "base_uri": "https://localhost:8080/"
        },
        "id": "k7hcTaKv9eSA",
        "outputId": "a6117b25-93fe-439b-f5e5-b5a7aacbb2d9"
      },
      "outputs": [
        {
          "data": {
            "text/plain": [
              "(torch.Size([250, 250, 3]), 3)"
            ]
          },
          "execution_count": 7,
          "metadata": {},
          "output_type": "execute_result"
        }
      ],
      "source": [
        "# Create a random tensor with similar shape to an image\n",
        "random_image_tensor = torch.rand(250, 250, 3) # height, widgth, colour channel -> (R, G, B)\n",
        "random_image_tensor.shape, random_image_tensor.ndim"
      ]
    },
    {
      "cell_type": "markdown",
      "metadata": {
        "id": "9acUYSrjGuqN"
      },
      "source": [
        "## Zeros and Ones"
      ]
    },
    {
      "cell_type": "code",
      "execution_count": 8,
      "metadata": {
        "colab": {
          "base_uri": "https://localhost:8080/"
        },
        "id": "8F0mIyX3Hu2w",
        "outputId": "c43dd803-6e41-49fe-c5b3-17d4216e7c66"
      },
      "outputs": [
        {
          "data": {
            "text/plain": [
              "tensor([[0., 0., 0., 0.],\n",
              "        [0., 0., 0., 0.],\n",
              "        [0., 0., 0., 0.]])"
            ]
          },
          "execution_count": 8,
          "metadata": {},
          "output_type": "execute_result"
        }
      ],
      "source": [
        "# Create a tensor of all zeros\n",
        "zeros = torch.zeros(size=(3, 4))\n",
        "zeros"
      ]
    },
    {
      "cell_type": "code",
      "execution_count": 9,
      "metadata": {
        "colab": {
          "base_uri": "https://localhost:8080/"
        },
        "id": "zsb4VDUuHu0a",
        "outputId": "fddb23f9-2af7-4b10-c4c2-048872cdcc17"
      },
      "outputs": [
        {
          "data": {
            "text/plain": [
              "tensor([[1., 1., 1., 1.],\n",
              "        [1., 1., 1., 1.],\n",
              "        [1., 1., 1., 1.]])"
            ]
          },
          "execution_count": 9,
          "metadata": {},
          "output_type": "execute_result"
        }
      ],
      "source": [
        "# Create a tensor of all Ones\n",
        "ones = torch.ones(size=(3, 4))\n",
        "ones"
      ]
    },
    {
      "cell_type": "markdown",
      "metadata": {
        "id": "_z_WYaBjHuyD"
      },
      "source": [
        "## Creating a Range of Tensors and Tensors-Like"
      ]
    },
    {
      "cell_type": "code",
      "execution_count": 10,
      "metadata": {
        "colab": {
          "base_uri": "https://localhost:8080/"
        },
        "id": "KlFooilOHuvt",
        "outputId": "68645971-a887-4c43-b95e-b15229fe7ff3"
      },
      "outputs": [
        {
          "data": {
            "text/plain": [
              "tensor([  0,  50, 100, 150, 200, 250, 300, 350, 400, 450, 500, 550, 600, 650,\n",
              "        700, 750, 800, 850, 900, 950])"
            ]
          },
          "execution_count": 10,
          "metadata": {},
          "output_type": "execute_result"
        }
      ],
      "source": [
        "# Use a torch.range()\n",
        "\n",
        "zero_to_nine = torch.arange(start=0, end=10)\n",
        "range_with_step = torch.arange(0, 1000, 50)\n",
        "\n",
        "range_with_step"
      ]
    },
    {
      "cell_type": "code",
      "execution_count": 11,
      "metadata": {
        "colab": {
          "base_uri": "https://localhost:8080/"
        },
        "id": "fqxLQFeUHukr",
        "outputId": "bc4ec85d-7518-4218-bac2-727447cb34d7"
      },
      "outputs": [
        {
          "data": {
            "text/plain": [
              "tensor([0, 0, 0, 0, 0, 0, 0, 0, 0, 0])"
            ]
          },
          "execution_count": 11,
          "metadata": {},
          "output_type": "execute_result"
        }
      ],
      "source": [
        "# Creating a tensors like\n",
        "ten_zeros = torch.zeros_like(input=zero_to_nine)\n",
        "ten_zeros"
      ]
    },
    {
      "cell_type": "markdown",
      "metadata": {
        "id": "QhrG4BusMmhp"
      },
      "source": [
        " ## Getting Information from Tensors\n",
        "\n",
        " 1. Tensors Datatype -> to do get datatype from a tensor, can use `tensor.dtype`\n",
        " 2. Tensors Shape -> to do get shape from tensor, can use `tensor.shape`\n",
        " 3. Tensors Device -> to do get device info from tensor, can use `tensor.device`"
      ]
    },
    {
      "cell_type": "code",
      "execution_count": 12,
      "metadata": {
        "colab": {
          "base_uri": "https://localhost:8080/"
        },
        "id": "OR4NEH6ZUH-w",
        "outputId": "3791ff66-f940-43a3-a745-d187418747e3"
      },
      "outputs": [
        {
          "data": {
            "text/plain": [
              "tensor([[7.1828e-01, 8.2557e-01, 2.4301e-02, 1.7273e-04, 2.9080e-01, 5.0330e-01],\n",
              "        [6.7093e-01, 1.5533e-01, 1.0489e-01, 1.1800e-01, 4.9550e-01, 1.8638e-01],\n",
              "        [3.9255e-01, 1.1996e-01, 4.5158e-01, 5.6822e-01, 9.7941e-02, 4.3108e-01],\n",
              "        [5.7313e-01, 6.1284e-02, 4.3623e-01, 4.4748e-01, 2.5095e-01, 7.4486e-02],\n",
              "        [1.2791e-01, 7.4426e-01, 6.4227e-01, 8.3511e-01, 5.3315e-01, 9.1653e-01]])"
            ]
          },
          "execution_count": 12,
          "metadata": {},
          "output_type": "execute_result"
        }
      ],
      "source": [
        "# Create a tensor\n",
        "example_tensor = torch.rand(size=(5, 6), device='cpu')\n",
        "example_tensor"
      ]
    },
    {
      "cell_type": "code",
      "execution_count": 13,
      "metadata": {
        "colab": {
          "base_uri": "https://localhost:8080/"
        },
        "id": "gXjJGCiRUjVR",
        "outputId": "6812c3e4-8bab-40ca-ff9f-177425bc96fa"
      },
      "outputs": [
        {
          "name": "stdout",
          "output_type": "stream",
          "text": [
            "Datatype of tensor: torch.float32\n",
            "Shape of tensor: torch.Size([5, 6])\n",
            "Device info of tensor: cpu\n"
          ]
        }
      ],
      "source": [
        "# Find out details about some tensor\n",
        "print(f'Datatype of tensor: {example_tensor.dtype}')\n",
        "print(f'Shape of tensor: {example_tensor.shape}')\n",
        "print(f'Device info of tensor: {example_tensor.device}')"
      ]
    },
    {
      "cell_type": "markdown",
      "metadata": {
        "id": "TA3W_Q0qVNqB"
      },
      "source": [
        "## Manipulating Tensors (tensor operatiıns)\n",
        "\n",
        "Tensor Operations include:\n",
        "  * Addition\n",
        "  * Subtraction\n",
        "  * Multiplication\n",
        "  * Division\n",
        "  * Matrix Multiplication"
      ]
    },
    {
      "cell_type": "code",
      "execution_count": 14,
      "metadata": {
        "colab": {
          "base_uri": "https://localhost:8080/"
        },
        "id": "W5nbIARNdow_",
        "outputId": "958938fc-991b-4760-bf81-39c825cc7f25"
      },
      "outputs": [
        {
          "name": "stdout",
          "output_type": "stream",
          "text": [
            "before the addition: tensor([[0.2130, 0.5221, 0.1572, 0.2799],\n",
            "        [0.9152, 0.1798, 0.1632, 0.9341],\n",
            "        [0.0373, 0.5979, 0.5678, 0.7873]])\n",
            "after the addition: tensor([[10.2130, 10.5221, 10.1572, 10.2799],\n",
            "        [10.9152, 10.1798, 10.1632, 10.9341],\n",
            "        [10.0373, 10.5979, 10.5678, 10.7873]])\n"
          ]
        }
      ],
      "source": [
        "# Tensor Operation - Addition \n",
        "\n",
        "# Create a random tensor\n",
        "tensor = torch.rand(3, 4)\n",
        "print(f'before the addition: {tensor}')\n",
        "tensor = tensor + 10 # addition the tensor for each element\n",
        "print(f'after the addition: {tensor}')"
      ]
    },
    {
      "cell_type": "code",
      "execution_count": 15,
      "metadata": {
        "colab": {
          "base_uri": "https://localhost:8080/"
        },
        "id": "jgtnNcz2douY",
        "outputId": "0c31f93e-07fc-4a5d-d10f-f6f4ff0c4093"
      },
      "outputs": [
        {
          "name": "stdout",
          "output_type": "stream",
          "text": [
            "before the multiplication: tensor([[0.5370, 0.5945, 0.5963, 0.9733],\n",
            "        [0.9577, 0.6133, 0.2791, 0.7734],\n",
            "        [0.9156, 0.9774, 0.6424, 0.1087]])\n",
            "after the multiplication: tensor([[5.3696, 5.9447, 5.9626, 9.7330],\n",
            "        [9.5772, 6.1328, 2.7908, 7.7343],\n",
            "        [9.1559, 9.7744, 6.4242, 1.0868]])\n"
          ]
        }
      ],
      "source": [
        "# Tensor Operation - Multiplication\n",
        "\n",
        "# Create a random tensor\n",
        "tensor = torch.rand(3, 4)\n",
        "print(f'before the multiplication: {tensor}')\n",
        "tensor = tensor * 10 # multiply the tensor for each element\n",
        "print(f'after the multiplication: {tensor}')"
      ]
    },
    {
      "cell_type": "code",
      "execution_count": 16,
      "metadata": {
        "colab": {
          "base_uri": "https://localhost:8080/"
        },
        "id": "TFhfy6cQdosC",
        "outputId": "588ea77f-dc11-445b-eca5-2fa27dbc6d5b"
      },
      "outputs": [
        {
          "name": "stdout",
          "output_type": "stream",
          "text": [
            "before the subtraction: tensor([[0.6871, 0.2323, 0.5557, 0.4797],\n",
            "        [0.6837, 0.1680, 0.4544, 0.5710],\n",
            "        [0.8750, 0.7647, 0.3471, 0.9464]])\n",
            "after the subtraction: tensor([[-9.3129, -9.7677, -9.4443, -9.5203],\n",
            "        [-9.3163, -9.8320, -9.5456, -9.4290],\n",
            "        [-9.1250, -9.2353, -9.6529, -9.0536]])\n"
          ]
        }
      ],
      "source": [
        "# Tensor Operation - Subtruction\n",
        "\n",
        "# Create a random tensor\n",
        "tensor = torch.rand(3, 4)\n",
        "print(f'before the subtraction: {tensor}')\n",
        "tensor = tensor - 10 # subtract the tensor for each element\n",
        "print(f'after the subtraction: {tensor}')"
      ]
    },
    {
      "cell_type": "code",
      "execution_count": 17,
      "metadata": {
        "colab": {
          "base_uri": "https://localhost:8080/"
        },
        "id": "o2zOTR1JdopW",
        "outputId": "b1c297da-7257-45ea-b9d3-44fd327df205"
      },
      "outputs": [
        {
          "name": "stdout",
          "output_type": "stream",
          "text": [
            "before the division: tensor([[0.5719, 0.0687, 0.1269, 0.8702],\n",
            "        [0.4913, 0.7992, 0.9931, 0.5606],\n",
            "        [0.9630, 0.5576, 0.2703, 0.8299]])\n",
            "after the division: tensor([[0.0572, 0.0069, 0.0127, 0.0870],\n",
            "        [0.0491, 0.0799, 0.0993, 0.0561],\n",
            "        [0.0963, 0.0558, 0.0270, 0.0830]])\n"
          ]
        }
      ],
      "source": [
        "# Tensor Operation - Division\n",
        "\n",
        "# Create a random tensor\n",
        "tensor = torch.rand(3, 4)\n",
        "print(f'before the division: {tensor}')\n",
        "tensor = tensor / 10 # division the tensor for each element\n",
        "print(f'after the division: {tensor}')"
      ]
    },
    {
      "cell_type": "markdown",
      "metadata": {
        "id": "JgeCXkVkdom2"
      },
      "source": [
        "## Matrix Multiplication\n",
        "  * Element-wise Multiplication\n",
        "  * Matrix Multiplication - (dot product)\n",
        "\n",
        "The main two rules for matrix multiplication to remember are:\n",
        "  1. The ***inner dimensions*** must match:\n",
        "\n",
        "  * `(3, 2) @ (3, 2)` -> won't work\n",
        "  * `(2, 3) @ (3, 2)` -> will work\n",
        "  * `(3, 2) @ (2, 3)` -> will work\n",
        "\n",
        "  2. The resulting matrix has the shape of the ***outer dimensions***:\n",
        "\n",
        "  * `(2, 3) @ (3, 2) -> (2, 2)`\n",
        "  * `(3, 2) @ (2, 3) -> (3, 3)`\n",
        "\n",
        "Note: `torch.matmul()`, `torch.mm()`, `@` in python is the symbol and functions for matrix multiplication."
      ]
    },
    {
      "cell_type": "code",
      "execution_count": 18,
      "metadata": {
        "colab": {
          "base_uri": "https://localhost:8080/"
        },
        "id": "ml6gXq90doeQ",
        "outputId": "51fbe3fb-66b3-41e7-e168-8de0152de0de"
      },
      "outputs": [
        {
          "name": "stdout",
          "output_type": "stream",
          "text": [
            "tensor([1, 2, 3]) * tensor([1, 2, 3])\n",
            "Equals: tensor([1, 4, 9])\n"
          ]
        }
      ],
      "source": [
        "# Element-wise Operation\n",
        "\n",
        "tensor = torch.tensor([1, 2, 3])\n",
        "print(tensor, '*', tensor)\n",
        "print(f'Equals: {tensor * tensor}')"
      ]
    },
    {
      "cell_type": "code",
      "execution_count": 19,
      "metadata": {
        "colab": {
          "base_uri": "https://localhost:8080/"
        },
        "id": "lqm2rUgvjoHr",
        "outputId": "2273689d-3c23-4c3c-d53a-d48164db9a03"
      },
      "outputs": [
        {
          "name": "stdout",
          "output_type": "stream",
          "text": [
            "Result: tensor([[0.7945, 0.5036],\n",
            "        [0.1054, 0.0794]])\n"
          ]
        }
      ],
      "source": [
        "# Matrix Multiplication\n",
        "\n",
        "first_tensor = torch.rand(2, 3)\n",
        "second_tensor = torch.rand(3, 2)\n",
        "matrix_mul_result = torch.matmul(first_tensor, second_tensor) # torch.matmul(), torch.mm(), @ -> Matrix Multiplication\n",
        "print(f'Result: {matrix_mul_result}')"
      ]
    },
    {
      "cell_type": "code",
      "execution_count": 20,
      "metadata": {
        "colab": {
          "base_uri": "https://localhost:8080/"
        },
        "id": "YTV-pfoGjoJ-",
        "outputId": "3e593eda-b720-4424-b5da-2bef8f21a263"
      },
      "outputs": [
        {
          "name": "stdout",
          "output_type": "stream",
          "text": [
            "Min: 0\n",
            "Max: 90\n",
            "Mean: 45.0\n",
            "Sum: 450\n"
          ]
        }
      ],
      "source": [
        "## Finding the min, max, mean, sum, etc - (tensor aggregation)\n",
        "# Create a tensor\n",
        "\n",
        "tensor = torch.arange(start=0, end=100, step=10)\n",
        "\n",
        "# Minimum value of tensor -> torch.min(tensor) or tensor.min()\n",
        "print(f'Min: {torch.min(tensor)}')\n",
        "\n",
        "# Maximum value of tensor -> torch.max(tensor) or tensor.max()\n",
        "print(f'Max: {torch.max(tensor)}')\n",
        "\n",
        "# Mean value of tensor -> but before applying, you should convert it to float32 dtype\n",
        "# torch.mean(tensor.type(torch.float32)), tensor.type(torch.float32).mean()\n",
        "print(f'Mean: {torch.mean(tensor.type(torch.float32))}')\n",
        "\n",
        "# Sum of tensor -> torch.sum(tensor) or tensor.sum()\n",
        "print(f'Sum: {torch.sum(tensor)}')"
      ]
    },
    {
      "cell_type": "code",
      "execution_count": 21,
      "metadata": {
        "colab": {
          "base_uri": "https://localhost:8080/"
        },
        "id": "75veZBmRjoMH",
        "outputId": "0fd1352c-4b07-410d-f2b8-6c313caecee6"
      },
      "outputs": [
        {
          "name": "stdout",
          "output_type": "stream",
          "text": [
            "Index of min value: 0\n",
            "Index of max value: 9\n"
          ]
        }
      ],
      "source": [
        "# Find the position in tensor that has the minimum value with argmin()\n",
        "print(f'Index of min value: {tensor.argmin()}')\n",
        "\n",
        "# Find the position in tensor that has the maximum value with argmax()\n",
        "print(f'Index of max value: {tensor.argmax()}')"
      ]
    },
    {
      "cell_type": "markdown",
      "metadata": {
        "id": "p7zVAki4joOq"
      },
      "source": [
        "## Reshaping, stacking, squeezing, and unsqueezing\n",
        "\n",
        "* Reshaping - reshapes an input tensor to a defined shape\n",
        "* View - return a view of an input tensor of certain shape but keep the same memory as the original tensor\n",
        "* Stacking - combine multiple tensors on top of each other (vstack) or side by side (hstack)\n",
        "* Squeeze - removes all `1` dimensions from tensor\n",
        "* Unsqueeze - add a `1` dimension to a target tensor\n",
        "* Permute - Return a view of the input with dimensions permuted (swapped) in a certain way"
      ]
    },
    {
      "cell_type": "code",
      "execution_count": 22,
      "metadata": {
        "colab": {
          "base_uri": "https://localhost:8080/"
        },
        "id": "sXTBef-1joRB",
        "outputId": "270f4c3e-8a20-447a-ab41-27fdf0cabf1e"
      },
      "outputs": [
        {
          "name": "stdout",
          "output_type": "stream",
          "text": [
            "tensor: tensor([1., 2., 3., 4., 5., 6., 7., 8., 9.])\n",
            "shape of tensor: torch.Size([9])\n"
          ]
        }
      ],
      "source": [
        "# Let's create a tensor\n",
        "tensor = torch .arange(1., 10.)\n",
        "print(f'tensor: {tensor}')\n",
        "print(f'shape of tensor: {tensor.shape}')"
      ]
    },
    {
      "cell_type": "code",
      "execution_count": 23,
      "metadata": {
        "colab": {
          "base_uri": "https://localhost:8080/"
        },
        "id": "Z6QY4FnXjoTD",
        "outputId": "c5b0a598-7e1e-4b20-be2c-c1606c4fbc80"
      },
      "outputs": [
        {
          "name": "stdout",
          "output_type": "stream",
          "text": [
            "reshaped tensor: tensor([[1., 2., 3., 4., 5., 6., 7., 8., 9.]])\n",
            "reshaped tensor shape: torch.Size([1, 9])\n"
          ]
        }
      ],
      "source": [
        "# Reshape - add a extra dimension\n",
        "\n",
        "tensor_reshape = tensor.reshape(1, 9)\n",
        "print(f'reshaped tensor: {tensor_reshape}')\n",
        "print(f'reshaped tensor shape: {tensor_reshape.shape}')"
      ]
    },
    {
      "cell_type": "code",
      "execution_count": 24,
      "metadata": {
        "colab": {
          "base_uri": "https://localhost:8080/"
        },
        "id": "mf39chFHjoVB",
        "outputId": "a65a0dd6-c450-4421-ca7d-c6f25d9ac37f"
      },
      "outputs": [
        {
          "name": "stdout",
          "output_type": "stream",
          "text": [
            "view: tensor([[1., 2., 3., 4., 5., 6., 7., 8., 9.]])\n",
            "view of tensor: torch.Size([1, 9])\n"
          ]
        }
      ],
      "source": [
        "# View - change the view\n",
        "# It's similar to reshape, but view keep the same memory as the original tensor\n",
        "# Changes to view change the tensor \n",
        "\n",
        "view = tensor.view(1, 9)\n",
        "print(f'view: {view}')\n",
        "print(f'view of tensor: {view.shape}')"
      ]
    },
    {
      "cell_type": "code",
      "execution_count": 25,
      "metadata": {
        "colab": {
          "base_uri": "https://localhost:8080/"
        },
        "id": "fGk8FNXGCwKw",
        "outputId": "a4169a99-0184-44c2-b39b-64c6588f418e"
      },
      "outputs": [
        {
          "data": {
            "text/plain": [
              "tensor([[1., 2., 3., 4., 5., 6., 7., 8., 9.],\n",
              "        [1., 2., 3., 4., 5., 6., 7., 8., 9.],\n",
              "        [1., 2., 3., 4., 5., 6., 7., 8., 9.]])"
            ]
          },
          "execution_count": 25,
          "metadata": {},
          "output_type": "execute_result"
        }
      ],
      "source": [
        "# Stack - stack tensors on top of each other\n",
        "# Change the `dim` and see what's happening\n",
        "\n",
        "tensor_stacked = torch.stack([tensor, tensor, tensor], dim=0)\n",
        "tensor_stacked"
      ]
    },
    {
      "cell_type": "code",
      "execution_count": 26,
      "metadata": {
        "colab": {
          "base_uri": "https://localhost:8080/"
        },
        "id": "881HvJHFD7E-",
        "outputId": "c2e2d142-af6c-44d6-bd70-532dc4e96ea8"
      },
      "outputs": [
        {
          "name": "stdout",
          "output_type": "stream",
          "text": [
            "before applying squeeze - tensor: tensor([[1., 2., 3., 4., 5., 6., 7., 8., 9.]])\n",
            "before applying squeeze - shape: torch.Size([1, 9])\n",
            "after applying squeeze - tensor: tensor([1., 2., 3., 4., 5., 6., 7., 8., 9.])\n",
            "after applying squeeze - shape: torch.Size([9])\n"
          ]
        }
      ],
      "source": [
        "# torch.squeeze() - removes all single dimensions from a target tensor\n",
        "\n",
        "print(f'before applying squeeze - tensor: {tensor_reshape}')\n",
        "print(f'before applying squeeze - shape: {tensor_reshape.shape}')\n",
        "squeeze = torch.squeeze(tensor_reshape)\n",
        "print(f'after applying squeeze - tensor: {squeeze}')\n",
        "print(f'after applying squeeze - shape: {squeeze.shape}')"
      ]
    },
    {
      "cell_type": "code",
      "execution_count": 27,
      "metadata": {
        "colab": {
          "base_uri": "https://localhost:8080/"
        },
        "id": "vfWMAD-YMryD",
        "outputId": "6e9d2199-09a2-444b-8c22-363d024380d9"
      },
      "outputs": [
        {
          "name": "stdout",
          "output_type": "stream",
          "text": [
            "before applying unsqueeze - tensor: tensor([1., 2., 3., 4., 5., 6., 7., 8., 9.])\n",
            "before applying unsqueeze - shape: torch.Size([9])\n",
            "after applying unsqueeze - tensor: tensor([[1., 2., 3., 4., 5., 6., 7., 8., 9.]])\n",
            "after applying unsqueeze - shape: torch.Size([1, 9])\n"
          ]
        }
      ],
      "source": [
        "# torch.unsqueeze() - add a single dimensions to a target tensor\n",
        "\n",
        "print(f'before applying unsqueeze - tensor: {squeeze}')\n",
        "print(f'before applying unsqueeze - shape: {squeeze.shape}')\n",
        "unsqueeze = torch.unsqueeze(squeeze, dim=0)\n",
        "print(f'after applying unsqueeze - tensor: {unsqueeze}')\n",
        "print(f'after applying unsqueeze - shape: {unsqueeze.shape}')"
      ]
    },
    {
      "cell_type": "code",
      "execution_count": 28,
      "metadata": {
        "colab": {
          "base_uri": "https://localhost:8080/"
        },
        "id": "-pWu4RziNr-7",
        "outputId": "bcbf09c1-8beb-437a-b8da-a426cb4aae54"
      },
      "outputs": [
        {
          "name": "stdout",
          "output_type": "stream",
          "text": [
            "before applying permute - shape: torch.Size([224, 224, 3])\n",
            "after applying permute - shape: torch.Size([3, 224, 224])\n"
          ]
        }
      ],
      "source": [
        "# torch.permute() - rearranges the dimensions of a target tensor in a specified order\n",
        "\n",
        "original_tensor = torch.rand(size=(224, 224, 3)) # [height, width, colour_channels]\n",
        "permuted_tensor = torch.permute(original_tensor, (2, 0, 1)) # shifts axis 0->1, 1->2, 2->0\n",
        "\n",
        "print(f'before applying permute - shape: {original_tensor.shape}')\n",
        "print(f'after applying permute - shape: {permuted_tensor.shape}')"
      ]
    },
    {
      "cell_type": "markdown",
      "metadata": {
        "id": "6C4xbjhtRhkS"
      },
      "source": [
        "## Indexing (selecting data from tensor)\n",
        "\n",
        "* Indexing with PyTorch is similar to indexing with NumPy"
      ]
    },
    {
      "cell_type": "code",
      "execution_count": 29,
      "metadata": {
        "colab": {
          "base_uri": "https://localhost:8080/"
        },
        "id": "KJZCD_AdSmu-",
        "outputId": "d7612864-b516-4a79-f80b-cc228374df08"
      },
      "outputs": [
        {
          "data": {
            "text/plain": [
              "tensor([[[1, 2, 3],\n",
              "         [4, 5, 6],\n",
              "         [7, 8, 9]]])"
            ]
          },
          "execution_count": 29,
          "metadata": {},
          "output_type": "execute_result"
        }
      ],
      "source": [
        "# Create a tensor\n",
        "tensor = torch.arange(1, 10).reshape(1, 3, 3)\n",
        "tensor"
      ]
    },
    {
      "cell_type": "code",
      "execution_count": 30,
      "metadata": {
        "colab": {
          "base_uri": "https://localhost:8080/"
        },
        "id": "ipT9ylXjSmrF",
        "outputId": "9a53808a-3f1f-4efa-ba79-3b8cb26d83cd"
      },
      "outputs": [
        {
          "data": {
            "text/plain": [
              "(tensor([[1, 2, 3],\n",
              "         [4, 5, 6],\n",
              "         [7, 8, 9]]), tensor([1, 2, 3]), tensor(1))"
            ]
          },
          "execution_count": 30,
          "metadata": {},
          "output_type": "execute_result"
        }
      ],
      "source": [
        "# Let's index on our new tensor\n",
        "tensor[0], tensor[0, 0], tensor[0][0][0]"
      ]
    },
    {
      "cell_type": "markdown",
      "metadata": {
        "id": "ZMv84kz_Smou"
      },
      "source": [
        "## PyTorch tensor & NumPy"
      ]
    },
    {
      "cell_type": "code",
      "execution_count": 31,
      "metadata": {
        "colab": {
          "base_uri": "https://localhost:8080/"
        },
        "id": "7KRAbvM-Smmf",
        "outputId": "9809c075-68ad-41cb-f3c1-38661848d5e0"
      },
      "outputs": [
        {
          "name": "stdout",
          "output_type": "stream",
          "text": [
            "NumPy Array: [1. 2. 3. 4. 5. 6. 7. 8. 9.]\n",
            "PyTorch Tensor: tensor([1., 2., 3., 4., 5., 6., 7., 8., 9.], dtype=torch.float64)\n"
          ]
        }
      ],
      "source": [
        "import torch\n",
        "import numpy as np\n",
        "\n",
        "# NumPy array to PyTorch tensor\n",
        "# Create a NumPy array\n",
        "array = np.arange(1., 10.)\n",
        "tensor = torch.from_numpy(array)\n",
        "\n",
        "print(f'NumPy Array: {array}')\n",
        "print(f'PyTorch Tensor: {tensor}')"
      ]
    },
    {
      "cell_type": "code",
      "execution_count": 32,
      "metadata": {
        "colab": {
          "base_uri": "https://localhost:8080/"
        },
        "id": "gBTMGV-MSmkT",
        "outputId": "fe209d10-388b-49b8-a628-b30788a21cc4"
      },
      "outputs": [
        {
          "name": "stdout",
          "output_type": "stream",
          "text": [
            "PyTorch Tensor: tensor([1., 1., 1., 1., 1., 1., 1.])\n",
            "NumPy Array: [1. 1. 1. 1. 1. 1. 1.]\n"
          ]
        }
      ],
      "source": [
        "# PyTorch tensor to NumPy array\n",
        "# Create a tensor\n",
        "tensor = torch.ones(7)\n",
        "array = np.array(tensor)\n",
        "\n",
        "print(f'PyTorch Tensor: {tensor}')\n",
        "print(f'NumPy Array: {array}')"
      ]
    },
    {
      "cell_type": "markdown",
      "metadata": {
        "id": "hVXzjd5BSmiB"
      },
      "source": [
        "## Reproducbility (trying to take random out of random)"
      ]
    },
    {
      "cell_type": "code",
      "execution_count": 33,
      "metadata": {
        "colab": {
          "base_uri": "https://localhost:8080/"
        },
        "id": "CjLm94SASmf6",
        "outputId": "4d19cbc8-c2c3-41d3-ecd2-65bf7f9bf176"
      },
      "outputs": [
        {
          "name": "stdout",
          "output_type": "stream",
          "text": [
            "A: tensor([[0.0320, 0.9874, 0.1640, 0.4601],\n",
            "        [0.6714, 0.3495, 0.9102, 0.3933],\n",
            "        [0.0448, 0.0611, 0.4127, 0.6148]])\n",
            "B: tensor([[0.9439, 0.3798, 0.8769, 0.5964],\n",
            "        [0.4789, 0.6179, 0.9028, 0.2704],\n",
            "        [0.2831, 0.9941, 0.2636, 0.9775]])\n",
            "E: tensor([[False, False, False, False],\n",
            "        [False, False, False, False],\n",
            "        [False, False, False, False]])\n"
          ]
        }
      ],
      "source": [
        "# Create a random tensor\n",
        "\n",
        "random_tensor_a = torch.rand(3, 4)\n",
        "random_tensor_b = torch.rand(3, 4)\n",
        "\n",
        "print(f'A: {random_tensor_a}')\n",
        "print(f'B: {random_tensor_b}')\n",
        "print(f'E: {random_tensor_a == random_tensor_b}')"
      ]
    },
    {
      "cell_type": "code",
      "execution_count": 34,
      "metadata": {
        "colab": {
          "base_uri": "https://localhost:8080/"
        },
        "id": "5Nn3WI20Smdk",
        "outputId": "af9ec85e-b8d1-4ae3-d2af-c8d7736b5e9e"
      },
      "outputs": [
        {
          "name": "stdout",
          "output_type": "stream",
          "text": [
            "A: tensor([[0.8823, 0.9150, 0.3829, 0.9593],\n",
            "        [0.3904, 0.6009, 0.2566, 0.7936],\n",
            "        [0.9408, 0.1332, 0.9346, 0.5936]])\n",
            "B: tensor([[0.8823, 0.9150, 0.3829, 0.9593],\n",
            "        [0.3904, 0.6009, 0.2566, 0.7936],\n",
            "        [0.9408, 0.1332, 0.9346, 0.5936]])\n",
            "E: tensor([[True, True, True, True],\n",
            "        [True, True, True, True],\n",
            "        [True, True, True, True]])\n"
          ]
        }
      ],
      "source": [
        "RANDOM_SEED = 42\n",
        "\n",
        "torch.manual_seed(RANDOM_SEED)\n",
        "random_tensor_a = torch.rand(3, 4)\n",
        "\n",
        "torch.manual_seed(RANDOM_SEED)\n",
        "random_tensor_b = torch.rand(3, 4)\n",
        "\n",
        "print(f'A: {random_tensor_a}')\n",
        "print(f'B: {random_tensor_b}')\n",
        "print(f'E: {random_tensor_a == random_tensor_b}')"
      ]
    },
    {
      "cell_type": "markdown",
      "metadata": {
        "id": "j_64LH8kSmbi"
      },
      "source": [
        "##  Running tensors and PyTorch objects on the GPUs"
      ]
    },
    {
      "cell_type": "code",
      "execution_count": 35,
      "metadata": {
        "colab": {
          "base_uri": "https://localhost:8080/"
        },
        "id": "VmKRpxZrSmY-",
        "outputId": "ee4c3c7b-259b-4a3b-94f3-d6c55d764161"
      },
      "outputs": [
        {
          "name": "stdout",
          "output_type": "stream",
          "text": [
            "Wed Mar 15 17:24:53 2023       \n",
            "+-----------------------------------------------------------------------------+\n",
            "| NVIDIA-SMI 525.85.12    Driver Version: 525.85.12    CUDA Version: 12.0     |\n",
            "|-------------------------------+----------------------+----------------------+\n",
            "| GPU  Name        Persistence-M| Bus-Id        Disp.A | Volatile Uncorr. ECC |\n",
            "| Fan  Temp  Perf  Pwr:Usage/Cap|         Memory-Usage | GPU-Util  Compute M. |\n",
            "|                               |                      |               MIG M. |\n",
            "|===============================+======================+======================|\n",
            "|   0  Tesla T4            Off  | 00000000:00:04.0 Off |                    0 |\n",
            "| N/A   74C    P0    29W /  70W |      0MiB / 15360MiB |      0%      Default |\n",
            "|                               |                      |                  N/A |\n",
            "+-------------------------------+----------------------+----------------------+\n",
            "                                                                               \n",
            "+-----------------------------------------------------------------------------+\n",
            "| Processes:                                                                  |\n",
            "|  GPU   GI   CI        PID   Type   Process name                  GPU Memory |\n",
            "|        ID   ID                                                   Usage      |\n",
            "|=============================================================================|\n",
            "|  No running processes found                                                 |\n",
            "+-----------------------------------------------------------------------------+\n"
          ]
        }
      ],
      "source": [
        "# Find the GPU information\n",
        "!nvidia-smi"
      ]
    },
    {
      "cell_type": "code",
      "execution_count": 36,
      "metadata": {
        "colab": {
          "base_uri": "https://localhost:8080/"
        },
        "id": "eHS4iVcqNgMr",
        "outputId": "61880a13-b19c-421b-aca2-b6050a7200a6"
      },
      "outputs": [
        {
          "data": {
            "text/plain": [
              "True"
            ]
          },
          "execution_count": 36,
          "metadata": {},
          "output_type": "execute_result"
        }
      ],
      "source": [
        "# Check for GPU access with PyTorch\n",
        "import torch\n",
        "torch.cuda.is_available()"
      ]
    },
    {
      "cell_type": "code",
      "execution_count": 37,
      "metadata": {
        "colab": {
          "base_uri": "https://localhost:8080/",
          "height": 35
        },
        "id": "GD_s2f9PNgKG",
        "outputId": "75abe79d-ba61-4133-8a8e-4d0d5fcbe0a5"
      },
      "outputs": [
        {
          "data": {
            "application/vnd.google.colaboratory.intrinsic+json": {
              "type": "string"
            },
            "text/plain": [
              "'cuda'"
            ]
          },
          "execution_count": 37,
          "metadata": {},
          "output_type": "execute_result"
        }
      ],
      "source": [
        "# Setup device agnostic code\n",
        "device = 'cuda' if torch.cuda.is_available() else 'cpu'\n",
        "device"
      ]
    },
    {
      "cell_type": "code",
      "execution_count": 38,
      "metadata": {
        "colab": {
          "base_uri": "https://localhost:8080/"
        },
        "id": "23VijjwMNgHd",
        "outputId": "52d5b7ad-5db9-44af-b704-f5c80ae9f75f"
      },
      "outputs": [
        {
          "data": {
            "text/plain": [
              "1"
            ]
          },
          "execution_count": 38,
          "metadata": {},
          "output_type": "execute_result"
        }
      ],
      "source": [
        "# Count number of devices\n",
        "torch.cuda.device_count()"
      ]
    },
    {
      "cell_type": "markdown",
      "metadata": {
        "id": "QfykmrMINgFB"
      },
      "source": [
        "## Putting tensors/models on the GPU"
      ]
    },
    {
      "cell_type": "code",
      "execution_count": 39,
      "metadata": {
        "colab": {
          "base_uri": "https://localhost:8080/"
        },
        "id": "WHSOMzW0NgCg",
        "outputId": "31342be5-bfa6-4ef1-9c7a-46d6663ce695"
      },
      "outputs": [
        {
          "name": "stdout",
          "output_type": "stream",
          "text": [
            "tensor device: cpu\n"
          ]
        }
      ],
      "source": [
        "# Create a tensor (default on the CPU)\n",
        "tensor = torch.rand(3, 4)\n",
        "print(f'tensor device: {tensor.device}')"
      ]
    },
    {
      "cell_type": "code",
      "execution_count": 40,
      "metadata": {
        "colab": {
          "base_uri": "https://localhost:8080/"
        },
        "id": "4ED37PGkNgAX",
        "outputId": "5e56ac27-9e6e-4771-81cf-51ece0bc0532"
      },
      "outputs": [
        {
          "name": "stdout",
          "output_type": "stream",
          "text": [
            "tensor device: cuda:0\n"
          ]
        }
      ],
      "source": [
        "# Move tensor to GPU (if avaliable)\n",
        "tensor_on_cuda = tensor.to(device)\n",
        "print(f'tensor device: {tensor_on_cuda.device}')"
      ]
    },
    {
      "cell_type": "markdown",
      "metadata": {
        "id": "Udmm4f9GNf93"
      },
      "source": [
        "## Moving tensors/models back to the CPU"
      ]
    },
    {
      "cell_type": "code",
      "execution_count": 41,
      "metadata": {
        "colab": {
          "base_uri": "https://localhost:8080/",
          "height": 186
        },
        "id": "aVBIzcG-SE_L",
        "outputId": "fe8f87c4-bd79-4c0f-b0b1-b14a29da7d81"
      },
      "outputs": [
        {
          "ename": "TypeError",
          "evalue": "ignored",
          "output_type": "error",
          "traceback": [
            "\u001b[0;31m---------------------------------------------------------------------------\u001b[0m",
            "\u001b[0;31mTypeError\u001b[0m                                 Traceback (most recent call last)",
            "\u001b[0;32m<ipython-input-41-668d3155d0ca>\u001b[0m in \u001b[0;36m<module>\u001b[0;34m\u001b[0m\n\u001b[1;32m      1\u001b[0m \u001b[0;31m# If tensor is on GPU, can't transform it to NumPy\u001b[0m\u001b[0;34m\u001b[0m\u001b[0;34m\u001b[0m\u001b[0m\n\u001b[0;32m----> 2\u001b[0;31m \u001b[0mtensor_on_cuda\u001b[0m\u001b[0;34m.\u001b[0m\u001b[0mnumpy\u001b[0m\u001b[0;34m(\u001b[0m\u001b[0;34m)\u001b[0m\u001b[0;34m\u001b[0m\u001b[0;34m\u001b[0m\u001b[0m\n\u001b[0m",
            "\u001b[0;31mTypeError\u001b[0m: can't convert cuda:0 device type tensor to numpy. Use Tensor.cpu() to copy the tensor to host memory first."
          ]
        }
      ],
      "source": [
        "# If tensor is on GPU, can't transform it to NumPy\n",
        "tensor_on_cuda.numpy()"
      ]
    },
    {
      "cell_type": "code",
      "execution_count": 42,
      "metadata": {
        "colab": {
          "base_uri": "https://localhost:8080/"
        },
        "id": "8KDaiQUESE9H",
        "outputId": "4b6c39a5-9ec1-470c-b124-8f2d1da85bbf"
      },
      "outputs": [
        {
          "data": {
            "text/plain": [
              "array([[0.86940444, 0.5677153 , 0.74109405, 0.4294045 ],\n",
              "       [0.8854429 , 0.57390445, 0.26658005, 0.62744915],\n",
              "       [0.26963168, 0.44136357, 0.29692084, 0.8316855 ]], dtype=float32)"
            ]
          },
          "execution_count": 42,
          "metadata": {},
          "output_type": "execute_result"
        }
      ],
      "source": [
        "# To fix the GPU tensor with NumPy issue, we can first set it to the CPU\n",
        "tensor_back_on_cpu = tensor_on_cuda.to('cpu').numpy()\n",
        "tensor_back_on_cpu"
      ]
    }
  ],
  "metadata": {
    "accelerator": "GPU",
    "colab": {
      "provenance": []
    },
    "gpuClass": "standard",
    "kernelspec": {
      "display_name": "Python 3",
      "name": "python3"
    },
    "language_info": {
      "name": "python"
    }
  },
  "nbformat": 4,
  "nbformat_minor": 0
}
