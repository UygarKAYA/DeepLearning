{
  "nbformat": 4,
  "nbformat_minor": 0,
  "metadata": {
    "colab": {
      "provenance": []
    },
    "kernelspec": {
      "name": "python3",
      "display_name": "Python 3"
    },
    "language_info": {
      "name": "python"
    }
  },
  "cells": [
    {
      "cell_type": "markdown",
      "source": [
        "## PyTorch Workflow\n",
        "  * Let's explore an example PyTorch end-to-end workflow"
      ],
      "metadata": {
        "id": "AuP8R-IiVmuG"
      }
    },
    {
      "cell_type": "code",
      "source": [
        "what_were_covering = {1: 'data - (prepare and load data)', \n",
        "                      2: 'build a model',\n",
        "                      3: 'fitting the model to data - (training phase)',\n",
        "                      4: 'making predictions and evaluating a model - (testing/inference)',\n",
        "                      5: 'saving and loading a model',\n",
        "                      6: 'putting it all together'}\n",
        "\n",
        "what_were_covering"
      ],
      "metadata": {
        "colab": {
          "base_uri": "https://localhost:8080/"
        },
        "id": "NnGF2lgnWvv2",
        "outputId": "2a603d01-6f51-440b-be04-369e62d49aed"
      },
      "execution_count": 37,
      "outputs": [
        {
          "output_type": "execute_result",
          "data": {
            "text/plain": [
              "{1: 'data - (prepare and load data)',\n",
              " 2: 'build a model',\n",
              " 3: 'fitting the model to data - (training phase)',\n",
              " 4: 'making predictions and evaluating a model - (testing/inference)',\n",
              " 5: 'saving and loading a model',\n",
              " 6: 'putting it all together'}"
            ]
          },
          "metadata": {},
          "execution_count": 37
        }
      ]
    },
    {
      "cell_type": "code",
      "source": [
        "import torch\n",
        "import numpy as np\n",
        "from torch import nn # nn contains all of PyTorch's building blocks for neural networks\n",
        "from matplotlib import pyplot as plt"
      ],
      "metadata": {
        "id": "ziA8DHz0Wu8Y"
      },
      "execution_count": 38,
      "outputs": []
    },
    {
      "cell_type": "markdown",
      "source": [
        "## 1. Data - Preparing & Loading Data"
      ],
      "metadata": {
        "id": "DAa8cDV1Wuw1"
      }
    },
    {
      "cell_type": "code",
      "source": [
        "# Create *known* parameters\n",
        "weight = 0.7\n",
        "bias = 0.3\n",
        "\n",
        "# Create a dataset with linear regrassion formula\n",
        "start = 0\n",
        "end = 1\n",
        "step = 0.02\n",
        "X = torch.arange(start=start, end=end, step=step).unsqueeze(dim=1) # X -> matrix/tensor\n",
        "y = weight * X + bias # vector"
      ],
      "metadata": {
        "id": "8YTfvOfTWutP"
      },
      "execution_count": 39,
      "outputs": []
    },
    {
      "cell_type": "markdown",
      "source": [
        "## Splitting data into train & test sets\n",
        " * Traning set -> model learns patterns from here\n",
        " * Validation set -> tune model patterns\n",
        " * Testing set -> see if the model is ready for the wild"
      ],
      "metadata": {
        "id": "tR8-bJRGWujb"
      }
    },
    {
      "cell_type": "code",
      "source": [
        " # Let's create a training and testing set with our data\n",
        " # Create a train/test split\n",
        "\n",
        " split = int(0.8 * len(X))\n",
        " X_train, y_train = X[:split], y[:split]\n",
        " X_test, y_test = X[split:], y[split:]\n",
        "\n",
        " len(X_train), len(y_train), len(X_test), len(y_test)"
      ],
      "metadata": {
        "colab": {
          "base_uri": "https://localhost:8080/"
        },
        "id": "Nkk341V4fe7g",
        "outputId": "dafc9a25-4451-4eb0-c83e-0e28eff093eb"
      },
      "execution_count": 40,
      "outputs": [
        {
          "output_type": "execute_result",
          "data": {
            "text/plain": [
              "(40, 40, 10, 10)"
            ]
          },
          "metadata": {},
          "execution_count": 40
        }
      ]
    },
    {
      "cell_type": "markdown",
      "source": [
        "## Visualize the data"
      ],
      "metadata": {
        "id": "M-Yk7-2_fe5Z"
      }
    },
    {
      "cell_type": "code",
      "source": [
        "def plot_predictions(train_data=X_train,\n",
        "                     train_labels=y_train,\n",
        "                     test_data=X_test,\n",
        "                     test_labels=y_test,\n",
        "                     predictions=None):\n",
        "  plt.figure(figsize=(10, 7))\n",
        "\n",
        "  # Plot training data in blue\n",
        "  plt.scatter(train_data, train_labels, c='b', label='Train Data')\n",
        "\n",
        "  # Plot testing data in green\n",
        "  plt.scatter(test_data, test_labels, c='g', label='Test Data')\n",
        "\n",
        "  # Are there predictions?\n",
        "  if predictions is not None:\n",
        "    # Plot the predictions if they exist\n",
        "    plt.scatter(test_data, predictions, c='r', label='Predictions')\n",
        "  \n",
        "  plt.legend(prop={'size': 14})\n",
        "\n",
        "def visualize_loss(epoch_count_list, \n",
        "                   train_loss_list, \n",
        "                   test_loss_list):\n",
        "  plt.figure(figsize=(10, 7))\n",
        "\n",
        "  # Plot training loss\n",
        "  plt.plot(epoch_count_list, train_loss_list, label='Train Loss')\n",
        "  plt.plot(epoch_count_list, test_loss_list, label='Test Loss')\n",
        "  plt.title('Train & Test Loss Curves')\n",
        "  plt.xlabel('Epoch')\n",
        "  plt.ylabel('Loss')\n",
        "  plt.legend(prop={'size': 14})"
      ],
      "metadata": {
        "id": "Y0BE45ETfe04"
      },
      "execution_count": 41,
      "outputs": []
    },
    {
      "cell_type": "code",
      "source": [
        "plot_predictions()"
      ],
      "metadata": {
        "id": "Jwfr7Ze1feyo",
        "colab": {
          "base_uri": "https://localhost:8080/",
          "height": 428
        },
        "outputId": "f3be0b8a-afde-424b-a6ca-15511716ede3"
      },
      "execution_count": 42,
      "outputs": [
        {
          "output_type": "display_data",
          "data": {
            "text/plain": [
              "<Figure size 720x504 with 1 Axes>"
            ],
            "image/png": "[encoded data removed]"
          },
          "metadata": {
            "needs_background": "light"
          }
        }
      ]
    },
    {
      "cell_type": "markdown",
      "source": [
        "## 2. Build First PyTorch Model"
      ],
      "metadata": {
        "id": "wzqtpO2EfewT"
      }
    },
    {
      "cell_type": "code",
      "source": [
        "# Create linear regrassion model class\n",
        "from torch import nn\n",
        "\n",
        "class LinearRegrassionModel(nn.Module):\n",
        "  def __init__(self):\n",
        "    super().__init__()\n",
        "    \n",
        "    # Initilize the model parameters\n",
        "    self.weights = nn.Parameter(torch.randn(1,\n",
        "                                            requires_grad=True,\n",
        "                                            dtype=torch.float))\n",
        "    \n",
        "    self.bias = nn.Parameter(torch.randn(1, \n",
        "                                         requires_grad=True,\n",
        "                                         dtype=torch.float))\n",
        "    \n",
        "  # Forward method to define the computation in the model\n",
        "  def forward(self, x: torch.Tensor) -> torch.Tensor:\n",
        "    return self.weights * x + self.bias"
      ],
      "metadata": {
        "id": "9BFd-5Mjfet_"
      },
      "execution_count": 43,
      "outputs": []
    },
    {
      "cell_type": "markdown",
      "source": [
        "## PyTorch model building essentials\n",
        "\n",
        "* torch.nn - contains all of the buildings for computational graphs (a neural network can be considered a computational graph)\n",
        "* torch.nn.Parameter - what parameters should our model try and learn, often a PyTorch layer from torch.nn will set these for us\n",
        "* torch.nn.Module - The base class for all neural network modules, if you subclass it, you should overwrite forward()\n",
        "* torch.optim - this where the optimizers in PyTorch live, they will help with gradient descent\n",
        "* def forward() - All nn.Module subclasses require you to overwrite forward() this method defines what happens in the forward computation\n"
      ],
      "metadata": {
        "id": "0Nu7UE4jferm"
      }
    },
    {
      "cell_type": "markdown",
      "source": [
        "## Checking the contents of our PyTorch model"
      ],
      "metadata": {
        "id": "Tcjbh_4Pfepa"
      }
    },
    {
      "cell_type": "code",
      "source": [
        "# Create a random seed\n",
        "torch.manual_seed(42)\n",
        "\n",
        "# Create a instance of the model\n",
        "model = LinearRegrassionModel()\n",
        "\n",
        "# Check out the parameters\n",
        "print(f'model.parameter(): {list(model.parameters())}')\n",
        "print(f'model.state_dict(): {model.state_dict()}')"
      ],
      "metadata": {
        "id": "OpV7MgctfenB",
        "colab": {
          "base_uri": "https://localhost:8080/"
        },
        "outputId": "76cf955f-9321-4613-de51-85eea8b23ef5"
      },
      "execution_count": 44,
      "outputs": [
        {
          "output_type": "stream",
          "name": "stdout",
          "text": [
            "model.parameter(): [Parameter containing:\n",
            "tensor([0.3367], requires_grad=True), Parameter containing:\n",
            "tensor([0.1288], requires_grad=True)]\n",
            "model.state_dict(): OrderedDict([('weights', tensor([0.3367])), ('bias', tensor([0.1288]))])\n"
          ]
        }
      ]
    },
    {
      "cell_type": "markdown",
      "source": [
        "## Making Prediction using `torch.inference_mode()`"
      ],
      "metadata": {
        "id": "jD2HGht6fek2"
      }
    },
    {
      "cell_type": "code",
      "source": [
        "with torch.inference_mode():\n",
        "  y_predictions = model(X_test)\n",
        "\n",
        "plot_predictions(predictions=y_predictions)"
      ],
      "metadata": {
        "id": "p0nNdiXXfeiV",
        "colab": {
          "base_uri": "https://localhost:8080/",
          "height": 428
        },
        "outputId": "65505586-2b9c-4dc5-c872-3864b42eb8bf"
      },
      "execution_count": 45,
      "outputs": [
        {
          "output_type": "display_data",
          "data": {
            "text/plain": [
              "<Figure size 720x504 with 1 Axes>"
            ],
            "image/png": "[encoded data removed]"
          },
          "metadata": {
            "needs_background": "light"
          }
        }
      ]
    },
    {
      "cell_type": "markdown",
      "source": [
        "## 3. Train Model\n",
        "\n",
        "Things we need to train:\n",
        "* **Loss function:** A function to measure how wrong your model's predictions are to the ideal outputs, lower is better.\n",
        "* **Optimizer:** Takes into account the loss of a model and adjusts the model's parameters (e.g. weight & bias in our case)"
      ],
      "metadata": {
        "id": "ELutFBbbfeCn"
      }
    },
    {
      "cell_type": "code",
      "source": [
        "# Setup loss function and optimizer \n",
        "\n",
        "loss_function = nn.L1Loss()\n",
        "optimizer = torch.optim.SGD(params=model.parameters(),\n",
        "                            lr=0.01) # stochastic gradient descent"
      ],
      "metadata": {
        "id": "LRdXKVuafeAG"
      },
      "execution_count": 46,
      "outputs": []
    },
    {
      "cell_type": "markdown",
      "source": [
        "# Building a training loop (and testing loop) in PyTorch\n",
        "\n",
        "A couple of things we need in a training loop: \n",
        "0. Loop through the data and do...\n",
        "1. Forward pass (this involves data moving through our model's forward() functions) to make predictions on data - also called **forward propagation**\n",
        "2. Calculate the loss (compare forward pass predictions to ground truth labels)\n",
        "3. Optimizer zero grad\n",
        "4. Loss backward - move backwards through the network to calculate the gradients of each of the parameters of our model with respect to the loss (**backpropagation** - https://www.youtube.com/watch?v=tIeHLnjs5U8)\n",
        "5. Optimizer step - use the optimizer to adjust our model's parameters to try and improve the loss (**gradient descent** - https://youtu.be/IHZwWFHWa-w)\n"
      ],
      "metadata": {
        "id": "sEAcKkzVfd9y"
      }
    },
    {
      "cell_type": "code",
      "source": [
        "torch.manual_seed(42)\n",
        "epochs = 150\n",
        "\n",
        "epoch_count_list = []\n",
        "train_loss_list = []\n",
        "test_loss_list = []\n",
        "\n",
        "# 0. Loop through the data\n",
        "for epoch in range(epochs):\n",
        "  # Set the model to training mode\n",
        "  model.train() # train mode in PyTorch sets all parameters that require gradients to require gradients\n",
        "\n",
        "  # 1. Forward propagation\n",
        "  train_predictions = model(X_train)\n",
        "\n",
        "  # 2. Calculate the train loss\n",
        "  train_loss = loss_function(train_predictions, y_train)\n",
        "\n",
        "  # 3. Optimizer zero grad\n",
        "  optimizer.zero_grad()\n",
        "\n",
        "  # 4. Perform backpropagation on the loss with respect to the parameters of the model (calculate gradients of each parameter)\n",
        "  train_loss.backward()\n",
        "\n",
        "  # 5. Step the optimizer (perform gradient descent)\n",
        "  optimizer.step()\n",
        "\n",
        "  # Testing\n",
        "  model.eval()\n",
        "  with torch.inference_mode():\n",
        "    # 1. Do the forward pass\n",
        "    test_predictions = model(X_test)\n",
        "\n",
        "    # 2. Calculate the test loss\n",
        "    test_loss = loss_function(test_predictions, y_test)\n",
        "\n",
        "  # Print each epoch\n",
        "  print(f'Epoch: {epoch} | Training Loss: {train_loss} | Testing Loss: {test_loss}')\n",
        "  print(model.state_dict())\n",
        "\n",
        "  epoch_count_list.append(epoch)\n",
        "  train_loss_list.append(train_loss)\n",
        "  test_loss_list.append(test_loss)"
      ],
      "metadata": {
        "colab": {
          "base_uri": "https://localhost:8080/"
        },
        "id": "zssnq0DydZrT",
        "outputId": "f763ddea-46f0-4183-c34d-da467629d285"
      },
      "execution_count": 47,
      "outputs": [
        {
          "output_type": "stream",
          "name": "stdout",
          "text": [
            "Epoch: 0 | Training Loss: 0.31288138031959534 | Testing Loss: 0.48106518387794495\n",
            "OrderedDict([('weights', tensor([0.3406])), ('bias', tensor([0.1388]))])\n",
            "Epoch: 1 | Training Loss: 0.3013603389263153 | Testing Loss: 0.4675942063331604\n",
            "OrderedDict([('weights', tensor([0.3445])), ('bias', tensor([0.1488]))])\n",
            "Epoch: 2 | Training Loss: 0.28983935713768005 | Testing Loss: 0.4541231691837311\n",
            "OrderedDict([('weights', tensor([0.3484])), ('bias', tensor([0.1588]))])\n",
            "Epoch: 3 | Training Loss: 0.2783183455467224 | Testing Loss: 0.44065219163894653\n",
            "OrderedDict([('weights', tensor([0.3523])), ('bias', tensor([0.1688]))])\n",
            "Epoch: 4 | Training Loss: 0.26679736375808716 | Testing Loss: 0.4271811842918396\n",
            "OrderedDict([('weights', tensor([0.3562])), ('bias', tensor([0.1788]))])\n",
            "Epoch: 5 | Training Loss: 0.2552763521671295 | Testing Loss: 0.41371020674705505\n",
            "OrderedDict([('weights', tensor([0.3601])), ('bias', tensor([0.1888]))])\n",
            "Epoch: 6 | Training Loss: 0.24375534057617188 | Testing Loss: 0.40023916959762573\n",
            "OrderedDict([('weights', tensor([0.3640])), ('bias', tensor([0.1988]))])\n",
            "Epoch: 7 | Training Loss: 0.23223432898521423 | Testing Loss: 0.3867681920528412\n",
            "OrderedDict([('weights', tensor([0.3679])), ('bias', tensor([0.2088]))])\n",
            "Epoch: 8 | Training Loss: 0.22071333229541779 | Testing Loss: 0.37329721450805664\n",
            "OrderedDict([('weights', tensor([0.3718])), ('bias', tensor([0.2188]))])\n",
            "Epoch: 9 | Training Loss: 0.20919232070446014 | Testing Loss: 0.3598262071609497\n",
            "OrderedDict([('weights', tensor([0.3757])), ('bias', tensor([0.2288]))])\n",
            "Epoch: 10 | Training Loss: 0.1976713240146637 | Testing Loss: 0.3463551998138428\n",
            "OrderedDict([('weights', tensor([0.3796])), ('bias', tensor([0.2388]))])\n",
            "Epoch: 11 | Training Loss: 0.18615034222602844 | Testing Loss: 0.3328842222690582\n",
            "OrderedDict([('weights', tensor([0.3835])), ('bias', tensor([0.2488]))])\n",
            "Epoch: 12 | Training Loss: 0.1746293306350708 | Testing Loss: 0.3194132149219513\n",
            "OrderedDict([('weights', tensor([0.3874])), ('bias', tensor([0.2588]))])\n",
            "Epoch: 13 | Training Loss: 0.16310831904411316 | Testing Loss: 0.30594223737716675\n",
            "OrderedDict([('weights', tensor([0.3913])), ('bias', tensor([0.2688]))])\n",
            "Epoch: 14 | Training Loss: 0.1515873372554779 | Testing Loss: 0.2924712300300598\n",
            "OrderedDict([('weights', tensor([0.3952])), ('bias', tensor([0.2788]))])\n",
            "Epoch: 15 | Training Loss: 0.14006635546684265 | Testing Loss: 0.27900025248527527\n",
            "OrderedDict([('weights', tensor([0.3991])), ('bias', tensor([0.2888]))])\n",
            "Epoch: 16 | Training Loss: 0.1285453587770462 | Testing Loss: 0.2655292749404907\n",
            "OrderedDict([('weights', tensor([0.4030])), ('bias', tensor([0.2988]))])\n",
            "Epoch: 17 | Training Loss: 0.11702437698841095 | Testing Loss: 0.2520582973957062\n",
            "OrderedDict([('weights', tensor([0.4069])), ('bias', tensor([0.3088]))])\n",
            "Epoch: 18 | Training Loss: 0.1060912236571312 | Testing Loss: 0.2395961582660675\n",
            "OrderedDict([('weights', tensor([0.4108])), ('bias', tensor([0.3178]))])\n",
            "Epoch: 19 | Training Loss: 0.09681284427642822 | Testing Loss: 0.22817862033843994\n",
            "OrderedDict([('weights', tensor([0.4146])), ('bias', tensor([0.3258]))])\n",
            "Epoch: 20 | Training Loss: 0.08908725529909134 | Testing Loss: 0.21729660034179688\n",
            "OrderedDict([('weights', tensor([0.4184])), ('bias', tensor([0.3333]))])\n",
            "Epoch: 21 | Training Loss: 0.08227583020925522 | Testing Loss: 0.2069590985774994\n",
            "OrderedDict([('weights', tensor([0.4222])), ('bias', tensor([0.3403]))])\n",
            "Epoch: 22 | Training Loss: 0.07638873159885406 | Testing Loss: 0.19773726165294647\n",
            "OrderedDict([('weights', tensor([0.4258])), ('bias', tensor([0.3463]))])\n",
            "Epoch: 23 | Training Loss: 0.07160007208585739 | Testing Loss: 0.1890866756439209\n",
            "OrderedDict([('weights', tensor([0.4293])), ('bias', tensor([0.3518]))])\n",
            "Epoch: 24 | Training Loss: 0.06747635453939438 | Testing Loss: 0.18101617693901062\n",
            "OrderedDict([('weights', tensor([0.4328])), ('bias', tensor([0.3568]))])\n",
            "Epoch: 25 | Training Loss: 0.06395438313484192 | Testing Loss: 0.17353470623493195\n",
            "OrderedDict([('weights', tensor([0.4361])), ('bias', tensor([0.3613]))])\n",
            "Epoch: 26 | Training Loss: 0.06097004935145378 | Testing Loss: 0.16665108501911163\n",
            "OrderedDict([('weights', tensor([0.4394])), ('bias', tensor([0.3653]))])\n",
            "Epoch: 27 | Training Loss: 0.05845819041132927 | Testing Loss: 0.16037428379058838\n",
            "OrderedDict([('weights', tensor([0.4425])), ('bias', tensor([0.3688]))])\n",
            "Epoch: 28 | Training Loss: 0.05635259300470352 | Testing Loss: 0.15471318364143372\n",
            "OrderedDict([('weights', tensor([0.4455])), ('bias', tensor([0.3718]))])\n",
            "Epoch: 29 | Training Loss: 0.0545857772231102 | Testing Loss: 0.14967669546604156\n",
            "OrderedDict([('weights', tensor([0.4483])), ('bias', tensor([0.3743]))])\n",
            "Epoch: 30 | Training Loss: 0.053148526698350906 | Testing Loss: 0.14464017748832703\n",
            "OrderedDict([('weights', tensor([0.4512])), ('bias', tensor([0.3768]))])\n",
            "Epoch: 31 | Training Loss: 0.05181945487856865 | Testing Loss: 0.14023718237876892\n",
            "OrderedDict([('weights', tensor([0.4539])), ('bias', tensor([0.3788]))])\n",
            "Epoch: 32 | Training Loss: 0.05069301277399063 | Testing Loss: 0.13647659122943878\n",
            "OrderedDict([('weights', tensor([0.4564])), ('bias', tensor([0.3803]))])\n",
            "Epoch: 33 | Training Loss: 0.0498228520154953 | Testing Loss: 0.13271598517894745\n",
            "OrderedDict([('weights', tensor([0.4590])), ('bias', tensor([0.3818]))])\n",
            "Epoch: 34 | Training Loss: 0.04895269125699997 | Testing Loss: 0.12895536422729492\n",
            "OrderedDict([('weights', tensor([0.4615])), ('bias', tensor([0.3833]))])\n",
            "Epoch: 35 | Training Loss: 0.04819351062178612 | Testing Loss: 0.12584610283374786\n",
            "OrderedDict([('weights', tensor([0.4639])), ('bias', tensor([0.3843]))])\n",
            "Epoch: 36 | Training Loss: 0.047531817108392715 | Testing Loss: 0.12273679673671722\n",
            "OrderedDict([('weights', tensor([0.4662])), ('bias', tensor([0.3853]))])\n",
            "Epoch: 37 | Training Loss: 0.04692792519927025 | Testing Loss: 0.1202877014875412\n",
            "OrderedDict([('weights', tensor([0.4684])), ('bias', tensor([0.3858]))])\n",
            "Epoch: 38 | Training Loss: 0.04642331600189209 | Testing Loss: 0.11783860623836517\n",
            "OrderedDict([('weights', tensor([0.4706])), ('bias', tensor([0.3863]))])\n",
            "Epoch: 39 | Training Loss: 0.04591871052980423 | Testing Loss: 0.11538954079151154\n",
            "OrderedDict([('weights', tensor([0.4728])), ('bias', tensor([0.3868]))])\n",
            "Epoch: 40 | Training Loss: 0.04543796554207802 | Testing Loss: 0.11360953003168106\n",
            "OrderedDict([('weights', tensor([0.4748])), ('bias', tensor([0.3868]))])\n",
            "Epoch: 41 | Training Loss: 0.04503796249628067 | Testing Loss: 0.11182951927185059\n",
            "OrderedDict([('weights', tensor([0.4768])), ('bias', tensor([0.3868]))])\n",
            "Epoch: 42 | Training Loss: 0.04463795945048332 | Testing Loss: 0.1100495308637619\n",
            "OrderedDict([('weights', tensor([0.4788])), ('bias', tensor([0.3868]))])\n",
            "Epoch: 43 | Training Loss: 0.04423796385526657 | Testing Loss: 0.10826952755451202\n",
            "OrderedDict([('weights', tensor([0.4808])), ('bias', tensor([0.3868]))])\n",
            "Epoch: 44 | Training Loss: 0.04383796453475952 | Testing Loss: 0.10648951679468155\n",
            "OrderedDict([('weights', tensor([0.4828])), ('bias', tensor([0.3868]))])\n",
            "Epoch: 45 | Training Loss: 0.04343796148896217 | Testing Loss: 0.10470950603485107\n",
            "OrderedDict([('weights', tensor([0.4848])), ('bias', tensor([0.3868]))])\n",
            "Epoch: 46 | Training Loss: 0.043074630200862885 | Testing Loss: 0.10360751301050186\n",
            "OrderedDict([('weights', tensor([0.4866])), ('bias', tensor([0.3863]))])\n",
            "Epoch: 47 | Training Loss: 0.04272563382983208 | Testing Loss: 0.10250549018383026\n",
            "OrderedDict([('weights', tensor([0.4884])), ('bias', tensor([0.3858]))])\n",
            "Epoch: 48 | Training Loss: 0.04237663000822067 | Testing Loss: 0.10140349715948105\n",
            "OrderedDict([('weights', tensor([0.4902])), ('bias', tensor([0.3853]))])\n",
            "Epoch: 49 | Training Loss: 0.04202762991189957 | Testing Loss: 0.10030148178339005\n",
            "OrderedDict([('weights', tensor([0.4920])), ('bias', tensor([0.3848]))])\n",
            "Epoch: 50 | Training Loss: 0.04167863354086876 | Testing Loss: 0.09919948130846024\n",
            "OrderedDict([('weights', tensor([0.4938])), ('bias', tensor([0.3843]))])\n",
            "Epoch: 51 | Training Loss: 0.04132963344454765 | Testing Loss: 0.09809747338294983\n",
            "OrderedDict([('weights', tensor([0.4956])), ('bias', tensor([0.3838]))])\n",
            "Epoch: 52 | Training Loss: 0.04098063334822655 | Testing Loss: 0.09699545800685883\n",
            "OrderedDict([('weights', tensor([0.4974])), ('bias', tensor([0.3833]))])\n",
            "Epoch: 53 | Training Loss: 0.04063162952661514 | Testing Loss: 0.09589345753192902\n",
            "OrderedDict([('weights', tensor([0.4992])), ('bias', tensor([0.3828]))])\n",
            "Epoch: 54 | Training Loss: 0.040282636880874634 | Testing Loss: 0.0947914719581604\n",
            "OrderedDict([('weights', tensor([0.5010])), ('bias', tensor([0.3823]))])\n",
            "Epoch: 55 | Training Loss: 0.039933640509843826 | Testing Loss: 0.09368947893381119\n",
            "OrderedDict([('weights', tensor([0.5028])), ('bias', tensor([0.3818]))])\n",
            "Epoch: 56 | Training Loss: 0.03958464413881302 | Testing Loss: 0.09258746355772018\n",
            "OrderedDict([('weights', tensor([0.5046])), ('bias', tensor([0.3813]))])\n",
            "Epoch: 57 | Training Loss: 0.03923564404249191 | Testing Loss: 0.09148545563220978\n",
            "OrderedDict([('weights', tensor([0.5064])), ('bias', tensor([0.3808]))])\n",
            "Epoch: 58 | Training Loss: 0.03888664394617081 | Testing Loss: 0.09038344770669937\n",
            "OrderedDict([('weights', tensor([0.5082])), ('bias', tensor([0.3803]))])\n",
            "Epoch: 59 | Training Loss: 0.0385376438498497 | Testing Loss: 0.08928143978118896\n",
            "OrderedDict([('weights', tensor([0.5100])), ('bias', tensor([0.3798]))])\n",
            "Epoch: 60 | Training Loss: 0.03818932920694351 | Testing Loss: 0.08886633068323135\n",
            "OrderedDict([('weights', tensor([0.5116])), ('bias', tensor([0.3788]))])\n",
            "Epoch: 61 | Training Loss: 0.03785243630409241 | Testing Loss: 0.08776430785655975\n",
            "OrderedDict([('weights', tensor([0.5134])), ('bias', tensor([0.3783]))])\n",
            "Epoch: 62 | Training Loss: 0.0375034399330616 | Testing Loss: 0.08666229248046875\n",
            "OrderedDict([('weights', tensor([0.5152])), ('bias', tensor([0.3778]))])\n",
            "Epoch: 63 | Training Loss: 0.037164121866226196 | Testing Loss: 0.08624717593193054\n",
            "OrderedDict([('weights', tensor([0.5168])), ('bias', tensor([0.3768]))])\n",
            "Epoch: 64 | Training Loss: 0.03681822493672371 | Testing Loss: 0.08514519035816193\n",
            "OrderedDict([('weights', tensor([0.5186])), ('bias', tensor([0.3763]))])\n",
            "Epoch: 65 | Training Loss: 0.03647511452436447 | Testing Loss: 0.08473004400730133\n",
            "OrderedDict([('weights', tensor([0.5202])), ('bias', tensor([0.3753]))])\n",
            "Epoch: 66 | Training Loss: 0.03613303601741791 | Testing Loss: 0.08362803608179092\n",
            "OrderedDict([('weights', tensor([0.5220])), ('bias', tensor([0.3748]))])\n",
            "Epoch: 67 | Training Loss: 0.03578609973192215 | Testing Loss: 0.08321291208267212\n",
            "OrderedDict([('weights', tensor([0.5236])), ('bias', tensor([0.3738]))])\n",
            "Epoch: 68 | Training Loss: 0.03544783592224121 | Testing Loss: 0.08211090415716171\n",
            "OrderedDict([('weights', tensor([0.5254])), ('bias', tensor([0.3733]))])\n",
            "Epoch: 69 | Training Loss: 0.035098835825920105 | Testing Loss: 0.0810088962316513\n",
            "OrderedDict([('weights', tensor([0.5272])), ('bias', tensor([0.3728]))])\n",
            "Epoch: 70 | Training Loss: 0.03476089984178543 | Testing Loss: 0.0805937647819519\n",
            "OrderedDict([('weights', tensor([0.5288])), ('bias', tensor([0.3718]))])\n",
            "Epoch: 71 | Training Loss: 0.03441363573074341 | Testing Loss: 0.0794917643070221\n",
            "OrderedDict([('weights', tensor([0.5306])), ('bias', tensor([0.3713]))])\n",
            "Epoch: 72 | Training Loss: 0.03407188132405281 | Testing Loss: 0.07907666265964508\n",
            "OrderedDict([('weights', tensor([0.5322])), ('bias', tensor([0.3703]))])\n",
            "Epoch: 73 | Training Loss: 0.03372843936085701 | Testing Loss: 0.07797462493181229\n",
            "OrderedDict([('weights', tensor([0.5340])), ('bias', tensor([0.3698]))])\n",
            "Epoch: 74 | Training Loss: 0.03338287025690079 | Testing Loss: 0.07755951583385468\n",
            "OrderedDict([('weights', tensor([0.5355])), ('bias', tensor([0.3688]))])\n",
            "Epoch: 75 | Training Loss: 0.033043231815099716 | Testing Loss: 0.07645749300718307\n",
            "OrderedDict([('weights', tensor([0.5373])), ('bias', tensor([0.3683]))])\n",
            "Epoch: 76 | Training Loss: 0.03269423171877861 | Testing Loss: 0.07535548508167267\n",
            "OrderedDict([('weights', tensor([0.5391])), ('bias', tensor([0.3678]))])\n",
            "Epoch: 77 | Training Loss: 0.032357655465602875 | Testing Loss: 0.07494036853313446\n",
            "OrderedDict([('weights', tensor([0.5407])), ('bias', tensor([0.3668]))])\n",
            "Epoch: 78 | Training Loss: 0.03200903534889221 | Testing Loss: 0.07383836805820465\n",
            "OrderedDict([('weights', tensor([0.5425])), ('bias', tensor([0.3663]))])\n",
            "Epoch: 79 | Training Loss: 0.03166864812374115 | Testing Loss: 0.07342323660850525\n",
            "OrderedDict([('weights', tensor([0.5441])), ('bias', tensor([0.3653]))])\n",
            "Epoch: 80 | Training Loss: 0.03132382780313492 | Testing Loss: 0.07232122868299484\n",
            "OrderedDict([('weights', tensor([0.5459])), ('bias', tensor([0.3648]))])\n",
            "Epoch: 81 | Training Loss: 0.030979642644524574 | Testing Loss: 0.07190609723329544\n",
            "OrderedDict([('weights', tensor([0.5475])), ('bias', tensor([0.3638]))])\n",
            "Epoch: 82 | Training Loss: 0.030638623982667923 | Testing Loss: 0.07080408930778503\n",
            "OrderedDict([('weights', tensor([0.5493])), ('bias', tensor([0.3633]))])\n",
            "Epoch: 83 | Training Loss: 0.0302906334400177 | Testing Loss: 0.07038896530866623\n",
            "OrderedDict([('weights', tensor([0.5509])), ('bias', tensor([0.3623]))])\n",
            "Epoch: 84 | Training Loss: 0.029953425750136375 | Testing Loss: 0.06928696483373642\n",
            "OrderedDict([('weights', tensor([0.5527])), ('bias', tensor([0.3618]))])\n",
            "Epoch: 85 | Training Loss: 0.02960442565381527 | Testing Loss: 0.06818496435880661\n",
            "OrderedDict([('weights', tensor([0.5545])), ('bias', tensor([0.3613]))])\n",
            "Epoch: 86 | Training Loss: 0.029265418648719788 | Testing Loss: 0.0677698403596878\n",
            "OrderedDict([('weights', tensor([0.5561])), ('bias', tensor([0.3603]))])\n",
            "Epoch: 87 | Training Loss: 0.028919223695993423 | Testing Loss: 0.0666678324341774\n",
            "OrderedDict([('weights', tensor([0.5579])), ('bias', tensor([0.3598]))])\n",
            "Epoch: 88 | Training Loss: 0.028576409444212914 | Testing Loss: 0.066252700984478\n",
            "OrderedDict([('weights', tensor([0.5595])), ('bias', tensor([0.3588]))])\n",
            "Epoch: 89 | Training Loss: 0.028234025463461876 | Testing Loss: 0.06515069305896759\n",
            "OrderedDict([('weights', tensor([0.5613])), ('bias', tensor([0.3583]))])\n",
            "Epoch: 90 | Training Loss: 0.02788739837706089 | Testing Loss: 0.06473556160926819\n",
            "OrderedDict([('weights', tensor([0.5629])), ('bias', tensor([0.3573]))])\n",
            "Epoch: 91 | Training Loss: 0.02754882536828518 | Testing Loss: 0.06363357603549957\n",
            "OrderedDict([('weights', tensor([0.5647])), ('bias', tensor([0.3568]))])\n",
            "Epoch: 92 | Training Loss: 0.027199819684028625 | Testing Loss: 0.06253156810998917\n",
            "OrderedDict([('weights', tensor([0.5665])), ('bias', tensor([0.3563]))])\n",
            "Epoch: 93 | Training Loss: 0.026862185448408127 | Testing Loss: 0.062116436660289764\n",
            "OrderedDict([('weights', tensor([0.5681])), ('bias', tensor([0.3553]))])\n",
            "Epoch: 94 | Training Loss: 0.02651461586356163 | Testing Loss: 0.061014432460069656\n",
            "OrderedDict([('weights', tensor([0.5699])), ('bias', tensor([0.3548]))])\n",
            "Epoch: 95 | Training Loss: 0.026173178106546402 | Testing Loss: 0.06059930846095085\n",
            "OrderedDict([('weights', tensor([0.5715])), ('bias', tensor([0.3538]))])\n",
            "Epoch: 96 | Training Loss: 0.025829419493675232 | Testing Loss: 0.05949730426073074\n",
            "OrderedDict([('weights', tensor([0.5733])), ('bias', tensor([0.3533]))])\n",
            "Epoch: 97 | Training Loss: 0.02548416517674923 | Testing Loss: 0.05908216908574104\n",
            "OrderedDict([('weights', tensor([0.5748])), ('bias', tensor([0.3523]))])\n",
            "Epoch: 98 | Training Loss: 0.025144213810563087 | Testing Loss: 0.057980168610811234\n",
            "OrderedDict([('weights', tensor([0.5766])), ('bias', tensor([0.3518]))])\n",
            "Epoch: 99 | Training Loss: 0.02479521557688713 | Testing Loss: 0.05687814950942993\n",
            "OrderedDict([('weights', tensor([0.5784])), ('bias', tensor([0.3513]))])\n",
            "Epoch: 100 | Training Loss: 0.024458957836031914 | Testing Loss: 0.05646304413676262\n",
            "OrderedDict([('weights', tensor([0.5800])), ('bias', tensor([0.3503]))])\n",
            "Epoch: 101 | Training Loss: 0.024110013619065285 | Testing Loss: 0.05536102131009102\n",
            "OrderedDict([('weights', tensor([0.5818])), ('bias', tensor([0.3498]))])\n",
            "Epoch: 102 | Training Loss: 0.02376994863152504 | Testing Loss: 0.05494590476155281\n",
            "OrderedDict([('weights', tensor([0.5834])), ('bias', tensor([0.3488]))])\n",
            "Epoch: 103 | Training Loss: 0.02342480979859829 | Testing Loss: 0.05384388566017151\n",
            "OrderedDict([('weights', tensor([0.5852])), ('bias', tensor([0.3483]))])\n",
            "Epoch: 104 | Training Loss: 0.023080935701727867 | Testing Loss: 0.0534287691116333\n",
            "OrderedDict([('weights', tensor([0.5868])), ('bias', tensor([0.3473]))])\n",
            "Epoch: 105 | Training Loss: 0.022739607840776443 | Testing Loss: 0.052326757460832596\n",
            "OrderedDict([('weights', tensor([0.5886])), ('bias', tensor([0.3468]))])\n",
            "Epoch: 106 | Training Loss: 0.022391926497220993 | Testing Loss: 0.05191164091229439\n",
            "OrderedDict([('weights', tensor([0.5902])), ('bias', tensor([0.3458]))])\n",
            "Epoch: 107 | Training Loss: 0.022054409608244896 | Testing Loss: 0.05080962926149368\n",
            "OrderedDict([('weights', tensor([0.5920])), ('bias', tensor([0.3453]))])\n",
            "Epoch: 108 | Training Loss: 0.02170540764927864 | Testing Loss: 0.049707621335983276\n",
            "OrderedDict([('weights', tensor([0.5938])), ('bias', tensor([0.3448]))])\n",
            "Epoch: 109 | Training Loss: 0.021366719156503677 | Testing Loss: 0.04929249361157417\n",
            "OrderedDict([('weights', tensor([0.5954])), ('bias', tensor([0.3438]))])\n",
            "Epoch: 110 | Training Loss: 0.021020207554101944 | Testing Loss: 0.04819049686193466\n",
            "OrderedDict([('weights', tensor([0.5972])), ('bias', tensor([0.3433]))])\n",
            "Epoch: 111 | Training Loss: 0.020677709951996803 | Testing Loss: 0.04777535796165466\n",
            "OrderedDict([('weights', tensor([0.5988])), ('bias', tensor([0.3423]))])\n",
            "Epoch: 112 | Training Loss: 0.02033500373363495 | Testing Loss: 0.046673357486724854\n",
            "OrderedDict([('weights', tensor([0.6006])), ('bias', tensor([0.3418]))])\n",
            "Epoch: 113 | Training Loss: 0.01998869702219963 | Testing Loss: 0.04625822976231575\n",
            "OrderedDict([('weights', tensor([0.6022])), ('bias', tensor([0.3408]))])\n",
            "Epoch: 114 | Training Loss: 0.019649803638458252 | Testing Loss: 0.045156221836805344\n",
            "OrderedDict([('weights', tensor([0.6040])), ('bias', tensor([0.3403]))])\n",
            "Epoch: 115 | Training Loss: 0.019300809130072594 | Testing Loss: 0.04405422881245613\n",
            "OrderedDict([('weights', tensor([0.6058])), ('bias', tensor([0.3398]))])\n",
            "Epoch: 116 | Training Loss: 0.018963487818837166 | Testing Loss: 0.04363910108804703\n",
            "OrderedDict([('weights', tensor([0.6074])), ('bias', tensor([0.3388]))])\n",
            "Epoch: 117 | Training Loss: 0.01861560344696045 | Testing Loss: 0.04253707453608513\n",
            "OrderedDict([('weights', tensor([0.6092])), ('bias', tensor([0.3383]))])\n",
            "Epoch: 118 | Training Loss: 0.018274478614330292 | Testing Loss: 0.042121969163417816\n",
            "OrderedDict([('weights', tensor([0.6108])), ('bias', tensor([0.3373]))])\n",
            "Epoch: 119 | Training Loss: 0.017930403351783752 | Testing Loss: 0.04101995751261711\n",
            "OrderedDict([('weights', tensor([0.6126])), ('bias', tensor([0.3368]))])\n",
            "Epoch: 120 | Training Loss: 0.01758546568453312 | Testing Loss: 0.04060482233762741\n",
            "OrderedDict([('weights', tensor([0.6141])), ('bias', tensor([0.3358]))])\n",
            "Epoch: 121 | Training Loss: 0.017245199531316757 | Testing Loss: 0.0395028181374073\n",
            "OrderedDict([('weights', tensor([0.6159])), ('bias', tensor([0.3353]))])\n",
            "Epoch: 122 | Training Loss: 0.016896454617381096 | Testing Loss: 0.0390876941382885\n",
            "OrderedDict([('weights', tensor([0.6175])), ('bias', tensor([0.3343]))])\n",
            "Epoch: 123 | Training Loss: 0.01656000316143036 | Testing Loss: 0.037985701113939285\n",
            "OrderedDict([('weights', tensor([0.6193])), ('bias', tensor([0.3338]))])\n",
            "Epoch: 124 | Training Loss: 0.016210997477173805 | Testing Loss: 0.03688368946313858\n",
            "OrderedDict([('weights', tensor([0.6211])), ('bias', tensor([0.3333]))])\n",
            "Epoch: 125 | Training Loss: 0.01587124727666378 | Testing Loss: 0.036468543112277985\n",
            "OrderedDict([('weights', tensor([0.6227])), ('bias', tensor([0.3323]))])\n",
            "Epoch: 126 | Training Loss: 0.015525798313319683 | Testing Loss: 0.035366542637348175\n",
            "OrderedDict([('weights', tensor([0.6245])), ('bias', tensor([0.3318]))])\n",
            "Epoch: 127 | Training Loss: 0.015182236209511757 | Testing Loss: 0.034951429814100266\n",
            "OrderedDict([('weights', tensor([0.6261])), ('bias', tensor([0.3308]))])\n",
            "Epoch: 128 | Training Loss: 0.014840595424175262 | Testing Loss: 0.03384942561388016\n",
            "OrderedDict([('weights', tensor([0.6279])), ('bias', tensor([0.3303]))])\n",
            "Epoch: 129 | Training Loss: 0.01449323259294033 | Testing Loss: 0.03343429043889046\n",
            "OrderedDict([('weights', tensor([0.6295])), ('bias', tensor([0.3293]))])\n",
            "Epoch: 130 | Training Loss: 0.014155393466353416 | Testing Loss: 0.03233227878808975\n",
            "OrderedDict([('weights', tensor([0.6313])), ('bias', tensor([0.3288]))])\n",
            "Epoch: 131 | Training Loss: 0.013806397095322609 | Testing Loss: 0.031230276450514793\n",
            "OrderedDict([('weights', tensor([0.6331])), ('bias', tensor([0.3283]))])\n",
            "Epoch: 132 | Training Loss: 0.013468016870319843 | Testing Loss: 0.030815154314041138\n",
            "OrderedDict([('weights', tensor([0.6347])), ('bias', tensor([0.3273]))])\n",
            "Epoch: 133 | Training Loss: 0.013121193274855614 | Testing Loss: 0.02971314825117588\n",
            "OrderedDict([('weights', tensor([0.6365])), ('bias', tensor([0.3268]))])\n",
            "Epoch: 134 | Training Loss: 0.01277900766581297 | Testing Loss: 0.02929801307618618\n",
            "OrderedDict([('weights', tensor([0.6381])), ('bias', tensor([0.3258]))])\n",
            "Epoch: 135 | Training Loss: 0.012435992248356342 | Testing Loss: 0.028196018189191818\n",
            "OrderedDict([('weights', tensor([0.6399])), ('bias', tensor([0.3253]))])\n",
            "Epoch: 136 | Training Loss: 0.01208999752998352 | Testing Loss: 0.027780896052718163\n",
            "OrderedDict([('weights', tensor([0.6415])), ('bias', tensor([0.3243]))])\n",
            "Epoch: 137 | Training Loss: 0.011750795878469944 | Testing Loss: 0.026678884401917458\n",
            "OrderedDict([('weights', tensor([0.6433])), ('bias', tensor([0.3238]))])\n",
            "Epoch: 138 | Training Loss: 0.011401787400245667 | Testing Loss: 0.025576870888471603\n",
            "OrderedDict([('weights', tensor([0.6451])), ('bias', tensor([0.3233]))])\n",
            "Epoch: 139 | Training Loss: 0.011064787395298481 | Testing Loss: 0.025161748751997948\n",
            "OrderedDict([('weights', tensor([0.6467])), ('bias', tensor([0.3223]))])\n",
            "Epoch: 140 | Training Loss: 0.010716589167714119 | Testing Loss: 0.024059748277068138\n",
            "OrderedDict([('weights', tensor([0.6485])), ('bias', tensor([0.3218]))])\n",
            "Epoch: 141 | Training Loss: 0.010375778190791607 | Testing Loss: 0.023644620552659035\n",
            "OrderedDict([('weights', tensor([0.6501])), ('bias', tensor([0.3208]))])\n",
            "Epoch: 142 | Training Loss: 0.010031387209892273 | Testing Loss: 0.022542614489793777\n",
            "OrderedDict([('weights', tensor([0.6519])), ('bias', tensor([0.3203]))])\n",
            "Epoch: 143 | Training Loss: 0.009686763398349285 | Testing Loss: 0.022127490490674973\n",
            "OrderedDict([('weights', tensor([0.6534])), ('bias', tensor([0.3193]))])\n",
            "Epoch: 144 | Training Loss: 0.009346187114715576 | Testing Loss: 0.021025484427809715\n",
            "OrderedDict([('weights', tensor([0.6552])), ('bias', tensor([0.3188]))])\n",
            "Epoch: 145 | Training Loss: 0.008997755125164986 | Testing Loss: 0.020610356703400612\n",
            "OrderedDict([('weights', tensor([0.6568])), ('bias', tensor([0.3178]))])\n",
            "Epoch: 146 | Training Loss: 0.008660981431603432 | Testing Loss: 0.019508343189954758\n",
            "OrderedDict([('weights', tensor([0.6586])), ('bias', tensor([0.3173]))])\n",
            "Epoch: 147 | Training Loss: 0.008311985060572624 | Testing Loss: 0.018406350165605545\n",
            "OrderedDict([('weights', tensor([0.6604])), ('bias', tensor([0.3168]))])\n",
            "Epoch: 148 | Training Loss: 0.007972544990479946 | Testing Loss: 0.017991220578551292\n",
            "OrderedDict([('weights', tensor([0.6620])), ('bias', tensor([0.3158]))])\n",
            "Epoch: 149 | Training Loss: 0.007626785431057215 | Testing Loss: 0.016889220103621483\n",
            "OrderedDict([('weights', tensor([0.6638])), ('bias', tensor([0.3153]))])\n"
          ]
        }
      ]
    },
    {
      "cell_type": "code",
      "source": [
        "plot_predictions(predictions=test_predictions)"
      ],
      "metadata": {
        "colab": {
          "base_uri": "https://localhost:8080/",
          "height": 428
        },
        "id": "I1wYlpSWdZo7",
        "outputId": "94e81d76-0b75-4add-a350-96a394e164a6"
      },
      "execution_count": 48,
      "outputs": [
        {
          "output_type": "display_data",
          "data": {
            "text/plain": [
              "<Figure size 720x504 with 1 Axes>"
            ],
            "image/png": "[encoded data removed]"
          },
          "metadata": {
            "needs_background": "light"
          }
        }
      ]
    },
    {
      "cell_type": "code",
      "source": [
        "visualize_loss(np.array(torch.tensor(epoch_count_list).numpy()), np.array(torch.tensor(train_loss_list).numpy()), np.array(torch.tensor(test_loss_list).numpy()))"
      ],
      "metadata": {
        "colab": {
          "base_uri": "https://localhost:8080/",
          "height": 458
        },
        "id": "MLiIgDDyoy6Q",
        "outputId": "972e499a-8527-4640-cfd0-22b9e6c4e058"
      },
      "execution_count": 49,
      "outputs": [
        {
          "output_type": "display_data",
          "data": {
            "text/plain": [
              "<Figure size 720x504 with 1 Axes>"
            ],
            "image/png": "[encoded data removed]"
          },
          "metadata": {
            "needs_background": "light"
          }
        }
      ]
    },
    {
      "cell_type": "markdown",
      "source": [
        "## Saving a Model in PyTorch"
      ],
      "metadata": {
        "id": "m3f48mWeoy38"
      }
    },
    {
      "cell_type": "code",
      "source": [
        "# Saving our PyTorch model\n",
        "from pathlib import Path\n",
        "\n",
        "# 1. Create models directory\n",
        "MODEL_PATH = Path('models')\n",
        "MODEL_PATH.mkdir(parents=True, exist_ok=True)\n",
        "\n",
        "# 2. Create model save path\n",
        "MODEL_NAME = 'pytorch_workflow.pth'\n",
        "MODEL_SAVE_PATH = MODEL_PATH/MODEL_NAME\n",
        "\n",
        "# 3. Save the model state dict\n",
        "torch.save(model.state_dict(), MODEL_SAVE_PATH)"
      ],
      "metadata": {
        "id": "urnSBY1Roy1m"
      },
      "execution_count": 50,
      "outputs": []
    },
    {
      "cell_type": "markdown",
      "source": [
        "## Loading a PyTorch model"
      ],
      "metadata": {
        "id": "2u5_KqXboyzN"
      }
    },
    {
      "cell_type": "code",
      "source": [
        "# 1. To load in a saved state_dict, we have to instantiate a new instance of our model class\n",
        "loaded_model = LinearRegrassionModel()\n",
        "\n",
        "# 2. Load the saved state_dict of model\n",
        "loaded_model.load_state_dict(torch.load(MODEL_SAVE_PATH))"
      ],
      "metadata": {
        "colab": {
          "base_uri": "https://localhost:8080/"
        },
        "id": "Q9Ip8yoXoywW",
        "outputId": "5866781a-b82d-4133-d7d1-72f91521d934"
      },
      "execution_count": 51,
      "outputs": [
        {
          "output_type": "execute_result",
          "data": {
            "text/plain": [
              "<All keys matched successfully>"
            ]
          },
          "metadata": {},
          "execution_count": 51
        }
      ]
    },
    {
      "cell_type": "code",
      "source": [
        "loaded_model.state_dict()"
      ],
      "metadata": {
        "colab": {
          "base_uri": "https://localhost:8080/"
        },
        "id": "O8qTzWT8oytx",
        "outputId": "3c11d279-4233-4002-97d0-b11a796eca5a"
      },
      "execution_count": 52,
      "outputs": [
        {
          "output_type": "execute_result",
          "data": {
            "text/plain": [
              "OrderedDict([('weights', tensor([0.6638])), ('bias', tensor([0.3153]))])"
            ]
          },
          "metadata": {},
          "execution_count": 52
        }
      ]
    },
    {
      "cell_type": "code",
      "source": [
        "# Make some predictions with new loaded model\n",
        "\n",
        "loaded_model.eval()\n",
        "with torch.inference_mode():\n",
        "  loaded_model_predictions = loaded_model(X_test)\n",
        "\n",
        "loaded_model_predictions"
      ],
      "metadata": {
        "colab": {
          "base_uri": "https://localhost:8080/"
        },
        "id": "_yNWCGy2oyrM",
        "outputId": "025e8f09-7829-4482-bc9f-84d8af661a29"
      },
      "execution_count": 53,
      "outputs": [
        {
          "output_type": "execute_result",
          "data": {
            "text/plain": [
              "tensor([[0.8464],\n",
              "        [0.8596],\n",
              "        [0.8729],\n",
              "        [0.8862],\n",
              "        [0.8995],\n",
              "        [0.9127],\n",
              "        [0.9260],\n",
              "        [0.9393],\n",
              "        [0.9526],\n",
              "        [0.9659]])"
            ]
          },
          "metadata": {},
          "execution_count": 53
        }
      ]
    },
    {
      "cell_type": "code",
      "source": [
        "loaded_model_predictions == test_predictions"
      ],
      "metadata": {
        "colab": {
          "base_uri": "https://localhost:8080/"
        },
        "id": "QkJ_LyQeoyol",
        "outputId": "e3952cc0-7d57-4cd6-c86f-ffb1fdddf2b0"
      },
      "execution_count": 54,
      "outputs": [
        {
          "output_type": "execute_result",
          "data": {
            "text/plain": [
              "tensor([[True],\n",
              "        [True],\n",
              "        [True],\n",
              "        [True],\n",
              "        [True],\n",
              "        [True],\n",
              "        [True],\n",
              "        [True],\n",
              "        [True],\n",
              "        [True]])"
            ]
          },
          "metadata": {},
          "execution_count": 54
        }
      ]
    }
  ]
}