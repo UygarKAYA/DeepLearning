{
  "nbformat": 4,
  "nbformat_minor": 0,
  "metadata": {
    "colab": {
      "provenance": [],
      "gpuType": "T4"
    },
    "kernelspec": {
      "name": "python3",
      "display_name": "Python 3"
    },
    "language_info": {
      "name": "python"
    },
    "gpuClass": "standard",
    "widgets": {
      "application/vnd.jupyter.widget-state+json": {
        "da345050af6f4e7ebf38e2150ed44b3f": {
          "model_module": "@jupyter-widgets/controls",
          "model_name": "HBoxModel",
          "model_module_version": "1.5.0",
          "state": {
            "_dom_classes": [],
            "_model_module": "@jupyter-widgets/controls",
            "_model_module_version": "1.5.0",
            "_model_name": "HBoxModel",
            "_view_count": null,
            "_view_module": "@jupyter-widgets/controls",
            "_view_module_version": "1.5.0",
            "_view_name": "HBoxView",
            "box_style": "",
            "children": [
              "IPY_MODEL_4929cd585d5f4978bcdb53856ae87c25",
              "IPY_MODEL_8f2974902c014a898a1295ae29c2e213",
              "IPY_MODEL_bdf5787f13b443c5a8472c3911fa9c72"
            ],
            "layout": "IPY_MODEL_6978dfbb40cb45e0aace67cb813663b6"
          }
        },
        "4929cd585d5f4978bcdb53856ae87c25": {
          "model_module": "@jupyter-widgets/controls",
          "model_name": "HTMLModel",
          "model_module_version": "1.5.0",
          "state": {
            "_dom_classes": [],
            "_model_module": "@jupyter-widgets/controls",
            "_model_module_version": "1.5.0",
            "_model_name": "HTMLModel",
            "_view_count": null,
            "_view_module": "@jupyter-widgets/controls",
            "_view_module_version": "1.5.0",
            "_view_name": "HTMLView",
            "description": "",
            "description_tooltip": null,
            "layout": "IPY_MODEL_9e930c6f5df84174a0b6328399049024",
            "placeholder": "​",
            "style": "IPY_MODEL_37e5d0718cba4361b5de87c6d604e364",
            "value": "100%"
          }
        },
        "8f2974902c014a898a1295ae29c2e213": {
          "model_module": "@jupyter-widgets/controls",
          "model_name": "FloatProgressModel",
          "model_module_version": "1.5.0",
          "state": {
            "_dom_classes": [],
            "_model_module": "@jupyter-widgets/controls",
            "_model_module_version": "1.5.0",
            "_model_name": "FloatProgressModel",
            "_view_count": null,
            "_view_module": "@jupyter-widgets/controls",
            "_view_module_version": "1.5.0",
            "_view_name": "ProgressView",
            "bar_style": "success",
            "description": "",
            "description_tooltip": null,
            "layout": "IPY_MODEL_ef781936e08b4b11a8236276d08d62d1",
            "max": 20,
            "min": 0,
            "orientation": "horizontal",
            "style": "IPY_MODEL_dfc2ea6feefe42f6b40ca645f9e1b799",
            "value": 20
          }
        },
        "bdf5787f13b443c5a8472c3911fa9c72": {
          "model_module": "@jupyter-widgets/controls",
          "model_name": "HTMLModel",
          "model_module_version": "1.5.0",
          "state": {
            "_dom_classes": [],
            "_model_module": "@jupyter-widgets/controls",
            "_model_module_version": "1.5.0",
            "_model_name": "HTMLModel",
            "_view_count": null,
            "_view_module": "@jupyter-widgets/controls",
            "_view_module_version": "1.5.0",
            "_view_name": "HTMLView",
            "description": "",
            "description_tooltip": null,
            "layout": "IPY_MODEL_13c8c713ae5f495b8ebc3371c9b2c412",
            "placeholder": "​",
            "style": "IPY_MODEL_5b369bdc1db141279974f6a458a502c4",
            "value": " 20/20 [04:03&lt;00:00, 11.92s/it]"
          }
        },
        "6978dfbb40cb45e0aace67cb813663b6": {
          "model_module": "@jupyter-widgets/base",
          "model_name": "LayoutModel",
          "model_module_version": "1.2.0",
          "state": {
            "_model_module": "@jupyter-widgets/base",
            "_model_module_version": "1.2.0",
            "_model_name": "LayoutModel",
            "_view_count": null,
            "_view_module": "@jupyter-widgets/base",
            "_view_module_version": "1.2.0",
            "_view_name": "LayoutView",
            "align_content": null,
            "align_items": null,
            "align_self": null,
            "border": null,
            "bottom": null,
            "display": null,
            "flex": null,
            "flex_flow": null,
            "grid_area": null,
            "grid_auto_columns": null,
            "grid_auto_flow": null,
            "grid_auto_rows": null,
            "grid_column": null,
            "grid_gap": null,
            "grid_row": null,
            "grid_template_areas": null,
            "grid_template_columns": null,
            "grid_template_rows": null,
            "height": null,
            "justify_content": null,
            "justify_items": null,
            "left": null,
            "margin": null,
            "max_height": null,
            "max_width": null,
            "min_height": null,
            "min_width": null,
            "object_fit": null,
            "object_position": null,
            "order": null,
            "overflow": null,
            "overflow_x": null,
            "overflow_y": null,
            "padding": null,
            "right": null,
            "top": null,
            "visibility": null,
            "width": null
          }
        },
        "9e930c6f5df84174a0b6328399049024": {
          "model_module": "@jupyter-widgets/base",
          "model_name": "LayoutModel",
          "model_module_version": "1.2.0",
          "state": {
            "_model_module": "@jupyter-widgets/base",
            "_model_module_version": "1.2.0",
            "_model_name": "LayoutModel",
            "_view_count": null,
            "_view_module": "@jupyter-widgets/base",
            "_view_module_version": "1.2.0",
            "_view_name": "LayoutView",
            "align_content": null,
            "align_items": null,
            "align_self": null,
            "border": null,
            "bottom": null,
            "display": null,
            "flex": null,
            "flex_flow": null,
            "grid_area": null,
            "grid_auto_columns": null,
            "grid_auto_flow": null,
            "grid_auto_rows": null,
            "grid_column": null,
            "grid_gap": null,
            "grid_row": null,
            "grid_template_areas": null,
            "grid_template_columns": null,
            "grid_template_rows": null,
            "height": null,
            "justify_content": null,
            "justify_items": null,
            "left": null,
            "margin": null,
            "max_height": null,
            "max_width": null,
            "min_height": null,
            "min_width": null,
            "object_fit": null,
            "object_position": null,
            "order": null,
            "overflow": null,
            "overflow_x": null,
            "overflow_y": null,
            "padding": null,
            "right": null,
            "top": null,
            "visibility": null,
            "width": null
          }
        },
        "37e5d0718cba4361b5de87c6d604e364": {
          "model_module": "@jupyter-widgets/controls",
          "model_name": "DescriptionStyleModel",
          "model_module_version": "1.5.0",
          "state": {
            "_model_module": "@jupyter-widgets/controls",
            "_model_module_version": "1.5.0",
            "_model_name": "DescriptionStyleModel",
            "_view_count": null,
            "_view_module": "@jupyter-widgets/base",
            "_view_module_version": "1.2.0",
            "_view_name": "StyleView",
            "description_width": ""
          }
        },
        "ef781936e08b4b11a8236276d08d62d1": {
          "model_module": "@jupyter-widgets/base",
          "model_name": "LayoutModel",
          "model_module_version": "1.2.0",
          "state": {
            "_model_module": "@jupyter-widgets/base",
            "_model_module_version": "1.2.0",
            "_model_name": "LayoutModel",
            "_view_count": null,
            "_view_module": "@jupyter-widgets/base",
            "_view_module_version": "1.2.0",
            "_view_name": "LayoutView",
            "align_content": null,
            "align_items": null,
            "align_self": null,
            "border": null,
            "bottom": null,
            "display": null,
            "flex": null,
            "flex_flow": null,
            "grid_area": null,
            "grid_auto_columns": null,
            "grid_auto_flow": null,
            "grid_auto_rows": null,
            "grid_column": null,
            "grid_gap": null,
            "grid_row": null,
            "grid_template_areas": null,
            "grid_template_columns": null,
            "grid_template_rows": null,
            "height": null,
            "justify_content": null,
            "justify_items": null,
            "left": null,
            "margin": null,
            "max_height": null,
            "max_width": null,
            "min_height": null,
            "min_width": null,
            "object_fit": null,
            "object_position": null,
            "order": null,
            "overflow": null,
            "overflow_x": null,
            "overflow_y": null,
            "padding": null,
            "right": null,
            "top": null,
            "visibility": null,
            "width": null
          }
        },
        "dfc2ea6feefe42f6b40ca645f9e1b799": {
          "model_module": "@jupyter-widgets/controls",
          "model_name": "ProgressStyleModel",
          "model_module_version": "1.5.0",
          "state": {
            "_model_module": "@jupyter-widgets/controls",
            "_model_module_version": "1.5.0",
            "_model_name": "ProgressStyleModel",
            "_view_count": null,
            "_view_module": "@jupyter-widgets/base",
            "_view_module_version": "1.2.0",
            "_view_name": "StyleView",
            "bar_color": null,
            "description_width": ""
          }
        },
        "13c8c713ae5f495b8ebc3371c9b2c412": {
          "model_module": "@jupyter-widgets/base",
          "model_name": "LayoutModel",
          "model_module_version": "1.2.0",
          "state": {
            "_model_module": "@jupyter-widgets/base",
            "_model_module_version": "1.2.0",
            "_model_name": "LayoutModel",
            "_view_count": null,
            "_view_module": "@jupyter-widgets/base",
            "_view_module_version": "1.2.0",
            "_view_name": "LayoutView",
            "align_content": null,
            "align_items": null,
            "align_self": null,
            "border": null,
            "bottom": null,
            "display": null,
            "flex": null,
            "flex_flow": null,
            "grid_area": null,
            "grid_auto_columns": null,
            "grid_auto_flow": null,
            "grid_auto_rows": null,
            "grid_column": null,
            "grid_gap": null,
            "grid_row": null,
            "grid_template_areas": null,
            "grid_template_columns": null,
            "grid_template_rows": null,
            "height": null,
            "justify_content": null,
            "justify_items": null,
            "left": null,
            "margin": null,
            "max_height": null,
            "max_width": null,
            "min_height": null,
            "min_width": null,
            "object_fit": null,
            "object_position": null,
            "order": null,
            "overflow": null,
            "overflow_x": null,
            "overflow_y": null,
            "padding": null,
            "right": null,
            "top": null,
            "visibility": null,
            "width": null
          }
        },
        "5b369bdc1db141279974f6a458a502c4": {
          "model_module": "@jupyter-widgets/controls",
          "model_name": "DescriptionStyleModel",
          "model_module_version": "1.5.0",
          "state": {
            "_model_module": "@jupyter-widgets/controls",
            "_model_module_version": "1.5.0",
            "_model_name": "DescriptionStyleModel",
            "_view_count": null,
            "_view_module": "@jupyter-widgets/base",
            "_view_module_version": "1.2.0",
            "_view_name": "StyleView",
            "description_width": ""
          }
        },
        "7dc1bad2d1214ca6bbdc598c7803ea73": {
          "model_module": "@jupyter-widgets/controls",
          "model_name": "HBoxModel",
          "model_module_version": "1.5.0",
          "state": {
            "_dom_classes": [],
            "_model_module": "@jupyter-widgets/controls",
            "_model_module_version": "1.5.0",
            "_model_name": "HBoxModel",
            "_view_count": null,
            "_view_module": "@jupyter-widgets/controls",
            "_view_module_version": "1.5.0",
            "_view_name": "HBoxView",
            "box_style": "",
            "children": [
              "IPY_MODEL_9c1833054c0e47c690d6cad659398ea4",
              "IPY_MODEL_292513b54d5e4fbf9f13c4cfd6b2ca75",
              "IPY_MODEL_f0eab191fdf64053a89a2620bc489cf3"
            ],
            "layout": "IPY_MODEL_2f721971304844fc87dbdf8490c8c328"
          }
        },
        "9c1833054c0e47c690d6cad659398ea4": {
          "model_module": "@jupyter-widgets/controls",
          "model_name": "HTMLModel",
          "model_module_version": "1.5.0",
          "state": {
            "_dom_classes": [],
            "_model_module": "@jupyter-widgets/controls",
            "_model_module_version": "1.5.0",
            "_model_name": "HTMLModel",
            "_view_count": null,
            "_view_module": "@jupyter-widgets/controls",
            "_view_module_version": "1.5.0",
            "_view_name": "HTMLView",
            "description": "",
            "description_tooltip": null,
            "layout": "IPY_MODEL_a8ab5d9f1f9940839712a6ecf8095db5",
            "placeholder": "​",
            "style": "IPY_MODEL_82978e28e1f54732ae2253a7c9d0f8da",
            "value": "100%"
          }
        },
        "292513b54d5e4fbf9f13c4cfd6b2ca75": {
          "model_module": "@jupyter-widgets/controls",
          "model_name": "FloatProgressModel",
          "model_module_version": "1.5.0",
          "state": {
            "_dom_classes": [],
            "_model_module": "@jupyter-widgets/controls",
            "_model_module_version": "1.5.0",
            "_model_name": "FloatProgressModel",
            "_view_count": null,
            "_view_module": "@jupyter-widgets/controls",
            "_view_module_version": "1.5.0",
            "_view_name": "ProgressView",
            "bar_style": "success",
            "description": "",
            "description_tooltip": null,
            "layout": "IPY_MODEL_b8cba848c91b42ebb4d56e4e91c9574d",
            "max": 20,
            "min": 0,
            "orientation": "horizontal",
            "style": "IPY_MODEL_02ba9e6cbbe44d338f9f612e924a761c",
            "value": 20
          }
        },
        "f0eab191fdf64053a89a2620bc489cf3": {
          "model_module": "@jupyter-widgets/controls",
          "model_name": "HTMLModel",
          "model_module_version": "1.5.0",
          "state": {
            "_dom_classes": [],
            "_model_module": "@jupyter-widgets/controls",
            "_model_module_version": "1.5.0",
            "_model_name": "HTMLModel",
            "_view_count": null,
            "_view_module": "@jupyter-widgets/controls",
            "_view_module_version": "1.5.0",
            "_view_name": "HTMLView",
            "description": "",
            "description_tooltip": null,
            "layout": "IPY_MODEL_eb3b932b3eb34031b129f4e605ac134f",
            "placeholder": "​",
            "style": "IPY_MODEL_c2d062b345fe42bc917f86beb8049d2c",
            "value": " 20/20 [04:04&lt;00:00, 11.89s/it]"
          }
        },
        "2f721971304844fc87dbdf8490c8c328": {
          "model_module": "@jupyter-widgets/base",
          "model_name": "LayoutModel",
          "model_module_version": "1.2.0",
          "state": {
            "_model_module": "@jupyter-widgets/base",
            "_model_module_version": "1.2.0",
            "_model_name": "LayoutModel",
            "_view_count": null,
            "_view_module": "@jupyter-widgets/base",
            "_view_module_version": "1.2.0",
            "_view_name": "LayoutView",
            "align_content": null,
            "align_items": null,
            "align_self": null,
            "border": null,
            "bottom": null,
            "display": null,
            "flex": null,
            "flex_flow": null,
            "grid_area": null,
            "grid_auto_columns": null,
            "grid_auto_flow": null,
            "grid_auto_rows": null,
            "grid_column": null,
            "grid_gap": null,
            "grid_row": null,
            "grid_template_areas": null,
            "grid_template_columns": null,
            "grid_template_rows": null,
            "height": null,
            "justify_content": null,
            "justify_items": null,
            "left": null,
            "margin": null,
            "max_height": null,
            "max_width": null,
            "min_height": null,
            "min_width": null,
            "object_fit": null,
            "object_position": null,
            "order": null,
            "overflow": null,
            "overflow_x": null,
            "overflow_y": null,
            "padding": null,
            "right": null,
            "top": null,
            "visibility": null,
            "width": null
          }
        },
        "a8ab5d9f1f9940839712a6ecf8095db5": {
          "model_module": "@jupyter-widgets/base",
          "model_name": "LayoutModel",
          "model_module_version": "1.2.0",
          "state": {
            "_model_module": "@jupyter-widgets/base",
            "_model_module_version": "1.2.0",
            "_model_name": "LayoutModel",
            "_view_count": null,
            "_view_module": "@jupyter-widgets/base",
            "_view_module_version": "1.2.0",
            "_view_name": "LayoutView",
            "align_content": null,
            "align_items": null,
            "align_self": null,
            "border": null,
            "bottom": null,
            "display": null,
            "flex": null,
            "flex_flow": null,
            "grid_area": null,
            "grid_auto_columns": null,
            "grid_auto_flow": null,
            "grid_auto_rows": null,
            "grid_column": null,
            "grid_gap": null,
            "grid_row": null,
            "grid_template_areas": null,
            "grid_template_columns": null,
            "grid_template_rows": null,
            "height": null,
            "justify_content": null,
            "justify_items": null,
            "left": null,
            "margin": null,
            "max_height": null,
            "max_width": null,
            "min_height": null,
            "min_width": null,
            "object_fit": null,
            "object_position": null,
            "order": null,
            "overflow": null,
            "overflow_x": null,
            "overflow_y": null,
            "padding": null,
            "right": null,
            "top": null,
            "visibility": null,
            "width": null
          }
        },
        "82978e28e1f54732ae2253a7c9d0f8da": {
          "model_module": "@jupyter-widgets/controls",
          "model_name": "DescriptionStyleModel",
          "model_module_version": "1.5.0",
          "state": {
            "_model_module": "@jupyter-widgets/controls",
            "_model_module_version": "1.5.0",
            "_model_name": "DescriptionStyleModel",
            "_view_count": null,
            "_view_module": "@jupyter-widgets/base",
            "_view_module_version": "1.2.0",
            "_view_name": "StyleView",
            "description_width": ""
          }
        },
        "b8cba848c91b42ebb4d56e4e91c9574d": {
          "model_module": "@jupyter-widgets/base",
          "model_name": "LayoutModel",
          "model_module_version": "1.2.0",
          "state": {
            "_model_module": "@jupyter-widgets/base",
            "_model_module_version": "1.2.0",
            "_model_name": "LayoutModel",
            "_view_count": null,
            "_view_module": "@jupyter-widgets/base",
            "_view_module_version": "1.2.0",
            "_view_name": "LayoutView",
            "align_content": null,
            "align_items": null,
            "align_self": null,
            "border": null,
            "bottom": null,
            "display": null,
            "flex": null,
            "flex_flow": null,
            "grid_area": null,
            "grid_auto_columns": null,
            "grid_auto_flow": null,
            "grid_auto_rows": null,
            "grid_column": null,
            "grid_gap": null,
            "grid_row": null,
            "grid_template_areas": null,
            "grid_template_columns": null,
            "grid_template_rows": null,
            "height": null,
            "justify_content": null,
            "justify_items": null,
            "left": null,
            "margin": null,
            "max_height": null,
            "max_width": null,
            "min_height": null,
            "min_width": null,
            "object_fit": null,
            "object_position": null,
            "order": null,
            "overflow": null,
            "overflow_x": null,
            "overflow_y": null,
            "padding": null,
            "right": null,
            "top": null,
            "visibility": null,
            "width": null
          }
        },
        "02ba9e6cbbe44d338f9f612e924a761c": {
          "model_module": "@jupyter-widgets/controls",
          "model_name": "ProgressStyleModel",
          "model_module_version": "1.5.0",
          "state": {
            "_model_module": "@jupyter-widgets/controls",
            "_model_module_version": "1.5.0",
            "_model_name": "ProgressStyleModel",
            "_view_count": null,
            "_view_module": "@jupyter-widgets/base",
            "_view_module_version": "1.2.0",
            "_view_name": "StyleView",
            "bar_color": null,
            "description_width": ""
          }
        },
        "eb3b932b3eb34031b129f4e605ac134f": {
          "model_module": "@jupyter-widgets/base",
          "model_name": "LayoutModel",
          "model_module_version": "1.2.0",
          "state": {
            "_model_module": "@jupyter-widgets/base",
            "_model_module_version": "1.2.0",
            "_model_name": "LayoutModel",
            "_view_count": null,
            "_view_module": "@jupyter-widgets/base",
            "_view_module_version": "1.2.0",
            "_view_name": "LayoutView",
            "align_content": null,
            "align_items": null,
            "align_self": null,
            "border": null,
            "bottom": null,
            "display": null,
            "flex": null,
            "flex_flow": null,
            "grid_area": null,
            "grid_auto_columns": null,
            "grid_auto_flow": null,
            "grid_auto_rows": null,
            "grid_column": null,
            "grid_gap": null,
            "grid_row": null,
            "grid_template_areas": null,
            "grid_template_columns": null,
            "grid_template_rows": null,
            "height": null,
            "justify_content": null,
            "justify_items": null,
            "left": null,
            "margin": null,
            "max_height": null,
            "max_width": null,
            "min_height": null,
            "min_width": null,
            "object_fit": null,
            "object_position": null,
            "order": null,
            "overflow": null,
            "overflow_x": null,
            "overflow_y": null,
            "padding": null,
            "right": null,
            "top": null,
            "visibility": null,
            "width": null
          }
        },
        "c2d062b345fe42bc917f86beb8049d2c": {
          "model_module": "@jupyter-widgets/controls",
          "model_name": "DescriptionStyleModel",
          "model_module_version": "1.5.0",
          "state": {
            "_model_module": "@jupyter-widgets/controls",
            "_model_module_version": "1.5.0",
            "_model_name": "DescriptionStyleModel",
            "_view_count": null,
            "_view_module": "@jupyter-widgets/base",
            "_view_module_version": "1.2.0",
            "_view_name": "StyleView",
            "description_width": ""
          }
        },
        "cb859a11a50f4e9ab1b1f9d9e99b5d1b": {
          "model_module": "@jupyter-widgets/controls",
          "model_name": "HBoxModel",
          "model_module_version": "1.5.0",
          "state": {
            "_dom_classes": [],
            "_model_module": "@jupyter-widgets/controls",
            "_model_module_version": "1.5.0",
            "_model_name": "HBoxModel",
            "_view_count": null,
            "_view_module": "@jupyter-widgets/controls",
            "_view_module_version": "1.5.0",
            "_view_name": "HBoxView",
            "box_style": "",
            "children": [
              "IPY_MODEL_8db30b2c1a8b4fef89f13b4cd02f5686",
              "IPY_MODEL_6baa7bd1997c4631a9d8879296b7fddc",
              "IPY_MODEL_8bc9d76e86a24cc585c9c9db6912830f"
            ],
            "layout": "IPY_MODEL_b12f9af664bb4a97a385e33d00fc82d3"
          }
        },
        "8db30b2c1a8b4fef89f13b4cd02f5686": {
          "model_module": "@jupyter-widgets/controls",
          "model_name": "HTMLModel",
          "model_module_version": "1.5.0",
          "state": {
            "_dom_classes": [],
            "_model_module": "@jupyter-widgets/controls",
            "_model_module_version": "1.5.0",
            "_model_name": "HTMLModel",
            "_view_count": null,
            "_view_module": "@jupyter-widgets/controls",
            "_view_module_version": "1.5.0",
            "_view_name": "HTMLView",
            "description": "",
            "description_tooltip": null,
            "layout": "IPY_MODEL_371e4352e7b743ac8bba1145d0b9054f",
            "placeholder": "​",
            "style": "IPY_MODEL_29aa985649b24d20b74870aed61062e9",
            "value": "100%"
          }
        },
        "6baa7bd1997c4631a9d8879296b7fddc": {
          "model_module": "@jupyter-widgets/controls",
          "model_name": "FloatProgressModel",
          "model_module_version": "1.5.0",
          "state": {
            "_dom_classes": [],
            "_model_module": "@jupyter-widgets/controls",
            "_model_module_version": "1.5.0",
            "_model_name": "FloatProgressModel",
            "_view_count": null,
            "_view_module": "@jupyter-widgets/controls",
            "_view_module_version": "1.5.0",
            "_view_name": "ProgressView",
            "bar_style": "success",
            "description": "",
            "description_tooltip": null,
            "layout": "IPY_MODEL_f3a947bbd4cd4de8876d8686ee1098c5",
            "max": 20,
            "min": 0,
            "orientation": "horizontal",
            "style": "IPY_MODEL_e21835b528bf4744a09474c36ae6e88b",
            "value": 20
          }
        },
        "8bc9d76e86a24cc585c9c9db6912830f": {
          "model_module": "@jupyter-widgets/controls",
          "model_name": "HTMLModel",
          "model_module_version": "1.5.0",
          "state": {
            "_dom_classes": [],
            "_model_module": "@jupyter-widgets/controls",
            "_model_module_version": "1.5.0",
            "_model_name": "HTMLModel",
            "_view_count": null,
            "_view_module": "@jupyter-widgets/controls",
            "_view_module_version": "1.5.0",
            "_view_name": "HTMLView",
            "description": "",
            "description_tooltip": null,
            "layout": "IPY_MODEL_51bf6788c4d7412783708df82ce9ee0f",
            "placeholder": "​",
            "style": "IPY_MODEL_586fc0c33a87478eada045012aa7ba23",
            "value": " 20/20 [04:35&lt;00:00, 13.63s/it]"
          }
        },
        "b12f9af664bb4a97a385e33d00fc82d3": {
          "model_module": "@jupyter-widgets/base",
          "model_name": "LayoutModel",
          "model_module_version": "1.2.0",
          "state": {
            "_model_module": "@jupyter-widgets/base",
            "_model_module_version": "1.2.0",
            "_model_name": "LayoutModel",
            "_view_count": null,
            "_view_module": "@jupyter-widgets/base",
            "_view_module_version": "1.2.0",
            "_view_name": "LayoutView",
            "align_content": null,
            "align_items": null,
            "align_self": null,
            "border": null,
            "bottom": null,
            "display": null,
            "flex": null,
            "flex_flow": null,
            "grid_area": null,
            "grid_auto_columns": null,
            "grid_auto_flow": null,
            "grid_auto_rows": null,
            "grid_column": null,
            "grid_gap": null,
            "grid_row": null,
            "grid_template_areas": null,
            "grid_template_columns": null,
            "grid_template_rows": null,
            "height": null,
            "justify_content": null,
            "justify_items": null,
            "left": null,
            "margin": null,
            "max_height": null,
            "max_width": null,
            "min_height": null,
            "min_width": null,
            "object_fit": null,
            "object_position": null,
            "order": null,
            "overflow": null,
            "overflow_x": null,
            "overflow_y": null,
            "padding": null,
            "right": null,
            "top": null,
            "visibility": null,
            "width": null
          }
        },
        "371e4352e7b743ac8bba1145d0b9054f": {
          "model_module": "@jupyter-widgets/base",
          "model_name": "LayoutModel",
          "model_module_version": "1.2.0",
          "state": {
            "_model_module": "@jupyter-widgets/base",
            "_model_module_version": "1.2.0",
            "_model_name": "LayoutModel",
            "_view_count": null,
            "_view_module": "@jupyter-widgets/base",
            "_view_module_version": "1.2.0",
            "_view_name": "LayoutView",
            "align_content": null,
            "align_items": null,
            "align_self": null,
            "border": null,
            "bottom": null,
            "display": null,
            "flex": null,
            "flex_flow": null,
            "grid_area": null,
            "grid_auto_columns": null,
            "grid_auto_flow": null,
            "grid_auto_rows": null,
            "grid_column": null,
            "grid_gap": null,
            "grid_row": null,
            "grid_template_areas": null,
            "grid_template_columns": null,
            "grid_template_rows": null,
            "height": null,
            "justify_content": null,
            "justify_items": null,
            "left": null,
            "margin": null,
            "max_height": null,
            "max_width": null,
            "min_height": null,
            "min_width": null,
            "object_fit": null,
            "object_position": null,
            "order": null,
            "overflow": null,
            "overflow_x": null,
            "overflow_y": null,
            "padding": null,
            "right": null,
            "top": null,
            "visibility": null,
            "width": null
          }
        },
        "29aa985649b24d20b74870aed61062e9": {
          "model_module": "@jupyter-widgets/controls",
          "model_name": "DescriptionStyleModel",
          "model_module_version": "1.5.0",
          "state": {
            "_model_module": "@jupyter-widgets/controls",
            "_model_module_version": "1.5.0",
            "_model_name": "DescriptionStyleModel",
            "_view_count": null,
            "_view_module": "@jupyter-widgets/base",
            "_view_module_version": "1.2.0",
            "_view_name": "StyleView",
            "description_width": ""
          }
        },
        "f3a947bbd4cd4de8876d8686ee1098c5": {
          "model_module": "@jupyter-widgets/base",
          "model_name": "LayoutModel",
          "model_module_version": "1.2.0",
          "state": {
            "_model_module": "@jupyter-widgets/base",
            "_model_module_version": "1.2.0",
            "_model_name": "LayoutModel",
            "_view_count": null,
            "_view_module": "@jupyter-widgets/base",
            "_view_module_version": "1.2.0",
            "_view_name": "LayoutView",
            "align_content": null,
            "align_items": null,
            "align_self": null,
            "border": null,
            "bottom": null,
            "display": null,
            "flex": null,
            "flex_flow": null,
            "grid_area": null,
            "grid_auto_columns": null,
            "grid_auto_flow": null,
            "grid_auto_rows": null,
            "grid_column": null,
            "grid_gap": null,
            "grid_row": null,
            "grid_template_areas": null,
            "grid_template_columns": null,
            "grid_template_rows": null,
            "height": null,
            "justify_content": null,
            "justify_items": null,
            "left": null,
            "margin": null,
            "max_height": null,
            "max_width": null,
            "min_height": null,
            "min_width": null,
            "object_fit": null,
            "object_position": null,
            "order": null,
            "overflow": null,
            "overflow_x": null,
            "overflow_y": null,
            "padding": null,
            "right": null,
            "top": null,
            "visibility": null,
            "width": null
          }
        },
        "e21835b528bf4744a09474c36ae6e88b": {
          "model_module": "@jupyter-widgets/controls",
          "model_name": "ProgressStyleModel",
          "model_module_version": "1.5.0",
          "state": {
            "_model_module": "@jupyter-widgets/controls",
            "_model_module_version": "1.5.0",
            "_model_name": "ProgressStyleModel",
            "_view_count": null,
            "_view_module": "@jupyter-widgets/base",
            "_view_module_version": "1.2.0",
            "_view_name": "StyleView",
            "bar_color": null,
            "description_width": ""
          }
        },
        "51bf6788c4d7412783708df82ce9ee0f": {
          "model_module": "@jupyter-widgets/base",
          "model_name": "LayoutModel",
          "model_module_version": "1.2.0",
          "state": {
            "_model_module": "@jupyter-widgets/base",
            "_model_module_version": "1.2.0",
            "_model_name": "LayoutModel",
            "_view_count": null,
            "_view_module": "@jupyter-widgets/base",
            "_view_module_version": "1.2.0",
            "_view_name": "LayoutView",
            "align_content": null,
            "align_items": null,
            "align_self": null,
            "border": null,
            "bottom": null,
            "display": null,
            "flex": null,
            "flex_flow": null,
            "grid_area": null,
            "grid_auto_columns": null,
            "grid_auto_flow": null,
            "grid_auto_rows": null,
            "grid_column": null,
            "grid_gap": null,
            "grid_row": null,
            "grid_template_areas": null,
            "grid_template_columns": null,
            "grid_template_rows": null,
            "height": null,
            "justify_content": null,
            "justify_items": null,
            "left": null,
            "margin": null,
            "max_height": null,
            "max_width": null,
            "min_height": null,
            "min_width": null,
            "object_fit": null,
            "object_position": null,
            "order": null,
            "overflow": null,
            "overflow_x": null,
            "overflow_y": null,
            "padding": null,
            "right": null,
            "top": null,
            "visibility": null,
            "width": null
          }
        },
        "586fc0c33a87478eada045012aa7ba23": {
          "model_module": "@jupyter-widgets/controls",
          "model_name": "DescriptionStyleModel",
          "model_module_version": "1.5.0",
          "state": {
            "_model_module": "@jupyter-widgets/controls",
            "_model_module_version": "1.5.0",
            "_model_name": "DescriptionStyleModel",
            "_view_count": null,
            "_view_module": "@jupyter-widgets/base",
            "_view_module_version": "1.2.0",
            "_view_name": "StyleView",
            "description_width": ""
          }
        },
        "02161dfe3fe348c3b77bbdc98f0f6ce5": {
          "model_module": "@jupyter-widgets/controls",
          "model_name": "HBoxModel",
          "model_module_version": "1.5.0",
          "state": {
            "_dom_classes": [],
            "_model_module": "@jupyter-widgets/controls",
            "_model_module_version": "1.5.0",
            "_model_name": "HBoxModel",
            "_view_count": null,
            "_view_module": "@jupyter-widgets/controls",
            "_view_module_version": "1.5.0",
            "_view_name": "HBoxView",
            "box_style": "",
            "children": [
              "IPY_MODEL_bd4bf471c5f4469cb7aee62f6eb703e4",
              "IPY_MODEL_ee04c4bdc201409b96272a72a00863a1",
              "IPY_MODEL_5ad340d4c6d0467896fc946c3d76a440"
            ],
            "layout": "IPY_MODEL_99ab2d775ed44d74bb7a12709f693c59"
          }
        },
        "bd4bf471c5f4469cb7aee62f6eb703e4": {
          "model_module": "@jupyter-widgets/controls",
          "model_name": "HTMLModel",
          "model_module_version": "1.5.0",
          "state": {
            "_dom_classes": [],
            "_model_module": "@jupyter-widgets/controls",
            "_model_module_version": "1.5.0",
            "_model_name": "HTMLModel",
            "_view_count": null,
            "_view_module": "@jupyter-widgets/controls",
            "_view_module_version": "1.5.0",
            "_view_name": "HTMLView",
            "description": "",
            "description_tooltip": null,
            "layout": "IPY_MODEL_bcd3f4e06e79496880d52d17fd4a755b",
            "placeholder": "​",
            "style": "IPY_MODEL_26b840ac27ba4165bd8fe63bb5e29862",
            "value": "Making Predictions...: 100%"
          }
        },
        "ee04c4bdc201409b96272a72a00863a1": {
          "model_module": "@jupyter-widgets/controls",
          "model_name": "FloatProgressModel",
          "model_module_version": "1.5.0",
          "state": {
            "_dom_classes": [],
            "_model_module": "@jupyter-widgets/controls",
            "_model_module_version": "1.5.0",
            "_model_name": "FloatProgressModel",
            "_view_count": null,
            "_view_module": "@jupyter-widgets/controls",
            "_view_module_version": "1.5.0",
            "_view_name": "ProgressView",
            "bar_style": "success",
            "description": "",
            "description_tooltip": null,
            "layout": "IPY_MODEL_6d96f878c2a84c2da44667d746d33d4d",
            "max": 313,
            "min": 0,
            "orientation": "horizontal",
            "style": "IPY_MODEL_eeef108fa11b44668023d06bd08ba6bf",
            "value": 313
          }
        },
        "5ad340d4c6d0467896fc946c3d76a440": {
          "model_module": "@jupyter-widgets/controls",
          "model_name": "HTMLModel",
          "model_module_version": "1.5.0",
          "state": {
            "_dom_classes": [],
            "_model_module": "@jupyter-widgets/controls",
            "_model_module_version": "1.5.0",
            "_model_name": "HTMLModel",
            "_view_count": null,
            "_view_module": "@jupyter-widgets/controls",
            "_view_module_version": "1.5.0",
            "_view_name": "HTMLView",
            "description": "",
            "description_tooltip": null,
            "layout": "IPY_MODEL_544eab4284fd4097989e92c1fdb9edf9",
            "placeholder": "​",
            "style": "IPY_MODEL_aaa72405b67b48a6b745003b21f3df49",
            "value": " 313/313 [00:01&lt;00:00, 202.72it/s]"
          }
        },
        "99ab2d775ed44d74bb7a12709f693c59": {
          "model_module": "@jupyter-widgets/base",
          "model_name": "LayoutModel",
          "model_module_version": "1.2.0",
          "state": {
            "_model_module": "@jupyter-widgets/base",
            "_model_module_version": "1.2.0",
            "_model_name": "LayoutModel",
            "_view_count": null,
            "_view_module": "@jupyter-widgets/base",
            "_view_module_version": "1.2.0",
            "_view_name": "LayoutView",
            "align_content": null,
            "align_items": null,
            "align_self": null,
            "border": null,
            "bottom": null,
            "display": null,
            "flex": null,
            "flex_flow": null,
            "grid_area": null,
            "grid_auto_columns": null,
            "grid_auto_flow": null,
            "grid_auto_rows": null,
            "grid_column": null,
            "grid_gap": null,
            "grid_row": null,
            "grid_template_areas": null,
            "grid_template_columns": null,
            "grid_template_rows": null,
            "height": null,
            "justify_content": null,
            "justify_items": null,
            "left": null,
            "margin": null,
            "max_height": null,
            "max_width": null,
            "min_height": null,
            "min_width": null,
            "object_fit": null,
            "object_position": null,
            "order": null,
            "overflow": null,
            "overflow_x": null,
            "overflow_y": null,
            "padding": null,
            "right": null,
            "top": null,
            "visibility": null,
            "width": null
          }
        },
        "bcd3f4e06e79496880d52d17fd4a755b": {
          "model_module": "@jupyter-widgets/base",
          "model_name": "LayoutModel",
          "model_module_version": "1.2.0",
          "state": {
            "_model_module": "@jupyter-widgets/base",
            "_model_module_version": "1.2.0",
            "_model_name": "LayoutModel",
            "_view_count": null,
            "_view_module": "@jupyter-widgets/base",
            "_view_module_version": "1.2.0",
            "_view_name": "LayoutView",
            "align_content": null,
            "align_items": null,
            "align_self": null,
            "border": null,
            "bottom": null,
            "display": null,
            "flex": null,
            "flex_flow": null,
            "grid_area": null,
            "grid_auto_columns": null,
            "grid_auto_flow": null,
            "grid_auto_rows": null,
            "grid_column": null,
            "grid_gap": null,
            "grid_row": null,
            "grid_template_areas": null,
            "grid_template_columns": null,
            "grid_template_rows": null,
            "height": null,
            "justify_content": null,
            "justify_items": null,
            "left": null,
            "margin": null,
            "max_height": null,
            "max_width": null,
            "min_height": null,
            "min_width": null,
            "object_fit": null,
            "object_position": null,
            "order": null,
            "overflow": null,
            "overflow_x": null,
            "overflow_y": null,
            "padding": null,
            "right": null,
            "top": null,
            "visibility": null,
            "width": null
          }
        },
        "26b840ac27ba4165bd8fe63bb5e29862": {
          "model_module": "@jupyter-widgets/controls",
          "model_name": "DescriptionStyleModel",
          "model_module_version": "1.5.0",
          "state": {
            "_model_module": "@jupyter-widgets/controls",
            "_model_module_version": "1.5.0",
            "_model_name": "DescriptionStyleModel",
            "_view_count": null,
            "_view_module": "@jupyter-widgets/base",
            "_view_module_version": "1.2.0",
            "_view_name": "StyleView",
            "description_width": ""
          }
        },
        "6d96f878c2a84c2da44667d746d33d4d": {
          "model_module": "@jupyter-widgets/base",
          "model_name": "LayoutModel",
          "model_module_version": "1.2.0",
          "state": {
            "_model_module": "@jupyter-widgets/base",
            "_model_module_version": "1.2.0",
            "_model_name": "LayoutModel",
            "_view_count": null,
            "_view_module": "@jupyter-widgets/base",
            "_view_module_version": "1.2.0",
            "_view_name": "LayoutView",
            "align_content": null,
            "align_items": null,
            "align_self": null,
            "border": null,
            "bottom": null,
            "display": null,
            "flex": null,
            "flex_flow": null,
            "grid_area": null,
            "grid_auto_columns": null,
            "grid_auto_flow": null,
            "grid_auto_rows": null,
            "grid_column": null,
            "grid_gap": null,
            "grid_row": null,
            "grid_template_areas": null,
            "grid_template_columns": null,
            "grid_template_rows": null,
            "height": null,
            "justify_content": null,
            "justify_items": null,
            "left": null,
            "margin": null,
            "max_height": null,
            "max_width": null,
            "min_height": null,
            "min_width": null,
            "object_fit": null,
            "object_position": null,
            "order": null,
            "overflow": null,
            "overflow_x": null,
            "overflow_y": null,
            "padding": null,
            "right": null,
            "top": null,
            "visibility": null,
            "width": null
          }
        },
        "eeef108fa11b44668023d06bd08ba6bf": {
          "model_module": "@jupyter-widgets/controls",
          "model_name": "ProgressStyleModel",
          "model_module_version": "1.5.0",
          "state": {
            "_model_module": "@jupyter-widgets/controls",
            "_model_module_version": "1.5.0",
            "_model_name": "ProgressStyleModel",
            "_view_count": null,
            "_view_module": "@jupyter-widgets/base",
            "_view_module_version": "1.2.0",
            "_view_name": "StyleView",
            "bar_color": null,
            "description_width": ""
          }
        },
        "544eab4284fd4097989e92c1fdb9edf9": {
          "model_module": "@jupyter-widgets/base",
          "model_name": "LayoutModel",
          "model_module_version": "1.2.0",
          "state": {
            "_model_module": "@jupyter-widgets/base",
            "_model_module_version": "1.2.0",
            "_model_name": "LayoutModel",
            "_view_count": null,
            "_view_module": "@jupyter-widgets/base",
            "_view_module_version": "1.2.0",
            "_view_name": "LayoutView",
            "align_content": null,
            "align_items": null,
            "align_self": null,
            "border": null,
            "bottom": null,
            "display": null,
            "flex": null,
            "flex_flow": null,
            "grid_area": null,
            "grid_auto_columns": null,
            "grid_auto_flow": null,
            "grid_auto_rows": null,
            "grid_column": null,
            "grid_gap": null,
            "grid_row": null,
            "grid_template_areas": null,
            "grid_template_columns": null,
            "grid_template_rows": null,
            "height": null,
            "justify_content": null,
            "justify_items": null,
            "left": null,
            "margin": null,
            "max_height": null,
            "max_width": null,
            "min_height": null,
            "min_width": null,
            "object_fit": null,
            "object_position": null,
            "order": null,
            "overflow": null,
            "overflow_x": null,
            "overflow_y": null,
            "padding": null,
            "right": null,
            "top": null,
            "visibility": null,
            "width": null
          }
        },
        "aaa72405b67b48a6b745003b21f3df49": {
          "model_module": "@jupyter-widgets/controls",
          "model_name": "DescriptionStyleModel",
          "model_module_version": "1.5.0",
          "state": {
            "_model_module": "@jupyter-widgets/controls",
            "_model_module_version": "1.5.0",
            "_model_name": "DescriptionStyleModel",
            "_view_count": null,
            "_view_module": "@jupyter-widgets/base",
            "_view_module_version": "1.2.0",
            "_view_name": "StyleView",
            "description_width": ""
          }
        }
      }
    },
    "accelerator": "GPU"
  },
  "cells": [
    {
      "cell_type": "markdown",
      "source": [
        "## Computer vision libaries in PyTorch\n",
        "\n",
        "* `torchvision` - base domain library for PyTorch computer vision\n",
        "* `torchvision.datasets` - get datasets and data loading functions for computer vision here\n",
        "* `torchvision.models` - get pretrained computer vision models that you can leverage for your own problems\n",
        "* `torchvision.transforms` - functions for manipulating your vision data (images) to be suitable for use with an ML model\n",
        "* `torch.utils.data.Dataset` - Base dataset class for PyTorch.\n",
        "* `torch.utils.data.DataLoader` - Creates a Python iterable over a dataset"
      ],
      "metadata": {
        "id": "GYeCwWRN0omu"
      }
    },
    {
      "cell_type": "code",
      "source": [
        "import time\n",
        "import torch\n",
        "import torchvision\n",
        "import requests\n",
        "\n",
        "from torch import nn\n",
        "from torch.utils.data import DataLoader\n",
        "from torchvision import datasets\n",
        "from torchvision import transforms\n",
        "from torchvision.transforms import ToTensor\n",
        "from matplotlib import pyplot as plt\n",
        "from pathlib import Path"
      ],
      "metadata": {
        "id": "M0NhsZuI8aQZ"
      },
      "execution_count": 1,
      "outputs": []
    },
    {
      "cell_type": "markdown",
      "source": [
        "## 1. FashionMNIST Dataset"
      ],
      "metadata": {
        "id": "ORn0w7Uf8Z91"
      }
    },
    {
      "cell_type": "code",
      "source": [
        "train_data = datasets.FashionMNIST(\n",
        "    root='data', # where to download data to?\n",
        "    train=True, # do we want the training dataset?\n",
        "    download=True, # do we want to download yes/no?\n",
        "    transform=ToTensor(), # how do we want to transform the data?\n",
        "    target_transform=None, # how do we want to transform the labels/targets?\n",
        ")\n",
        "\n",
        "test_data = datasets.FashionMNIST(\n",
        "    root='data', # where to download data to?\n",
        "    train=False, # do we want the training dataset?\n",
        "    download=True, # do we want to download yes/no?\n",
        "    transform=ToTensor(), # how do we want to transform the data?\n",
        "    target_transform=None # how do we want to transform the labels/targets?\n",
        ")"
      ],
      "metadata": {
        "id": "n9WqENsa8Z6W"
      },
      "execution_count": 2,
      "outputs": []
    },
    {
      "cell_type": "markdown",
      "source": [
        "## 1.1 Check Data and Input & Output Shapes of Data"
      ],
      "metadata": {
        "id": "gOxahBfI_4qG"
      }
    },
    {
      "cell_type": "code",
      "source": [
        "image, label = train_data[0]\n",
        "print(f'{image} | Label: {label}')"
      ],
      "metadata": {
        "id": "K_odf2kK_4m3",
        "colab": {
          "base_uri": "https://localhost:8080/"
        },
        "outputId": "4957012a-5e97-40be-cf0f-08c08c338b5f"
      },
      "execution_count": 3,
      "outputs": [
        {
          "output_type": "stream",
          "name": "stdout",
          "text": [
            "tensor([[[0.0000, 0.0000, 0.0000, 0.0000, 0.0000, 0.0000, 0.0000, 0.0000,\n",
            "          0.0000, 0.0000, 0.0000, 0.0000, 0.0000, 0.0000, 0.0000, 0.0000,\n",
            "          0.0000, 0.0000, 0.0000, 0.0000, 0.0000, 0.0000, 0.0000, 0.0000,\n",
            "          0.0000, 0.0000, 0.0000, 0.0000],\n",
            "         [0.0000, 0.0000, 0.0000, 0.0000, 0.0000, 0.0000, 0.0000, 0.0000,\n",
            "          0.0000, 0.0000, 0.0000, 0.0000, 0.0000, 0.0000, 0.0000, 0.0000,\n",
            "          0.0000, 0.0000, 0.0000, 0.0000, 0.0000, 0.0000, 0.0000, 0.0000,\n",
            "          0.0000, 0.0000, 0.0000, 0.0000],\n",
            "         [0.0000, 0.0000, 0.0000, 0.0000, 0.0000, 0.0000, 0.0000, 0.0000,\n",
            "          0.0000, 0.0000, 0.0000, 0.0000, 0.0000, 0.0000, 0.0000, 0.0000,\n",
            "          0.0000, 0.0000, 0.0000, 0.0000, 0.0000, 0.0000, 0.0000, 0.0000,\n",
            "          0.0000, 0.0000, 0.0000, 0.0000],\n",
            "         [0.0000, 0.0000, 0.0000, 0.0000, 0.0000, 0.0000, 0.0000, 0.0000,\n",
            "          0.0000, 0.0000, 0.0000, 0.0000, 0.0039, 0.0000, 0.0000, 0.0510,\n",
            "          0.2863, 0.0000, 0.0000, 0.0039, 0.0157, 0.0000, 0.0000, 0.0000,\n",
            "          0.0000, 0.0039, 0.0039, 0.0000],\n",
            "         [0.0000, 0.0000, 0.0000, 0.0000, 0.0000, 0.0000, 0.0000, 0.0000,\n",
            "          0.0000, 0.0000, 0.0000, 0.0000, 0.0118, 0.0000, 0.1412, 0.5333,\n",
            "          0.4980, 0.2431, 0.2118, 0.0000, 0.0000, 0.0000, 0.0039, 0.0118,\n",
            "          0.0157, 0.0000, 0.0000, 0.0118],\n",
            "         [0.0000, 0.0000, 0.0000, 0.0000, 0.0000, 0.0000, 0.0000, 0.0000,\n",
            "          0.0000, 0.0000, 0.0000, 0.0000, 0.0235, 0.0000, 0.4000, 0.8000,\n",
            "          0.6902, 0.5255, 0.5647, 0.4824, 0.0902, 0.0000, 0.0000, 0.0000,\n",
            "          0.0000, 0.0471, 0.0392, 0.0000],\n",
            "         [0.0000, 0.0000, 0.0000, 0.0000, 0.0000, 0.0000, 0.0000, 0.0000,\n",
            "          0.0000, 0.0000, 0.0000, 0.0000, 0.0000, 0.0000, 0.6078, 0.9255,\n",
            "          0.8118, 0.6980, 0.4196, 0.6118, 0.6314, 0.4275, 0.2510, 0.0902,\n",
            "          0.3020, 0.5098, 0.2824, 0.0588],\n",
            "         [0.0000, 0.0000, 0.0000, 0.0000, 0.0000, 0.0000, 0.0000, 0.0000,\n",
            "          0.0000, 0.0000, 0.0000, 0.0039, 0.0000, 0.2706, 0.8118, 0.8745,\n",
            "          0.8549, 0.8471, 0.8471, 0.6392, 0.4980, 0.4745, 0.4784, 0.5725,\n",
            "          0.5529, 0.3451, 0.6745, 0.2588],\n",
            "         [0.0000, 0.0000, 0.0000, 0.0000, 0.0000, 0.0000, 0.0000, 0.0000,\n",
            "          0.0000, 0.0039, 0.0039, 0.0039, 0.0000, 0.7843, 0.9098, 0.9098,\n",
            "          0.9137, 0.8980, 0.8745, 0.8745, 0.8431, 0.8353, 0.6431, 0.4980,\n",
            "          0.4824, 0.7686, 0.8980, 0.0000],\n",
            "         [0.0000, 0.0000, 0.0000, 0.0000, 0.0000, 0.0000, 0.0000, 0.0000,\n",
            "          0.0000, 0.0000, 0.0000, 0.0000, 0.0000, 0.7176, 0.8824, 0.8471,\n",
            "          0.8745, 0.8941, 0.9216, 0.8902, 0.8784, 0.8706, 0.8784, 0.8667,\n",
            "          0.8745, 0.9608, 0.6784, 0.0000],\n",
            "         [0.0000, 0.0000, 0.0000, 0.0000, 0.0000, 0.0000, 0.0000, 0.0000,\n",
            "          0.0000, 0.0000, 0.0000, 0.0000, 0.0000, 0.7569, 0.8941, 0.8549,\n",
            "          0.8353, 0.7765, 0.7059, 0.8314, 0.8235, 0.8275, 0.8353, 0.8745,\n",
            "          0.8627, 0.9529, 0.7922, 0.0000],\n",
            "         [0.0000, 0.0000, 0.0000, 0.0000, 0.0000, 0.0000, 0.0000, 0.0000,\n",
            "          0.0000, 0.0039, 0.0118, 0.0000, 0.0471, 0.8588, 0.8627, 0.8314,\n",
            "          0.8549, 0.7529, 0.6627, 0.8902, 0.8157, 0.8549, 0.8784, 0.8314,\n",
            "          0.8863, 0.7725, 0.8196, 0.2039],\n",
            "         [0.0000, 0.0000, 0.0000, 0.0000, 0.0000, 0.0000, 0.0000, 0.0000,\n",
            "          0.0000, 0.0000, 0.0235, 0.0000, 0.3882, 0.9569, 0.8706, 0.8627,\n",
            "          0.8549, 0.7961, 0.7765, 0.8667, 0.8431, 0.8353, 0.8706, 0.8627,\n",
            "          0.9608, 0.4667, 0.6549, 0.2196],\n",
            "         [0.0000, 0.0000, 0.0000, 0.0000, 0.0000, 0.0000, 0.0000, 0.0000,\n",
            "          0.0000, 0.0157, 0.0000, 0.0000, 0.2157, 0.9255, 0.8941, 0.9020,\n",
            "          0.8941, 0.9412, 0.9098, 0.8353, 0.8549, 0.8745, 0.9176, 0.8510,\n",
            "          0.8510, 0.8196, 0.3608, 0.0000],\n",
            "         [0.0000, 0.0000, 0.0039, 0.0157, 0.0235, 0.0275, 0.0078, 0.0000,\n",
            "          0.0000, 0.0000, 0.0000, 0.0000, 0.9294, 0.8863, 0.8510, 0.8745,\n",
            "          0.8706, 0.8588, 0.8706, 0.8667, 0.8471, 0.8745, 0.8980, 0.8431,\n",
            "          0.8549, 1.0000, 0.3020, 0.0000],\n",
            "         [0.0000, 0.0118, 0.0000, 0.0000, 0.0000, 0.0000, 0.0000, 0.0000,\n",
            "          0.0000, 0.2431, 0.5686, 0.8000, 0.8941, 0.8118, 0.8353, 0.8667,\n",
            "          0.8549, 0.8157, 0.8275, 0.8549, 0.8784, 0.8745, 0.8588, 0.8431,\n",
            "          0.8784, 0.9569, 0.6235, 0.0000],\n",
            "         [0.0000, 0.0000, 0.0000, 0.0000, 0.0706, 0.1725, 0.3216, 0.4196,\n",
            "          0.7412, 0.8941, 0.8627, 0.8706, 0.8510, 0.8863, 0.7843, 0.8039,\n",
            "          0.8275, 0.9020, 0.8784, 0.9176, 0.6902, 0.7373, 0.9804, 0.9725,\n",
            "          0.9137, 0.9333, 0.8431, 0.0000],\n",
            "         [0.0000, 0.2235, 0.7333, 0.8157, 0.8784, 0.8667, 0.8784, 0.8157,\n",
            "          0.8000, 0.8392, 0.8157, 0.8196, 0.7843, 0.6235, 0.9608, 0.7569,\n",
            "          0.8078, 0.8745, 1.0000, 1.0000, 0.8667, 0.9176, 0.8667, 0.8275,\n",
            "          0.8627, 0.9098, 0.9647, 0.0000],\n",
            "         [0.0118, 0.7922, 0.8941, 0.8784, 0.8667, 0.8275, 0.8275, 0.8392,\n",
            "          0.8039, 0.8039, 0.8039, 0.8627, 0.9412, 0.3137, 0.5882, 1.0000,\n",
            "          0.8980, 0.8667, 0.7373, 0.6039, 0.7490, 0.8235, 0.8000, 0.8196,\n",
            "          0.8706, 0.8941, 0.8824, 0.0000],\n",
            "         [0.3843, 0.9137, 0.7765, 0.8235, 0.8706, 0.8980, 0.8980, 0.9176,\n",
            "          0.9765, 0.8627, 0.7608, 0.8431, 0.8510, 0.9451, 0.2549, 0.2863,\n",
            "          0.4157, 0.4588, 0.6588, 0.8588, 0.8667, 0.8431, 0.8510, 0.8745,\n",
            "          0.8745, 0.8784, 0.8980, 0.1137],\n",
            "         [0.2941, 0.8000, 0.8314, 0.8000, 0.7569, 0.8039, 0.8275, 0.8824,\n",
            "          0.8471, 0.7255, 0.7725, 0.8078, 0.7765, 0.8353, 0.9412, 0.7647,\n",
            "          0.8902, 0.9608, 0.9373, 0.8745, 0.8549, 0.8314, 0.8196, 0.8706,\n",
            "          0.8627, 0.8667, 0.9020, 0.2627],\n",
            "         [0.1882, 0.7961, 0.7176, 0.7608, 0.8353, 0.7725, 0.7255, 0.7451,\n",
            "          0.7608, 0.7529, 0.7922, 0.8392, 0.8588, 0.8667, 0.8627, 0.9255,\n",
            "          0.8824, 0.8471, 0.7804, 0.8078, 0.7294, 0.7098, 0.6941, 0.6745,\n",
            "          0.7098, 0.8039, 0.8078, 0.4510],\n",
            "         [0.0000, 0.4784, 0.8588, 0.7569, 0.7020, 0.6706, 0.7176, 0.7686,\n",
            "          0.8000, 0.8235, 0.8353, 0.8118, 0.8275, 0.8235, 0.7843, 0.7686,\n",
            "          0.7608, 0.7490, 0.7647, 0.7490, 0.7765, 0.7529, 0.6902, 0.6118,\n",
            "          0.6549, 0.6941, 0.8235, 0.3608],\n",
            "         [0.0000, 0.0000, 0.2902, 0.7412, 0.8314, 0.7490, 0.6863, 0.6745,\n",
            "          0.6863, 0.7098, 0.7255, 0.7373, 0.7412, 0.7373, 0.7569, 0.7765,\n",
            "          0.8000, 0.8196, 0.8235, 0.8235, 0.8275, 0.7373, 0.7373, 0.7608,\n",
            "          0.7529, 0.8471, 0.6667, 0.0000],\n",
            "         [0.0078, 0.0000, 0.0000, 0.0000, 0.2588, 0.7843, 0.8706, 0.9294,\n",
            "          0.9373, 0.9490, 0.9647, 0.9529, 0.9569, 0.8667, 0.8627, 0.7569,\n",
            "          0.7490, 0.7020, 0.7137, 0.7137, 0.7098, 0.6902, 0.6510, 0.6588,\n",
            "          0.3882, 0.2275, 0.0000, 0.0000],\n",
            "         [0.0000, 0.0000, 0.0000, 0.0000, 0.0000, 0.0000, 0.0000, 0.1569,\n",
            "          0.2392, 0.1725, 0.2824, 0.1608, 0.1373, 0.0000, 0.0000, 0.0000,\n",
            "          0.0000, 0.0000, 0.0000, 0.0000, 0.0000, 0.0000, 0.0000, 0.0000,\n",
            "          0.0000, 0.0000, 0.0000, 0.0000],\n",
            "         [0.0000, 0.0000, 0.0000, 0.0000, 0.0000, 0.0000, 0.0000, 0.0000,\n",
            "          0.0000, 0.0000, 0.0000, 0.0000, 0.0000, 0.0000, 0.0000, 0.0000,\n",
            "          0.0000, 0.0000, 0.0000, 0.0000, 0.0000, 0.0000, 0.0000, 0.0000,\n",
            "          0.0000, 0.0000, 0.0000, 0.0000],\n",
            "         [0.0000, 0.0000, 0.0000, 0.0000, 0.0000, 0.0000, 0.0000, 0.0000,\n",
            "          0.0000, 0.0000, 0.0000, 0.0000, 0.0000, 0.0000, 0.0000, 0.0000,\n",
            "          0.0000, 0.0000, 0.0000, 0.0000, 0.0000, 0.0000, 0.0000, 0.0000,\n",
            "          0.0000, 0.0000, 0.0000, 0.0000]]]) | Label: 9\n"
          ]
        }
      ]
    },
    {
      "cell_type": "code",
      "source": [
        "class_to_idx = train_data.class_to_idx\n",
        "class_to_idx"
      ],
      "metadata": {
        "id": "3a39WZJy_4kP",
        "colab": {
          "base_uri": "https://localhost:8080/"
        },
        "outputId": "42c269d5-b384-4e69-abf2-f6bab5a1aa81"
      },
      "execution_count": 4,
      "outputs": [
        {
          "output_type": "execute_result",
          "data": {
            "text/plain": [
              "{'T-shirt/top': 0,\n",
              " 'Trouser': 1,\n",
              " 'Pullover': 2,\n",
              " 'Dress': 3,\n",
              " 'Coat': 4,\n",
              " 'Sandal': 5,\n",
              " 'Shirt': 6,\n",
              " 'Sneaker': 7,\n",
              " 'Bag': 8,\n",
              " 'Ankle boot': 9}"
            ]
          },
          "metadata": {},
          "execution_count": 4
        }
      ]
    },
    {
      "cell_type": "code",
      "source": [
        "class_names = train_data.classes\n",
        "class_names"
      ],
      "metadata": {
        "colab": {
          "base_uri": "https://localhost:8080/"
        },
        "id": "hSLZER8F2Oui",
        "outputId": "3064ac26-5026-45a7-e53a-3c66380e418f"
      },
      "execution_count": 5,
      "outputs": [
        {
          "output_type": "execute_result",
          "data": {
            "text/plain": [
              "['T-shirt/top',\n",
              " 'Trouser',\n",
              " 'Pullover',\n",
              " 'Dress',\n",
              " 'Coat',\n",
              " 'Sandal',\n",
              " 'Shirt',\n",
              " 'Sneaker',\n",
              " 'Bag',\n",
              " 'Ankle boot']"
            ]
          },
          "metadata": {},
          "execution_count": 5
        }
      ]
    },
    {
      "cell_type": "code",
      "source": [
        "# Check the shape of our image\n",
        "print(f'Image Shape: {image.shape} -> [color_channels, height, width]') \n",
        "print(f'Image Label: {class_names[label]}')"
      ],
      "metadata": {
        "id": "DXNdAGAc_4h5",
        "colab": {
          "base_uri": "https://localhost:8080/"
        },
        "outputId": "6120f74c-93b5-45fb-eefb-f8f50e8bc560"
      },
      "execution_count": 6,
      "outputs": [
        {
          "output_type": "stream",
          "name": "stdout",
          "text": [
            "Image Shape: torch.Size([1, 28, 28]) -> [color_channels, height, width]\n",
            "Image Label: Ankle boot\n"
          ]
        }
      ]
    },
    {
      "cell_type": "markdown",
      "source": [
        "## 1.2 Visualizing Our Data"
      ],
      "metadata": {
        "id": "Ha6qpBNH_4fY"
      }
    },
    {
      "cell_type": "code",
      "source": [
        "# Plot more images\n",
        "torch.manual_seed(42)\n",
        "fig = plt.figure(figsize=(20, 20))\n",
        "rows, cols = 5, 5\n",
        "for idx in range(1, rows*cols+1):\n",
        "  random_idx = torch.randint(0, len(train_data), size=[1]).item()\n",
        "  image_, label_ = train_data[random_idx]\n",
        "  fig.add_subplot(rows, cols, idx)\n",
        "  plt.imshow(image_.squeeze(), cmap='gray')\n",
        "  plt.title(class_names[label_])"
      ],
      "metadata": {
        "colab": {
          "base_uri": "https://localhost:8080/",
          "height": 871
        },
        "id": "729nn3bE2kQA",
        "outputId": "c01daab0-4879-431d-c4ef-fa6f52765e47"
      },
      "execution_count": 7,
      "outputs": [
        {
          "output_type": "display_data",
          "data": {
            "text/plain": [
              "<Figure size 2000x2000 with 25 Axes>"
            ],
            "image/png": "[encoded data removed]"
          },
          "metadata": {}
        }
      ]
    },
    {
      "cell_type": "markdown",
      "source": [
        "## 2. Prepare DataLoader\n",
        "\n",
        "* Right now, our data is in the form of PyTorch Datasets.\n",
        "* DataLoader turns our dataset into a Python iterable.\n",
        "* More specifically, we want to turn our data into batches (or mini-batches).\n",
        "* Why would we do this?\n",
        "  * It is more computationally efficient, as in, your computing hardware may not be able to look (store in memory) at 60000 images in one hit. So we break it down to 32 images at a time (batch size of 32).\n",
        "  * It gives our neural network more chances to update its gradients per epoch."
      ],
      "metadata": {
        "id": "ZHirf_WB2kNi"
      }
    },
    {
      "cell_type": "code",
      "source": [
        "# Setup the Batch Size Hyperparameter\n",
        "BATCH_SIZE=32\n",
        "SHUFFLE_TRAIN_DATASET=True\n",
        "SHUFFLE_TEST_DATASET=False\n",
        "\n",
        "# Turn Dataset into Batches\n",
        "train_dataloader = DataLoader(train_data,\n",
        "                              batch_size=BATCH_SIZE,\n",
        "                              shuffle=SHUFFLE_TRAIN_DATASET)\n",
        "\n",
        "test_dataloader = DataLoader(test_data,\n",
        "                             batch_size=BATCH_SIZE,\n",
        "                             shuffle=SHUFFLE_TEST_DATASET)"
      ],
      "metadata": {
        "id": "HUnFl0OJ2kLE"
      },
      "execution_count": 8,
      "outputs": []
    },
    {
      "cell_type": "code",
      "source": [
        "# Let's check out what what we've created\n",
        "print(f\"DataLoaders: {train_dataloader, test_dataloader}\")\n",
        "print(f\"Length of train_dataloader: {len(train_dataloader)} batches of {BATCH_SIZE}...\")\n",
        "print(f\"Length of test_dataloader: {len(test_dataloader)} batches of {BATCH_SIZE}...\")"
      ],
      "metadata": {
        "colab": {
          "base_uri": "https://localhost:8080/"
        },
        "id": "b0wVIEwy2kIm",
        "outputId": "33d8d02d-7430-4e83-c6eb-5ecf41aaee90"
      },
      "execution_count": 9,
      "outputs": [
        {
          "output_type": "stream",
          "name": "stdout",
          "text": [
            "DataLoaders: (<torch.utils.data.dataloader.DataLoader object at 0x7f7dabb438e0>, <torch.utils.data.dataloader.DataLoader object at 0x7f7daa30bdc0>)\n",
            "Length of train_dataloader: 1875 batches of 32...\n",
            "Length of test_dataloader: 313 batches of 32...\n"
          ]
        }
      ]
    },
    {
      "cell_type": "code",
      "source": [
        "# Check out what's inside the training dataloader\n",
        "train_features_batch, train_labels_batch = next(iter(train_dataloader))\n",
        "train_features_batch.shape, train_labels_batch.shape"
      ],
      "metadata": {
        "colab": {
          "base_uri": "https://localhost:8080/"
        },
        "id": "2gBIKThU2kGI",
        "outputId": "39463e53-b139-4992-dc7e-28273e1ea7d9"
      },
      "execution_count": 10,
      "outputs": [
        {
          "output_type": "execute_result",
          "data": {
            "text/plain": [
              "(torch.Size([32, 1, 28, 28]), torch.Size([32]))"
            ]
          },
          "metadata": {},
          "execution_count": 10
        }
      ]
    },
    {
      "cell_type": "code",
      "source": [
        "train_features_batch[0]"
      ],
      "metadata": {
        "colab": {
          "base_uri": "https://localhost:8080/"
        },
        "id": "2v1-Odjh2kBl",
        "outputId": "94ec560e-57b2-4639-8f40-3cd029ad2b99"
      },
      "execution_count": 11,
      "outputs": [
        {
          "output_type": "execute_result",
          "data": {
            "text/plain": [
              "tensor([[[0.0000, 0.0000, 0.0000, 0.0000, 0.0000, 0.0000, 0.0000, 0.0000,\n",
              "          0.0000, 0.0000, 0.0000, 0.0000, 0.0000, 0.0000, 0.0000, 0.0000,\n",
              "          0.0000, 0.0000, 0.0000, 0.0000, 0.0000, 0.0000, 0.0000, 0.0000,\n",
              "          0.0000, 0.0000, 0.0000, 0.0000],\n",
              "         [0.0000, 0.0000, 0.0000, 0.0000, 0.0000, 0.0000, 0.0000, 0.0000,\n",
              "          0.0196, 0.0000, 0.0000, 0.0000, 0.0000, 0.0000, 0.0000, 0.0000,\n",
              "          0.0000, 0.0000, 0.0000, 0.0157, 0.0000, 0.0157, 0.0039, 0.0000,\n",
              "          0.0000, 0.0000, 0.0000, 0.0000],\n",
              "         [0.0000, 0.0000, 0.0000, 0.0000, 0.0000, 0.0000, 0.0000, 0.0039,\n",
              "          0.0000, 0.1490, 0.4667, 0.5098, 0.5373, 0.4941, 0.4824, 0.5137,\n",
              "          0.5490, 0.5137, 0.1294, 0.0000, 0.0039, 0.0000, 0.0000, 0.0000,\n",
              "          0.0000, 0.0000, 0.0000, 0.0000],\n",
              "         [0.0000, 0.0000, 0.0000, 0.0000, 0.0118, 0.0039, 0.0157, 0.0000,\n",
              "          0.2353, 0.5255, 0.1765, 0.0000, 0.0000, 0.0000, 0.0000, 0.0000,\n",
              "          0.0235, 0.1686, 0.4745, 0.3647, 0.0000, 0.0314, 0.0000, 0.0000,\n",
              "          0.0000, 0.0000, 0.0000, 0.0000],\n",
              "         [0.0000, 0.0000, 0.0000, 0.0000, 0.0000, 0.0000, 0.0157, 0.0000,\n",
              "          0.6157, 0.0745, 0.0000, 0.0000, 0.0000, 0.0118, 0.0118, 0.0039,\n",
              "          0.0000, 0.0000, 0.0000, 0.6863, 0.0706, 0.0000, 0.0078, 0.0000,\n",
              "          0.0000, 0.0000, 0.0000, 0.0000],\n",
              "         [0.0000, 0.0000, 0.0000, 0.0078, 0.0157, 0.0235, 0.0000, 0.0000,\n",
              "          0.5961, 0.0000, 0.0000, 0.0157, 0.0078, 0.0078, 0.0039, 0.0039,\n",
              "          0.0039, 0.0196, 0.0000, 0.1608, 0.6510, 0.0000, 0.0000, 0.0039,\n",
              "          0.0118, 0.0039, 0.0000, 0.0000],\n",
              "         [0.0000, 0.0000, 0.0000, 0.0000, 0.0000, 0.0000, 0.0000, 0.0000,\n",
              "          0.8314, 0.0000, 0.0000, 0.0000, 0.0000, 0.0000, 0.0000, 0.0000,\n",
              "          0.0000, 0.0000, 0.0000, 0.0000, 0.8275, 0.0902, 0.0000, 0.0000,\n",
              "          0.0000, 0.0000, 0.0039, 0.0000],\n",
              "         [0.0000, 0.0000, 0.0000, 0.0000, 0.2000, 0.3882, 0.3608, 0.3412,\n",
              "          0.5569, 0.4118, 0.4078, 0.4588, 0.4353, 0.3725, 0.3843, 0.3725,\n",
              "          0.3608, 0.3608, 0.3098, 0.4941, 0.4980, 0.6275, 0.1922, 0.2627,\n",
              "          0.0902, 0.0000, 0.0000, 0.0000],\n",
              "         [0.0000, 0.0000, 0.0000, 0.7216, 0.8471, 0.7137, 0.7294, 0.6196,\n",
              "          0.5098, 0.5216, 0.5098, 0.5216, 0.5451, 0.5961, 0.6784, 0.7216,\n",
              "          0.6902, 0.7529, 0.7098, 0.7255, 0.6392, 0.8314, 0.6863, 0.7059,\n",
              "          0.7765, 0.4235, 0.0000, 0.0000],\n",
              "         [0.0000, 0.0000, 0.2275, 0.7882, 0.8353, 0.8235, 0.8078, 0.8078,\n",
              "          0.8196, 0.7490, 0.7059, 0.7137, 0.7412, 0.7608, 0.7922, 0.7804,\n",
              "          0.7490, 0.7412, 0.7608, 0.7529, 0.8314, 0.9098, 0.8078, 0.7686,\n",
              "          0.8980, 0.5804, 0.0392, 0.0000],\n",
              "         [0.0000, 0.0000, 0.5333, 0.8275, 0.8235, 0.8275, 0.7961, 0.7961,\n",
              "          0.7961, 0.8000, 0.8078, 0.8000, 0.7686, 0.7569, 0.7843, 0.7804,\n",
              "          0.7569, 0.7294, 0.7725, 0.7412, 0.6588, 0.8549, 0.8863, 0.8510,\n",
              "          0.9059, 0.6157, 0.2588, 0.0000],\n",
              "         [0.0000, 0.0000, 0.6706, 0.8667, 0.8078, 0.8588, 0.8275, 0.8275,\n",
              "          0.8000, 0.8118, 0.8000, 0.7961, 0.8039, 0.7608, 0.7569, 0.7647,\n",
              "          0.7569, 0.7686, 0.8235, 0.7922, 0.8078, 0.7922, 0.8510, 0.8902,\n",
              "          0.8471, 0.7882, 0.4549, 0.0706],\n",
              "         [0.0000, 0.0000, 0.8157, 0.8627, 0.8196, 0.8549, 0.8118, 0.8314,\n",
              "          0.8392, 0.8275, 0.8157, 0.8235, 0.7922, 0.8392, 0.8706, 0.8196,\n",
              "          0.7765, 0.8000, 0.8235, 0.8000, 0.8196, 0.7843, 0.8549, 0.9059,\n",
              "          0.8745, 0.7843, 0.4549, 0.1490],\n",
              "         [0.0000, 0.0000, 0.8980, 0.8157, 0.8157, 0.8471, 0.8275, 0.8196,\n",
              "          0.8157, 0.8275, 0.8353, 0.7961, 0.9020, 0.6941, 0.5882, 0.7216,\n",
              "          0.8549, 0.8824, 0.7608, 0.7333, 0.9490, 0.6078, 0.8314, 0.9098,\n",
              "          0.8549, 0.8824, 0.4549, 0.1686],\n",
              "         [0.0000, 0.1098, 0.8000, 0.7922, 0.8275, 0.8392, 0.8118, 0.8275,\n",
              "          0.8392, 0.8000, 0.8235, 0.7765, 0.9451, 0.5216, 0.1294, 0.5176,\n",
              "          0.9137, 0.8039, 0.8784, 0.4863, 0.7725, 0.5804, 0.8275, 0.9373,\n",
              "          0.8706, 0.8588, 0.5020, 0.1294],\n",
              "         [0.0000, 0.3137, 0.8392, 0.8000, 0.8510, 0.8941, 0.9059, 0.8863,\n",
              "          0.8745, 0.9333, 0.9176, 0.8706, 1.0000, 0.6078, 0.1608, 0.5882,\n",
              "          1.0000, 0.8784, 0.9882, 0.8784, 0.5961, 0.7020, 1.0000, 0.8745,\n",
              "          0.8706, 0.8353, 0.5333, 0.1294],\n",
              "         [0.0000, 0.4353, 0.8157, 0.7882, 0.8275, 0.7961, 0.7569, 0.7686,\n",
              "          0.7843, 0.8588, 0.6745, 0.7569, 0.9529, 0.6549, 0.2275, 0.6275,\n",
              "          1.0000, 0.6902, 0.7529, 1.0000, 0.8902, 0.7137, 0.9216, 0.8902,\n",
              "          0.8471, 0.8353, 0.6627, 0.0863],\n",
              "         [0.0000, 0.5137, 0.7765, 0.7294, 0.7961, 0.7725, 0.6863, 0.8000,\n",
              "          0.7451, 0.7569, 0.6824, 0.7843, 0.7922, 0.6588, 0.2078, 0.6196,\n",
              "          0.9059, 0.6745, 0.7294, 0.8784, 0.9059, 0.9647, 0.9059, 0.9059,\n",
              "          0.8314, 0.7765, 0.7961, 0.0941],\n",
              "         [0.0275, 0.4784, 0.7804, 0.8235, 0.7294, 0.7451, 0.7922, 0.8196,\n",
              "          0.6902, 0.7686, 0.8549, 0.7922, 0.6588, 0.6314, 0.3529, 0.5451,\n",
              "          0.7137, 0.8667, 0.8941, 0.7647, 0.8157, 0.9647, 0.9725, 0.6706,\n",
              "          0.8431, 0.8863, 0.7451, 0.0510],\n",
              "         [0.1020, 0.4745, 0.8000, 0.7529, 0.7765, 0.8275, 0.6745, 0.7255,\n",
              "          0.8902, 0.8471, 0.4863, 0.7882, 0.9490, 0.7529, 0.4667, 0.7137,\n",
              "          1.0000, 0.6157, 0.6000, 0.9412, 0.9451, 0.7137, 0.8000, 0.9098,\n",
              "          0.7882, 0.7373, 0.8000, 0.0549],\n",
              "         [0.2078, 0.3137, 0.7098, 0.8667, 0.7294, 0.7451, 0.8471, 0.8431,\n",
              "          0.6157, 0.8196, 0.8863, 0.7765, 0.5647, 0.9569, 0.9922, 0.7961,\n",
              "          0.6431, 0.8588, 0.8275, 0.7686, 0.8000, 0.8431, 0.8980, 0.6863,\n",
              "          0.7804, 0.8902, 0.6980, 0.0000],\n",
              "         [0.2353, 0.3098, 0.5608, 0.8863, 0.7412, 0.7765, 0.7725, 0.7961,\n",
              "          0.7804, 0.7843, 0.7137, 0.8353, 0.7098, 0.7922, 0.7255, 0.7961,\n",
              "          0.6902, 0.8235, 0.7961, 0.7333, 0.7922, 0.8196, 0.7961, 0.7608,\n",
              "          0.7804, 0.9294, 0.2039, 0.0000],\n",
              "         [0.1922, 1.0000, 0.8196, 0.8157, 0.8549, 0.8980, 0.6902, 0.8039,\n",
              "          0.8824, 0.8235, 0.6275, 0.8706, 0.8353, 0.7843, 0.6196, 0.8863,\n",
              "          0.8471, 0.7333, 0.6667, 0.8824, 0.8902, 0.6824, 0.7412, 0.8588,\n",
              "          0.9059, 0.7725, 0.0000, 0.0000],\n",
              "         [0.0000, 0.5804, 0.8549, 0.8000, 0.8941, 0.9216, 0.9059, 0.9020,\n",
              "          0.7255, 0.8549, 0.8745, 0.8157, 0.6039, 0.8471, 0.9059, 0.7569,\n",
              "          0.5373, 0.8588, 0.9176, 0.6863, 0.6627, 0.9255, 0.8510, 0.7098,\n",
              "          0.8863, 0.3176, 0.0000, 0.0000],\n",
              "         [0.0000, 0.2667, 0.8941, 0.8314, 0.6745, 0.6588, 0.8431, 0.7647,\n",
              "          0.7647, 0.9647, 0.7412, 0.8275, 0.9098, 0.8588, 0.5804, 0.8588,\n",
              "          0.9176, 0.7176, 0.6314, 0.8549, 0.8235, 0.6980, 0.8196, 0.9412,\n",
              "          0.4980, 0.0000, 0.0000, 0.0000],\n",
              "         [0.0000, 0.9137, 0.9176, 0.7333, 0.6275, 0.8353, 0.8667, 0.8510,\n",
              "          0.8627, 0.8314, 0.8549, 0.9098, 0.8000, 0.8431, 0.8078, 0.8039,\n",
              "          0.7686, 0.8157, 0.7843, 0.8118, 0.8588, 0.8588, 0.7333, 0.3647,\n",
              "          0.0000, 0.0000, 0.0157, 0.0000],\n",
              "         [0.0000, 0.7882, 1.0000, 0.8000, 0.6353, 0.9882, 1.0000, 0.9647,\n",
              "          0.9961, 0.9961, 0.9451, 0.9804, 0.8784, 1.0000, 1.0000, 0.9647,\n",
              "          0.8353, 0.9804, 0.9569, 0.7020, 0.5922, 0.3412, 0.0000, 0.0000,\n",
              "          0.0000, 0.0000, 0.0000, 0.0000],\n",
              "         [0.0000, 0.1451, 0.3020, 0.2157, 0.6235, 0.7451, 0.7490, 0.6902,\n",
              "          0.7098, 0.8118, 0.1804, 0.0000, 0.0000, 0.0000, 0.0000, 0.0000,\n",
              "          0.0000, 0.0000, 0.0000, 0.0000, 0.0000, 0.0000, 0.0000, 0.0039,\n",
              "          0.0000, 0.0000, 0.0000, 0.0000]]])"
            ]
          },
          "metadata": {},
          "execution_count": 11
        }
      ]
    },
    {
      "cell_type": "markdown",
      "source": [
        "## 3. Create Baseline ModelV0"
      ],
      "metadata": {
        "id": "Xj9Wx0s52j_H"
      }
    },
    {
      "cell_type": "code",
      "source": [
        "# Create a device agnostic code\n",
        "device = 'cuda' if torch.cuda.is_available() else 'cpu'\n",
        "device"
      ],
      "metadata": {
        "colab": {
          "base_uri": "https://localhost:8080/",
          "height": 35
        },
        "id": "iLu1xgpPua-z",
        "outputId": "7f9aa172-03fd-45e9-ba9e-1c7925c3799f"
      },
      "execution_count": 12,
      "outputs": [
        {
          "output_type": "execute_result",
          "data": {
            "text/plain": [
              "'cuda'"
            ],
            "application/vnd.google.colaboratory.intrinsic+json": {
              "type": "string"
            }
          },
          "metadata": {},
          "execution_count": 12
        }
      ]
    },
    {
      "cell_type": "code",
      "source": [
        "torch.manual_seed(42)\n",
        "torch.cuda.manual_seed(42)\n",
        "\n",
        "class FashionMNISTModelV0(nn.Module):\n",
        "  def __init__(self,\n",
        "               input_shape: int,\n",
        "               hidden_neurons: int,\n",
        "               output_shape: int):\n",
        "    super().__init__()\n",
        "    \n",
        "    self.flatten_layer = nn.Flatten()\n",
        "    self.input_layer = nn.Linear(in_features=input_shape,\n",
        "                                 out_features=hidden_neurons)\n",
        "    self.output_layer = nn.Linear(in_features=hidden_neurons,\n",
        "                                  out_features=output_shape)\n",
        "    # self.activation_func = nn.ReLU() # Adding for non-linearity\n",
        "  \n",
        "  def forward(self, x:torch.Tensor) -> torch.Tensor:\n",
        "    return self.output_layer(self.input_layer(self.flatten_layer(x)))\n",
        "\n",
        "base_line_model = FashionMNISTModelV0(\n",
        "    input_shape=(train_features_batch.shape[-2]*train_features_batch.shape[-1]),\n",
        "    hidden_neurons=10,\n",
        "    output_shape=len(class_names)\n",
        ").to(device)\n",
        "\n",
        "base_line_model"
      ],
      "metadata": {
        "id": "q6AIFGjk2j8x",
        "colab": {
          "base_uri": "https://localhost:8080/"
        },
        "outputId": "578d0e83-9085-40e5-e71c-690e43beb8f5"
      },
      "execution_count": 13,
      "outputs": [
        {
          "output_type": "execute_result",
          "data": {
            "text/plain": [
              "FashionMNISTModelV0(\n",
              "  (flatten_layer): Flatten(start_dim=1, end_dim=-1)\n",
              "  (input_layer): Linear(in_features=784, out_features=10, bias=True)\n",
              "  (output_layer): Linear(in_features=10, out_features=10, bias=True)\n",
              ")"
            ]
          },
          "metadata": {},
          "execution_count": 13
        }
      ]
    },
    {
      "cell_type": "markdown",
      "source": [
        "## 3.1. Create a Loss Function, Optimizer & Evaluation Function"
      ],
      "metadata": {
        "id": "Bknhge_r2j6i"
      }
    },
    {
      "cell_type": "code",
      "source": [
        "# Download helper functions\n",
        "if Path(\"helper_functions.py\").is_file():\n",
        "  print(\"helper_functions.py already exists, skipping download\")\n",
        "else:\n",
        "  print(\"Downloading helper_functions.py\")\n",
        "  request = requests.get(\"https://raw.githubusercontent.com/UygarKAYA/DeepLearning/main/utils/helper_functions.py\")\n",
        "  with open(\"helper_functions.py\", \"wb\") as f:\n",
        "    f.write(request.content)"
      ],
      "metadata": {
        "id": "VKbHiWYZ2j4F",
        "colab": {
          "base_uri": "https://localhost:8080/"
        },
        "outputId": "e69d38b2-c539-4f67-ecf9-29d03cd16f9c"
      },
      "execution_count": 14,
      "outputs": [
        {
          "output_type": "stream",
          "name": "stdout",
          "text": [
            "Downloading helper_functions.py\n"
          ]
        }
      ]
    },
    {
      "cell_type": "code",
      "source": [
        "# Setup Hyperparameter\n",
        "LEARNING_RATE=0.1\n",
        "BASE_LINE_MODEL_PARAMETERS=base_line_model.parameters()\n",
        "\n",
        "loss_func = nn.CrossEntropyLoss()\n",
        "optimizer = torch.optim.SGD(params=BASE_LINE_MODEL_PARAMETERS,\n",
        "                            lr=LEARNING_RATE)"
      ],
      "metadata": {
        "id": "sWWM9x8D2j19"
      },
      "execution_count": 15,
      "outputs": []
    },
    {
      "cell_type": "markdown",
      "source": [
        "## 3.2 Creating a Function to Time Our Experiments\n",
        "\n",
        "* Deep Learning & Machine Learning is Very Experimental\n",
        "* Two of the main things you'll often want to track are:\n",
        "  * Model's Performance (Loss & Accuracy Results and etc)\n",
        "  * How Fast It Runs"
      ],
      "metadata": {
        "id": "ZjWyKtRL3smd"
      }
    },
    {
      "cell_type": "code",
      "source": [
        "from helper_functions import accuracy_func, execution_time"
      ],
      "metadata": {
        "id": "8eun0-jw6fR1"
      },
      "execution_count": 16,
      "outputs": []
    },
    {
      "cell_type": "markdown",
      "source": [
        "## 3.3 Creating a training loop and training a model on batches of data\n",
        "  * Loop through epochs.\n",
        "  *Loop through training batches, perform training steps, calculate the train loss per batch.\n",
        "  * Loop through testing batches, perform testing steps, calculate the test loss per batch.\n",
        "  * Print out what's happening.\n",
        "  * Time it all (for fun).\n",
        "\n",
        "* Note: Because we are computing on batches, the optimizer will update the model's parameters once per batch rather than once per epoch.\n"
      ],
      "metadata": {
        "id": "3sfcv0kn9jhe"
      }
    },
    {
      "cell_type": "code",
      "source": [
        "# Import tqdm for Progress Bar\n",
        "from tqdm.auto import tqdm\n",
        "\n",
        "torch.manual_seed(42)\n",
        "torch.cuda.manual_seed(42)\n",
        "start_time=time.time()\n",
        "EPOCHS=20\n",
        "\n",
        "# Create Training & Test Loop\n",
        "for epoch in tqdm(range(EPOCHS)):\n",
        "  train_loss, train_accuracy, test_loss, test_accuracy = 0, 0, 0, 0\n",
        "\n",
        "  # Add a Training Loop to Loop Through the Training Batches\n",
        "  for batch, (train_image, train_label) in enumerate(train_dataloader):\n",
        "    # Put Data to Target Device \n",
        "    train_image, train_label = train_image.to(device), train_label.to(device)\n",
        "\n",
        "    # Training Phase\n",
        "    base_line_model.train()\n",
        "\n",
        "    # 1. Forward Pass\n",
        "    train_logits = base_line_model.forward(train_image)\n",
        "    train_preds = train_logits.argmax(dim=1)\n",
        "\n",
        "    # 2. Calculate Train Loss & Accuracy for Per Batch\n",
        "    train_loss_ = loss_func(train_logits, train_label)\n",
        "    train_accuracy_ = accuracy_func(train_preds, train_label)\n",
        "\n",
        "    train_loss += train_loss_ # Accumulate Train Loss\n",
        "    train_accuracy += train_accuracy_ # Accumulate Train Accuracy\n",
        "\n",
        "    # 3. Optimizer Zero Grad\n",
        "    optimizer.zero_grad()\n",
        "\n",
        "    # 4. Backward Loss\n",
        "    train_loss_.backward()\n",
        "\n",
        "    # 5. Optimizer Step\n",
        "    optimizer.step()\n",
        "\n",
        "    # # Print Out What's Happening\n",
        "    # if batch % 600 == 0:\n",
        "    #   print(f\"Looked at {batch * len(train_image)}/{len(train_dataloader.dataset)} Samples.\")\n",
        "\n",
        "  # Divide Total Train Loss & Accuracy by Length of Train Dataloader to Get Average Train Loss Per Epoch\n",
        "  train_loss /= len(train_dataloader)\n",
        "  train_accuracy /= len(train_dataloader)\n",
        "\n",
        "  # Testing Phase\n",
        "  base_line_model.eval()\n",
        "  with torch.inference_mode():\n",
        "    for (test_image, test_label) in test_dataloader:\n",
        "      # Put Data to Target Device \n",
        "      test_image, test_label = test_image.to(device), test_label.to(device)\n",
        "\n",
        "      # 1. Forward Pass\n",
        "      test_logits = base_line_model.forward(test_image)\n",
        "      test_preds = test_logits.argmax(dim=1)\n",
        "\n",
        "      # 2. Calculate Test Loss & Accuracy for Per Batch\n",
        "      test_loss_ = loss_func(test_logits, test_label)\n",
        "      test_accuracy_ = accuracy_func(test_preds, test_label)\n",
        "\n",
        "      test_loss += test_loss_\n",
        "      test_accuracy += test_accuracy_\n",
        "\n",
        "    # Divide Total Test Loss & Accuracy by Length of Test Dataloader to Get Average Test Loss Per Epoch\n",
        "    test_loss /= len(test_dataloader)\n",
        "    test_accuracy /= len(test_dataloader)\n",
        "  \n",
        "  print(f\"Epoch: {epoch} | Train Accuracy: {train_accuracy:.3f} | Train Loss: {train_loss:.3f} | Test Accuracy: {test_accuracy:.3f} | Test Loss: {test_loss:.3f}\")\n",
        "\n",
        "# Calculate the Execution Time\n",
        "end_time=time.time()\n",
        "base_line_model_execution_time = execution_time(\n",
        "  start_time, \n",
        "  end_time, \n",
        "  str(next(base_line_model.parameters()).device)\n",
        ")"
      ],
      "metadata": {
        "id": "gsOjW3Gm9c6H",
        "colab": {
          "base_uri": "https://localhost:8080/",
          "height": 422,
          "referenced_widgets": [
            "da345050af6f4e7ebf38e2150ed44b3f",
            "4929cd585d5f4978bcdb53856ae87c25",
            "8f2974902c014a898a1295ae29c2e213",
            "bdf5787f13b443c5a8472c3911fa9c72",
            "6978dfbb40cb45e0aace67cb813663b6",
            "9e930c6f5df84174a0b6328399049024",
            "37e5d0718cba4361b5de87c6d604e364",
            "ef781936e08b4b11a8236276d08d62d1",
            "dfc2ea6feefe42f6b40ca645f9e1b799",
            "13c8c713ae5f495b8ebc3371c9b2c412",
            "5b369bdc1db141279974f6a458a502c4"
          ]
        },
        "outputId": "769a6962-b45d-407f-a65e-b2a02a7598ee"
      },
      "execution_count": 17,
      "outputs": [
        {
          "output_type": "display_data",
          "data": {
            "text/plain": [
              "  0%|          | 0/20 [00:00<?, ?it/s]"
            ],
            "application/vnd.jupyter.widget-view+json": {
              "version_major": 2,
              "version_minor": 0,
              "model_id": "da345050af6f4e7ebf38e2150ed44b3f"
            }
          },
          "metadata": {}
        },
        {
          "output_type": "stream",
          "name": "stdout",
          "text": [
            "Epoch: 0 | Train Accuracy: 79.172 | Train Loss: 0.590 | Test Accuracy: 82.039 | Test Loss: 0.510\n",
            "Epoch: 1 | Train Accuracy: 83.320 | Train Loss: 0.476 | Test Accuracy: 83.197 | Test Loss: 0.480\n",
            "Epoch: 2 | Train Accuracy: 84.052 | Train Loss: 0.455 | Test Accuracy: 83.427 | Test Loss: 0.477\n",
            "Epoch: 3 | Train Accuracy: 84.473 | Train Loss: 0.443 | Test Accuracy: 83.746 | Test Loss: 0.463\n",
            "Epoch: 4 | Train Accuracy: 84.700 | Train Loss: 0.436 | Test Accuracy: 83.267 | Test Loss: 0.469\n",
            "Epoch: 5 | Train Accuracy: 84.972 | Train Loss: 0.429 | Test Accuracy: 83.636 | Test Loss: 0.459\n",
            "Epoch: 6 | Train Accuracy: 85.225 | Train Loss: 0.425 | Test Accuracy: 83.317 | Test Loss: 0.488\n",
            "Epoch: 7 | Train Accuracy: 85.058 | Train Loss: 0.423 | Test Accuracy: 83.377 | Test Loss: 0.472\n",
            "Epoch: 8 | Train Accuracy: 85.255 | Train Loss: 0.420 | Test Accuracy: 83.456 | Test Loss: 0.471\n",
            "Epoch: 9 | Train Accuracy: 85.287 | Train Loss: 0.418 | Test Accuracy: 83.646 | Test Loss: 0.463\n",
            "Epoch: 10 | Train Accuracy: 85.242 | Train Loss: 0.416 | Test Accuracy: 83.646 | Test Loss: 0.462\n",
            "Epoch: 11 | Train Accuracy: 85.543 | Train Loss: 0.412 | Test Accuracy: 83.676 | Test Loss: 0.463\n",
            "Epoch: 12 | Train Accuracy: 85.538 | Train Loss: 0.411 | Test Accuracy: 83.986 | Test Loss: 0.463\n",
            "Epoch: 13 | Train Accuracy: 85.505 | Train Loss: 0.410 | Test Accuracy: 84.125 | Test Loss: 0.463\n",
            "Epoch: 14 | Train Accuracy: 85.620 | Train Loss: 0.408 | Test Accuracy: 82.937 | Test Loss: 0.476\n",
            "Epoch: 15 | Train Accuracy: 85.623 | Train Loss: 0.408 | Test Accuracy: 83.167 | Test Loss: 0.485\n",
            "Epoch: 16 | Train Accuracy: 85.717 | Train Loss: 0.406 | Test Accuracy: 83.257 | Test Loss: 0.476\n",
            "Epoch: 17 | Train Accuracy: 85.767 | Train Loss: 0.405 | Test Accuracy: 82.578 | Test Loss: 0.501\n",
            "Epoch: 18 | Train Accuracy: 85.767 | Train Loss: 0.404 | Test Accuracy: 83.337 | Test Loss: 0.470\n",
            "Epoch: 19 | Train Accuracy: 85.760 | Train Loss: 0.403 | Test Accuracy: 83.866 | Test Loss: 0.462\n",
            "Train Time on CUDA:0: 243.033 Seconds\n"
          ]
        }
      ]
    },
    {
      "cell_type": "markdown",
      "source": [
        "## 4. ModelV1: Building a Model with Non-Linearity"
      ],
      "metadata": {
        "id": "NiABjJ-TjXaK"
      }
    },
    {
      "cell_type": "code",
      "source": [
        "torch.manual_seed(42)\n",
        "torch.cuda.manual_seed(42)\n",
        "\n",
        "# Create a Model with Non-Linear\n",
        "class FashionMNISTModelV1(nn.Module):\n",
        "  def __init__(self,\n",
        "               input_size: int, \n",
        "               hidden_neurons: int, \n",
        "               output_size: int):\n",
        "    super().__init__()\n",
        "\n",
        "    self.sequential_layer = nn.Sequential(\n",
        "        nn.Flatten(), # Flatten Inputs Into a Single Vector\n",
        "        nn.Linear(in_features=input_size, out_features=hidden_neurons),\n",
        "        nn.ReLU(),\n",
        "        nn.Linear(in_features=hidden_neurons, out_features=output_size),\n",
        "        nn.ReLU()\n",
        "    )\n",
        "  \n",
        "  def forward(self, x: torch.Tensor) -> torch.Tensor:\n",
        "    return self.sequential_layer(x)\n",
        "\n",
        "non_linear_model = FashionMNISTModelV1(\n",
        "    input_size=(train_features_batch.shape[-2]*train_features_batch.shape[-1]),\n",
        "    hidden_neurons=10,\n",
        "    output_size=len(class_names)\n",
        ").to(device)\n",
        "\n",
        "non_linear_model"
      ],
      "metadata": {
        "id": "ouwF9FNVjXXl",
        "colab": {
          "base_uri": "https://localhost:8080/"
        },
        "outputId": "9a2ea3e2-64bc-4ec2-cfb6-74dc57b991e9"
      },
      "execution_count": 18,
      "outputs": [
        {
          "output_type": "execute_result",
          "data": {
            "text/plain": [
              "FashionMNISTModelV1(\n",
              "  (sequential_layer): Sequential(\n",
              "    (0): Flatten(start_dim=1, end_dim=-1)\n",
              "    (1): Linear(in_features=784, out_features=10, bias=True)\n",
              "    (2): ReLU()\n",
              "    (3): Linear(in_features=10, out_features=10, bias=True)\n",
              "    (4): ReLU()\n",
              "  )\n",
              ")"
            ]
          },
          "metadata": {},
          "execution_count": 18
        }
      ]
    },
    {
      "cell_type": "markdown",
      "source": [
        "## 4.1 Create a Loss Function, Optimizer & Evaluation Function"
      ],
      "metadata": {
        "id": "rn3-Akp5xEzT"
      }
    },
    {
      "cell_type": "code",
      "source": [
        "NON_LINEAR_MODEL_PARAMETERS=non_linear_model.parameters()\n",
        "\n",
        "loss_func = nn.CrossEntropyLoss()\n",
        "optimizer = torch.optim.SGD(params=NON_LINEAR_MODEL_PARAMETERS,\n",
        "                            lr=LEARNING_RATE)"
      ],
      "metadata": {
        "id": "q8xLtlvqjXVM"
      },
      "execution_count": 19,
      "outputs": []
    },
    {
      "cell_type": "markdown",
      "source": [
        "## 4.2 Functionizing Training & Testing/Inference Loops"
      ],
      "metadata": {
        "id": "pfSbtsrtxBxR"
      }
    },
    {
      "cell_type": "code",
      "source": [
        "def train_model(model: torch.nn.Module,\n",
        "                train_data_loader: torch.utils.data.DataLoader, \n",
        "                loss_func: torch.nn.Module,\n",
        "                optimizer: torch.optim.Optimizer,\n",
        "                accuracy_func,\n",
        "                device: torch.device=device):\n",
        "  \"\"\"\n",
        "  Performs a Training with Model Trying to Learn on DataLoader\n",
        "  \"\"\"\n",
        "  \n",
        "  train_loss, train_accuracy = 0, 0\n",
        "\n",
        "  # Put Model into Training Phase\n",
        "  model.train()\n",
        "\n",
        "  # Add a Loop to Loop Through the Training Batches\n",
        "  for batch, (train_image, train_label) in enumerate(train_data_loader):\n",
        "    \n",
        "    # Put Data to Target Device\n",
        "    train_image, train_label = train_image.to(device), train_label.to(device)\n",
        "    \n",
        "    # 1. Forward Pass\n",
        "    train_logits = model.forward(train_image)\n",
        "    train_preds = train_logits.argmax(dim=1)\n",
        "\n",
        "    # 2. Calculate Loss & Accuracy Per Batch\n",
        "    train_loss_ = loss_func(train_logits, train_label)\n",
        "    train_loss += train_loss_ #  Accumulate Train Loss\n",
        "    train_accuracy += accuracy_func(train_preds, train_label)\n",
        "\n",
        "    # 3. Optimizer Zero Grad\n",
        "    optimizer.zero_grad()\n",
        "\n",
        "    # 4. Loss Backward\n",
        "    train_loss_.backward()\n",
        "\n",
        "    # 5. Optimizer Step\n",
        "    optimizer.step()\n",
        "\n",
        "  # Divide Total Train Loss & Accuracy by Length of Train DataLoader\n",
        "  train_loss /= len(train_data_loader)\n",
        "  train_accuracy /= len(train_data_loader)\n",
        "\n",
        "  print(f\"Train Accuracy: {train_accuracy:.2f} | Train Loss: {train_loss:.2f}\")"
      ],
      "metadata": {
        "id": "xkvBQ-npxBnC"
      },
      "execution_count": 20,
      "outputs": []
    },
    {
      "cell_type": "code",
      "source": [
        "def test_model(model: torch.nn.Module,\n",
        "               test_data_loader: torch.utils.data.DataLoader,\n",
        "               loss_func: torch.nn.Module, \n",
        "               accuracy_func,\n",
        "               device: torch.device=device):\n",
        "  \"\"\"\n",
        "  Performs a Testing Loop Step on Model Going Over DataLoader\n",
        "  \"\"\"\n",
        "\n",
        "  test_loss, test_accuracy = 0, 0\n",
        "\n",
        "  # Put the Model in Eval Mode\n",
        "  model.eval()\n",
        "\n",
        "  # Turn on Inference Mode Context Manager\n",
        "  with torch.inference_mode():\n",
        "    for (test_image, test_label) in test_data_loader:\n",
        "\n",
        "      # Send the Data Target Device\n",
        "      test_image, test_label = test_image.to(device), test_label.to(device)\n",
        "\n",
        "      # 1. Forward Pass\n",
        "      test_logits = model.forward(test_image)\n",
        "      test_preds = test_logits.argmax(dim=1)\n",
        "\n",
        "      # 2. Calculate Loss & Accuracy Per Batch\n",
        "      test_loss += loss_func(test_logits, test_label)\n",
        "      test_accuracy += accuracy_func(test_preds, test_label)\n",
        "\n",
        "    # Divide Total Test Loss & Accuracy by Length of Test DataLoader\n",
        "    test_loss /= len(test_data_loader)\n",
        "    test_accuracy /= len(test_data_loader)\n",
        "  \n",
        "    print(f\"Test Accuracy:  {test_accuracy:.2f} | Test Loss:  {test_loss:.2f}\")"
      ],
      "metadata": {
        "id": "iOIgaQ4MxBjS"
      },
      "execution_count": 21,
      "outputs": []
    },
    {
      "cell_type": "code",
      "source": [
        "torch.manual_seed(42)\n",
        "torch.cuda.manual_seed(42)\n",
        "execution_start_time = time.time()\n",
        "\n",
        "for epoch in tqdm(range(EPOCHS)):\n",
        "  print(f\"EPOCH: {epoch}\\n------------\")\n",
        "  train_model(model=non_linear_model,\n",
        "              train_data_loader=train_dataloader,\n",
        "              loss_func=loss_func,\n",
        "              optimizer=optimizer,\n",
        "              accuracy_func=accuracy_func,\n",
        "              device=device)\n",
        "  \n",
        "  test_model(model=non_linear_model,\n",
        "             test_data_loader=test_dataloader,\n",
        "             loss_func=loss_func,\n",
        "             accuracy_func=accuracy_func,\n",
        "             device=device)\n",
        "  print()\n",
        "execution_end_time = time.time()\n",
        "non_linear_model_execution_time = execution_time(\n",
        "  start_time=execution_start_time,\n",
        "  end_time=execution_end_time,\n",
        "  device=device\n",
        ")"
      ],
      "metadata": {
        "id": "gP2ZZDtUxBe_",
        "colab": {
          "base_uri": "https://localhost:8080/",
          "height": 1000,
          "referenced_widgets": [
            "7dc1bad2d1214ca6bbdc598c7803ea73",
            "9c1833054c0e47c690d6cad659398ea4",
            "292513b54d5e4fbf9f13c4cfd6b2ca75",
            "f0eab191fdf64053a89a2620bc489cf3",
            "2f721971304844fc87dbdf8490c8c328",
            "a8ab5d9f1f9940839712a6ecf8095db5",
            "82978e28e1f54732ae2253a7c9d0f8da",
            "b8cba848c91b42ebb4d56e4e91c9574d",
            "02ba9e6cbbe44d338f9f612e924a761c",
            "eb3b932b3eb34031b129f4e605ac134f",
            "c2d062b345fe42bc917f86beb8049d2c"
          ]
        },
        "outputId": "ff502b05-76dd-4c07-8706-72e705e6ee84"
      },
      "execution_count": 22,
      "outputs": [
        {
          "output_type": "display_data",
          "data": {
            "text/plain": [
              "  0%|          | 0/20 [00:00<?, ?it/s]"
            ],
            "application/vnd.jupyter.widget-view+json": {
              "version_major": 2,
              "version_minor": 0,
              "model_id": "7dc1bad2d1214ca6bbdc598c7803ea73"
            }
          },
          "metadata": {}
        },
        {
          "output_type": "stream",
          "name": "stdout",
          "text": [
            "EPOCH: 0\n",
            "------------\n",
            "Train Accuracy: 61.34 | Train Loss: 1.09\n",
            "Test Accuracy:  65.00 | Test Loss:  0.96\n",
            "\n",
            "EPOCH: 1\n",
            "------------\n",
            "Train Accuracy: 71.93 | Train Loss: 0.78\n",
            "Test Accuracy:  73.91 | Test Loss:  0.72\n",
            "\n",
            "EPOCH: 2\n",
            "------------\n",
            "Train Accuracy: 75.94 | Train Loss: 0.67\n",
            "Test Accuracy:  75.02 | Test Loss:  0.69\n",
            "\n",
            "EPOCH: 3\n",
            "------------\n",
            "Train Accuracy: 76.52 | Train Loss: 0.64\n",
            "Test Accuracy:  76.13 | Test Loss:  0.65\n",
            "\n",
            "EPOCH: 4\n",
            "------------\n",
            "Train Accuracy: 77.00 | Train Loss: 0.63\n",
            "Test Accuracy:  75.95 | Test Loss:  0.65\n",
            "\n",
            "EPOCH: 5\n",
            "------------\n",
            "Train Accuracy: 77.43 | Train Loss: 0.62\n",
            "Test Accuracy:  76.54 | Test Loss:  0.65\n",
            "\n",
            "EPOCH: 6\n",
            "------------\n",
            "Train Accuracy: 77.80 | Train Loss: 0.61\n",
            "Test Accuracy:  76.67 | Test Loss:  0.63\n",
            "\n",
            "EPOCH: 7\n",
            "------------\n",
            "Train Accuracy: 83.09 | Train Loss: 0.47\n",
            "Test Accuracy:  84.30 | Test Loss:  0.45\n",
            "\n",
            "EPOCH: 8\n",
            "------------\n",
            "Train Accuracy: 85.96 | Train Loss: 0.40\n",
            "Test Accuracy:  84.75 | Test Loss:  0.44\n",
            "\n",
            "EPOCH: 9\n",
            "------------\n",
            "Train Accuracy: 86.17 | Train Loss: 0.39\n",
            "Test Accuracy:  84.82 | Test Loss:  0.43\n",
            "\n",
            "EPOCH: 10\n",
            "------------\n",
            "Train Accuracy: 86.22 | Train Loss: 0.39\n",
            "Test Accuracy:  84.59 | Test Loss:  0.44\n",
            "\n",
            "EPOCH: 11\n",
            "------------\n",
            "Train Accuracy: 86.42 | Train Loss: 0.38\n",
            "Test Accuracy:  83.13 | Test Loss:  0.48\n",
            "\n",
            "EPOCH: 12\n",
            "------------\n",
            "Train Accuracy: 86.47 | Train Loss: 0.38\n",
            "Test Accuracy:  84.62 | Test Loss:  0.43\n",
            "\n",
            "EPOCH: 13\n",
            "------------\n",
            "Train Accuracy: 86.52 | Train Loss: 0.38\n",
            "Test Accuracy:  84.79 | Test Loss:  0.45\n",
            "\n",
            "EPOCH: 14\n",
            "------------\n",
            "Train Accuracy: 86.74 | Train Loss: 0.37\n",
            "Test Accuracy:  83.64 | Test Loss:  0.45\n",
            "\n",
            "EPOCH: 15\n",
            "------------\n",
            "Train Accuracy: 86.63 | Train Loss: 0.37\n",
            "Test Accuracy:  84.04 | Test Loss:  0.48\n",
            "\n",
            "EPOCH: 16\n",
            "------------\n",
            "Train Accuracy: 86.79 | Train Loss: 0.37\n",
            "Test Accuracy:  83.46 | Test Loss:  0.48\n",
            "\n",
            "EPOCH: 17\n",
            "------------\n",
            "Train Accuracy: 86.91 | Train Loss: 0.37\n",
            "Test Accuracy:  84.17 | Test Loss:  0.47\n",
            "\n",
            "EPOCH: 18\n",
            "------------\n",
            "Train Accuracy: 86.93 | Train Loss: 0.37\n",
            "Test Accuracy:  84.09 | Test Loss:  0.46\n",
            "\n",
            "EPOCH: 19\n",
            "------------\n",
            "Train Accuracy: 86.98 | Train Loss: 0.36\n",
            "Test Accuracy:  84.43 | Test Loss:  0.44\n",
            "\n",
            "Train Time on CUDA: 244.321 Seconds\n"
          ]
        }
      ]
    },
    {
      "cell_type": "code",
      "source": [
        "torch.manual_seed(42)\n",
        "torch.cuda.manual_seed(42)\n",
        "\n",
        "def eval_model(model: torch.nn.Module,\n",
        "               test_data_loader: torch.utils.data.DataLoader,\n",
        "               loss_func: torch.nn.Module, \n",
        "               accuracy_func,\n",
        "               device: torch.device=device):\n",
        "  \"\"\"\n",
        "  Returns a Dictionary Containing the Results of Model Predicting on DataLoader\n",
        "  \"\"\"\n",
        "\n",
        "  test_loss, test_accuracy = 0, 0\n",
        "\n",
        "  # Put the Model in Eval Mode\n",
        "  model.eval()\n",
        "\n",
        "  # Turn on Inference Mode Context Manager\n",
        "  with torch.inference_mode():\n",
        "    for (test_image, test_label) in test_data_loader:\n",
        "\n",
        "      # Send the Data Target Device\n",
        "      test_image, test_label = test_image.to(device), test_label.to(device)\n",
        "\n",
        "      # 1. Forward Pass\n",
        "      test_logits = model.forward(test_image)\n",
        "      test_preds = test_logits.argmax(dim=1)\n",
        "\n",
        "      # 2. Calculate Loss & Accuracy Per Batch\n",
        "      test_loss += loss_func(test_logits, test_label)\n",
        "      test_accuracy += accuracy_func(test_preds, test_label)\n",
        "\n",
        "    # Divide Total Test Loss & Accuracy by Length of Test DataLoader\n",
        "    test_loss /= len(test_data_loader)\n",
        "    test_accuracy /= len(test_data_loader)\n",
        "\n",
        "  return {\"model_name\": model.__class__.__name__, # only works when model was created with a class\n",
        "          \"model_loss\": test_loss.item(),\n",
        "          \"model_accuracy\": test_accuracy}"
      ],
      "metadata": {
        "id": "hLL3aaisxBaS"
      },
      "execution_count": 23,
      "outputs": []
    },
    {
      "cell_type": "code",
      "source": [
        "# Calculate Model Results on Test Dataset\n",
        "base_line_model_results = eval_model(\n",
        "  model=base_line_model,\n",
        "  test_data_loader=test_dataloader,\n",
        "  loss_func=loss_func, \n",
        "  accuracy_func=accuracy_func,\n",
        "  device=device\n",
        ")\n",
        "\n",
        "non_linear_model_results = eval_model(\n",
        "  model=non_linear_model,\n",
        "  test_data_loader=test_dataloader,\n",
        "  loss_func=loss_func, \n",
        "  accuracy_func=accuracy_func,\n",
        "  device=device\n",
        ")\n",
        "\n",
        "print(base_line_model_results)\n",
        "print(non_linear_model_results)"
      ],
      "metadata": {
        "id": "b6KZQvZ9xBX9",
        "colab": {
          "base_uri": "https://localhost:8080/"
        },
        "outputId": "5582e360-fa95-4baf-8e67-992a0d16a81e"
      },
      "execution_count": 24,
      "outputs": [
        {
          "output_type": "stream",
          "name": "stdout",
          "text": [
            "{'model_name': 'FashionMNISTModelV0', 'model_loss': 0.4616546928882599, 'model_accuracy': 83.86581469648563}\n",
            "{'model_name': 'FashionMNISTModelV1', 'model_loss': 0.4350026249885559, 'model_accuracy': 84.43490415335464}\n"
          ]
        }
      ]
    },
    {
      "cell_type": "markdown",
      "source": [
        "## 5. ModelV2: Building a Model with  Convolutional Neural Network (ConvNets/CNN)\n",
        "\n",
        "* For More About ConvNets: https://poloclub.github.io/cnn-explainer/"
      ],
      "metadata": {
        "id": "x1KibpdyxBVf"
      }
    },
    {
      "cell_type": "code",
      "source": [
        "from torch.nn.modules.pooling import MaxPool2d\n",
        "# Create a Convolutional Neural Network - ConvNets\n",
        "# Setup Hyperparameters\n",
        "KERNEL_SIZE=3\n",
        "STRIDE=1\n",
        "PADDING=1\n",
        "\n",
        "class FashionMNISTModelV2(nn.Module):\n",
        "  \"\"\"\n",
        "  Model Architecture that Replicates the TinyVGG Model from images/ConvNets.png\n",
        "  \"\"\"\n",
        "  def __init__(self, \n",
        "               input_channels: int,\n",
        "               input_shape: int, \n",
        "               hidden_neurons: int,\n",
        "               output_shape: int):\n",
        "    super().__init__()\n",
        "    self.first_conv_block = nn.Sequential(\n",
        "        nn.Conv2d(in_channels=input_channels,\n",
        "                  out_channels=hidden_neurons,\n",
        "                  kernel_size=KERNEL_SIZE,\n",
        "                  stride=STRIDE,\n",
        "                  padding=PADDING),\n",
        "        nn.ReLU(),\n",
        "        nn.Conv2d(in_channels=hidden_neurons,\n",
        "                  out_channels=hidden_neurons,\n",
        "                  kernel_size=KERNEL_SIZE,\n",
        "                  stride=STRIDE,\n",
        "                  padding=PADDING),\n",
        "        nn.ReLU(),\n",
        "        nn.MaxPool2d(kernel_size=(KERNEL_SIZE-1))\n",
        "    )\n",
        "    self.second_conv_block = nn.Sequential(\n",
        "        nn.Conv2d(in_channels=hidden_neurons,\n",
        "                  out_channels=hidden_neurons,\n",
        "                  kernel_size=KERNEL_SIZE,\n",
        "                  stride=STRIDE,\n",
        "                  padding=PADDING),\n",
        "        nn.ReLU(),\n",
        "        nn.Conv2d(in_channels=hidden_neurons,\n",
        "                  out_channels=hidden_neurons,\n",
        "                  kernel_size=KERNEL_SIZE,\n",
        "                  stride=STRIDE,\n",
        "                  padding=PADDING),\n",
        "        nn.ReLU(),\n",
        "        nn.MaxPool2d(kernel_size=(KERNEL_SIZE-1))\n",
        "    )\n",
        "    self.fully_connected_layer = nn.Sequential(\n",
        "        nn.Flatten(),\n",
        "        nn.Linear(in_features=hidden_neurons*input_shape,\n",
        "                  out_features=output_shape)\n",
        "    )\n",
        "\n",
        "  def forward(self, x:torch.Tensor) -> torch.Tensor:\n",
        "    return self.fully_connected_layer(self.second_conv_block(self.first_conv_block(x)))"
      ],
      "metadata": {
        "id": "9FjT-3l3xBTK"
      },
      "execution_count": 25,
      "outputs": []
    },
    {
      "cell_type": "code",
      "source": [
        "torch.manual_seed(42)\n",
        "torch.cuda.manual_seed(42)\n",
        "\n",
        "convNets_model = FashionMNISTModelV2(\n",
        "    input_channels=image.shape[0],\n",
        "    input_shape=7*7,\n",
        "    hidden_neurons=10,\n",
        "    output_shape=len(class_names)\n",
        ").to(device)"
      ],
      "metadata": {
        "id": "WwBHrvIoxBQj"
      },
      "execution_count": 26,
      "outputs": []
    },
    {
      "cell_type": "markdown",
      "source": [
        "## 5.1 Create a Loss Function, Optimizer & Evaluation Function"
      ],
      "metadata": {
        "id": "gpKQKgyZAw0j"
      }
    },
    {
      "cell_type": "code",
      "source": [
        "CONVNETS_MODEL_PARAMETERS=convNets_model.parameters()\n",
        "\n",
        "loss_func = nn.CrossEntropyLoss()\n",
        "optimizer = torch.optim.SGD(params=CONVNETS_MODEL_PARAMETERS,\n",
        "                            lr=LEARNING_RATE)"
      ],
      "metadata": {
        "id": "2WjFujwXAwyb"
      },
      "execution_count": 27,
      "outputs": []
    },
    {
      "cell_type": "markdown",
      "source": [
        "## 5.2 Training & Testing ConvNets Model Using Training & Testing Functions"
      ],
      "metadata": {
        "id": "XepqGkKmAwvy"
      }
    },
    {
      "cell_type": "code",
      "source": [
        "torch.manual_seed(42)\n",
        "torch.cuda.manual_seed(42)\n",
        "\n",
        "# Measure Execution Time\n",
        "start_time = time.time()\n",
        "\n",
        "# Train & Test ConvNets Model\n",
        "EPOCHS=20\n",
        "\n",
        "for epoch in tqdm(range(EPOCHS)):\n",
        "  print(f\"EPOCH: {epoch}\\n------------\")\n",
        "  train_model(model=convNets_model,\n",
        "              train_data_loader=train_dataloader,\n",
        "              loss_func=loss_func,\n",
        "              optimizer=optimizer,\n",
        "              accuracy_func=accuracy_func,\n",
        "              device=device)\n",
        "  \n",
        "  test_model(model=convNets_model,\n",
        "             test_data_loader=test_dataloader,\n",
        "             loss_func=loss_func,\n",
        "             accuracy_func=accuracy_func,\n",
        "             device=device)\n",
        "  print()\n",
        "execution_end_time = time.time()\n",
        "convNets_execution_time = execution_time(\n",
        "  start_time=execution_start_time, \n",
        "  end_time=execution_end_time,\n",
        "  device=device\n",
        ")"
      ],
      "metadata": {
        "id": "TaotKj33AwtY",
        "colab": {
          "base_uri": "https://localhost:8080/",
          "height": 1000,
          "referenced_widgets": [
            "cb859a11a50f4e9ab1b1f9d9e99b5d1b",
            "8db30b2c1a8b4fef89f13b4cd02f5686",
            "6baa7bd1997c4631a9d8879296b7fddc",
            "8bc9d76e86a24cc585c9c9db6912830f",
            "b12f9af664bb4a97a385e33d00fc82d3",
            "371e4352e7b743ac8bba1145d0b9054f",
            "29aa985649b24d20b74870aed61062e9",
            "f3a947bbd4cd4de8876d8686ee1098c5",
            "e21835b528bf4744a09474c36ae6e88b",
            "51bf6788c4d7412783708df82ce9ee0f",
            "586fc0c33a87478eada045012aa7ba23"
          ]
        },
        "outputId": "288043f5-c46f-496f-c600-8bd4ae4858d1"
      },
      "execution_count": 28,
      "outputs": [
        {
          "output_type": "display_data",
          "data": {
            "text/plain": [
              "  0%|          | 0/20 [00:00<?, ?it/s]"
            ],
            "application/vnd.jupyter.widget-view+json": {
              "version_major": 2,
              "version_minor": 0,
              "model_id": "cb859a11a50f4e9ab1b1f9d9e99b5d1b"
            }
          },
          "metadata": {}
        },
        {
          "output_type": "stream",
          "name": "stdout",
          "text": [
            "EPOCH: 0\n",
            "------------\n",
            "Train Accuracy: 78.57 | Train Loss: 0.59\n",
            "Test Accuracy:  86.18 | Test Loss:  0.39\n",
            "\n",
            "EPOCH: 1\n",
            "------------\n",
            "Train Accuracy: 87.07 | Train Loss: 0.36\n",
            "Test Accuracy:  87.28 | Test Loss:  0.34\n",
            "\n",
            "EPOCH: 2\n",
            "------------\n",
            "Train Accuracy: 88.43 | Train Loss: 0.32\n",
            "Test Accuracy:  88.41 | Test Loss:  0.32\n",
            "\n",
            "EPOCH: 3\n",
            "------------\n",
            "Train Accuracy: 89.04 | Train Loss: 0.30\n",
            "Test Accuracy:  87.71 | Test Loss:  0.32\n",
            "\n",
            "EPOCH: 4\n",
            "------------\n",
            "Train Accuracy: 89.48 | Train Loss: 0.29\n",
            "Test Accuracy:  89.16 | Test Loss:  0.30\n",
            "\n",
            "EPOCH: 5\n",
            "------------\n",
            "Train Accuracy: 89.89 | Train Loss: 0.28\n",
            "Test Accuracy:  89.05 | Test Loss:  0.31\n",
            "\n",
            "EPOCH: 6\n",
            "------------\n",
            "Train Accuracy: 90.25 | Train Loss: 0.27\n",
            "Test Accuracy:  88.88 | Test Loss:  0.31\n",
            "\n",
            "EPOCH: 7\n",
            "------------\n",
            "Train Accuracy: 90.25 | Train Loss: 0.27\n",
            "Test Accuracy:  89.50 | Test Loss:  0.29\n",
            "\n",
            "EPOCH: 8\n",
            "------------\n",
            "Train Accuracy: 90.59 | Train Loss: 0.26\n",
            "Test Accuracy:  90.13 | Test Loss:  0.29\n",
            "\n",
            "EPOCH: 9\n",
            "------------\n",
            "Train Accuracy: 90.76 | Train Loss: 0.26\n",
            "Test Accuracy:  89.42 | Test Loss:  0.29\n",
            "\n",
            "EPOCH: 10\n",
            "------------\n",
            "Train Accuracy: 90.88 | Train Loss: 0.25\n",
            "Test Accuracy:  89.04 | Test Loss:  0.30\n",
            "\n",
            "EPOCH: 11\n",
            "------------\n",
            "Train Accuracy: 91.24 | Train Loss: 0.24\n",
            "Test Accuracy:  89.80 | Test Loss:  0.29\n",
            "\n",
            "EPOCH: 12\n",
            "------------\n",
            "Train Accuracy: 91.19 | Train Loss: 0.24\n",
            "Test Accuracy:  89.97 | Test Loss:  0.28\n",
            "\n",
            "EPOCH: 13\n",
            "------------\n",
            "Train Accuracy: 91.28 | Train Loss: 0.24\n",
            "Test Accuracy:  89.89 | Test Loss:  0.29\n",
            "\n",
            "EPOCH: 14\n",
            "------------\n",
            "Train Accuracy: 91.40 | Train Loss: 0.24\n",
            "Test Accuracy:  88.77 | Test Loss:  0.31\n",
            "\n",
            "EPOCH: 15\n",
            "------------\n",
            "Train Accuracy: 91.48 | Train Loss: 0.23\n",
            "Test Accuracy:  90.08 | Test Loss:  0.29\n",
            "\n",
            "EPOCH: 16\n",
            "------------\n",
            "Train Accuracy: 91.59 | Train Loss: 0.23\n",
            "Test Accuracy:  89.81 | Test Loss:  0.28\n",
            "\n",
            "EPOCH: 17\n",
            "------------\n",
            "Train Accuracy: 91.53 | Train Loss: 0.23\n",
            "Test Accuracy:  89.51 | Test Loss:  0.30\n",
            "\n",
            "EPOCH: 18\n",
            "------------\n",
            "Train Accuracy: 91.70 | Train Loss: 0.23\n",
            "Test Accuracy:  89.41 | Test Loss:  0.29\n",
            "\n",
            "EPOCH: 19\n",
            "------------\n",
            "Train Accuracy: 91.77 | Train Loss: 0.23\n",
            "Test Accuracy:  89.17 | Test Loss:  0.29\n",
            "\n",
            "Train Time on CUDA: 522.169 Seconds\n"
          ]
        }
      ]
    },
    {
      "cell_type": "code",
      "source": [
        "# Calculate Model Results on Test Dataset\n",
        "base_line_model_results = eval_model(\n",
        "  model=base_line_model,\n",
        "  test_data_loader=test_dataloader,\n",
        "  loss_func=loss_func, \n",
        "  accuracy_func=accuracy_func,\n",
        "  device=device\n",
        ")\n",
        "\n",
        "non_linear_model_results = eval_model(\n",
        "  model=non_linear_model,\n",
        "  test_data_loader=test_dataloader,\n",
        "  loss_func=loss_func, \n",
        "  accuracy_func=accuracy_func,\n",
        "  device=device\n",
        ")\n",
        "\n",
        "convNets_model_results = eval_model(\n",
        "    model=convNets_model,\n",
        "    test_data_loader=test_dataloader,\n",
        "    loss_func=loss_func, \n",
        "    accuracy_func=accuracy_func,\n",
        "    device=device\n",
        ")\n",
        "\n",
        "print(base_line_model_results)\n",
        "print(non_linear_model_results)\n",
        "print(convNets_model_results)"
      ],
      "metadata": {
        "id": "f9xTDQNDAwrK",
        "colab": {
          "base_uri": "https://localhost:8080/"
        },
        "outputId": "5a37cf21-9c05-4a1e-88d0-dcdccb15ee6a"
      },
      "execution_count": 29,
      "outputs": [
        {
          "output_type": "stream",
          "name": "stdout",
          "text": [
            "{'model_name': 'FashionMNISTModelV0', 'model_loss': 0.4616546928882599, 'model_accuracy': 83.86581469648563}\n",
            "{'model_name': 'FashionMNISTModelV1', 'model_loss': 0.4350026249885559, 'model_accuracy': 84.43490415335464}\n",
            "{'model_name': 'FashionMNISTModelV2', 'model_loss': 0.2945476472377777, 'model_accuracy': 89.1673322683706}\n"
          ]
        }
      ]
    },
    {
      "cell_type": "markdown",
      "source": [
        "## 6. Compare Model Results & Training Time"
      ],
      "metadata": {
        "id": "LpFYun6dAwo1"
      }
    },
    {
      "cell_type": "code",
      "source": [
        "import pandas as pd\n",
        "\n",
        "dataFrame = pd.DataFrame([\n",
        "  base_line_model_results,\n",
        "  non_linear_model_results,\n",
        "  convNets_model_results    \n",
        "])\n",
        "\n",
        "dataFrame"
      ],
      "metadata": {
        "id": "vfvfPUIiAwmp",
        "colab": {
          "base_uri": "https://localhost:8080/",
          "height": 143
        },
        "outputId": "8b7370dd-082d-4953-c007-e986ce5b8b5e"
      },
      "execution_count": 30,
      "outputs": [
        {
          "output_type": "execute_result",
          "data": {
            "text/plain": [
              "            model_name  model_loss  model_accuracy\n",
              "0  FashionMNISTModelV0    0.461655       83.865815\n",
              "1  FashionMNISTModelV1    0.435003       84.434904\n",
              "2  FashionMNISTModelV2    0.294548       89.167332"
            ],
            "text/html": [
              "\n",
              "  <div id=\"df-da109d8f-8250-4936-b511-20fa3d643a0d\">\n",
              "    <div class=\"colab-df-container\">\n",
              "      <div>\n",
              "<style scoped>\n",
              "    .dataframe tbody tr th:only-of-type {\n",
              "        vertical-align: middle;\n",
              "    }\n",
              "\n",
              "    .dataframe tbody tr th {\n",
              "        vertical-align: top;\n",
              "    }\n",
              "\n",
              "    .dataframe thead th {\n",
              "        text-align: right;\n",
              "    }\n",
              "</style>\n",
              "<table border=\"1\" class=\"dataframe\">\n",
              "  <thead>\n",
              "    <tr style=\"text-align: right;\">\n",
              "      <th></th>\n",
              "      <th>model_name</th>\n",
              "      <th>model_loss</th>\n",
              "      <th>model_accuracy</th>\n",
              "    </tr>\n",
              "  </thead>\n",
              "  <tbody>\n",
              "    <tr>\n",
              "      <th>0</th>\n",
              "      <td>FashionMNISTModelV0</td>\n",
              "      <td>0.461655</td>\n",
              "      <td>83.865815</td>\n",
              "    </tr>\n",
              "    <tr>\n",
              "      <th>1</th>\n",
              "      <td>FashionMNISTModelV1</td>\n",
              "      <td>0.435003</td>\n",
              "      <td>84.434904</td>\n",
              "    </tr>\n",
              "    <tr>\n",
              "      <th>2</th>\n",
              "      <td>FashionMNISTModelV2</td>\n",
              "      <td>0.294548</td>\n",
              "      <td>89.167332</td>\n",
              "    </tr>\n",
              "  </tbody>\n",
              "</table>\n",
              "</div>\n",
              "      <button class=\"colab-df-convert\" onclick=\"convertToInteractive('df-da109d8f-8250-4936-b511-20fa3d643a0d')\"\n",
              "              title=\"Convert this dataframe to an interactive table.\"\n",
              "              style=\"display:none;\">\n",
              "        \n",
              "  <svg xmlns=\"http://www.w3.org/2000/svg\" height=\"24px\"viewBox=\"0 0 24 24\"\n",
              "       width=\"24px\">\n",
              "    <path d=\"M0 0h24v24H0V0z\" fill=\"none\"/>\n",
              "    <path d=\"M18.56 5.44l.94 2.06.94-2.06 2.06-.94-2.06-.94-.94-2.06-.94 2.06-2.06.94zm-11 1L8.5 8.5l.94-2.06 2.06-.94-2.06-.94L8.5 2.5l-.94 2.06-2.06.94zm10 10l.94 2.06.94-2.06 2.06-.94-2.06-.94-.94-2.06-.94 2.06-2.06.94z\"/><path d=\"M17.41 7.96l-1.37-1.37c-.4-.4-.92-.59-1.43-.59-.52 0-1.04.2-1.43.59L10.3 9.45l-7.72 7.72c-.78.78-.78 2.05 0 2.83L4 21.41c.39.39.9.59 1.41.59.51 0 1.02-.2 1.41-.59l7.78-7.78 2.81-2.81c.8-.78.8-2.07 0-2.86zM5.41 20L4 18.59l7.72-7.72 1.47 1.35L5.41 20z\"/>\n",
              "  </svg>\n",
              "      </button>\n",
              "      \n",
              "  <style>\n",
              "    .colab-df-container {\n",
              "      display:flex;\n",
              "      flex-wrap:wrap;\n",
              "      gap: 12px;\n",
              "    }\n",
              "\n",
              "    .colab-df-convert {\n",
              "      background-color: #E8F0FE;\n",
              "      border: none;\n",
              "      border-radius: 50%;\n",
              "      cursor: pointer;\n",
              "      display: none;\n",
              "      fill: #1967D2;\n",
              "      height: 32px;\n",
              "      padding: 0 0 0 0;\n",
              "      width: 32px;\n",
              "    }\n",
              "\n",
              "    .colab-df-convert:hover {\n",
              "      background-color: #E2EBFA;\n",
              "      box-shadow: 0px 1px 2px rgba(60, 64, 67, 0.3), 0px 1px 3px 1px rgba(60, 64, 67, 0.15);\n",
              "      fill: #174EA6;\n",
              "    }\n",
              "\n",
              "    [theme=dark] .colab-df-convert {\n",
              "      background-color: #3B4455;\n",
              "      fill: #D2E3FC;\n",
              "    }\n",
              "\n",
              "    [theme=dark] .colab-df-convert:hover {\n",
              "      background-color: #434B5C;\n",
              "      box-shadow: 0px 1px 3px 1px rgba(0, 0, 0, 0.15);\n",
              "      filter: drop-shadow(0px 1px 2px rgba(0, 0, 0, 0.3));\n",
              "      fill: #FFFFFF;\n",
              "    }\n",
              "  </style>\n",
              "\n",
              "      <script>\n",
              "        const buttonEl =\n",
              "          document.querySelector('#df-da109d8f-8250-4936-b511-20fa3d643a0d button.colab-df-convert');\n",
              "        buttonEl.style.display =\n",
              "          google.colab.kernel.accessAllowed ? 'block' : 'none';\n",
              "\n",
              "        async function convertToInteractive(key) {\n",
              "          const element = document.querySelector('#df-da109d8f-8250-4936-b511-20fa3d643a0d');\n",
              "          const dataTable =\n",
              "            await google.colab.kernel.invokeFunction('convertToInteractive',\n",
              "                                                     [key], {});\n",
              "          if (!dataTable) return;\n",
              "\n",
              "          const docLinkHtml = 'Like what you see? Visit the ' +\n",
              "            '<a target=\"_blank\" href=https://colab.research.google.com/notebooks/data_table.ipynb>data table notebook</a>'\n",
              "            + ' to learn more about interactive tables.';\n",
              "          element.innerHTML = '';\n",
              "          dataTable['output_type'] = 'display_data';\n",
              "          await google.colab.output.renderOutput(dataTable, element);\n",
              "          const docLink = document.createElement('div');\n",
              "          docLink.innerHTML = docLinkHtml;\n",
              "          element.appendChild(docLink);\n",
              "        }\n",
              "      </script>\n",
              "    </div>\n",
              "  </div>\n",
              "  "
            ]
          },
          "metadata": {},
          "execution_count": 30
        }
      ]
    },
    {
      "cell_type": "code",
      "source": [
        "# Visualize our model results\n",
        "dataFrame.plot.barh(x='model_name', y='model_accuracy')\n",
        "plt.xlabel(\"Model Test Accuracy (%)\")\n",
        "plt.ylabel(\"Model\")"
      ],
      "metadata": {
        "id": "u3mh_qfaAwkN",
        "colab": {
          "base_uri": "https://localhost:8080/",
          "height": 467
        },
        "outputId": "9a6988ef-4fe9-486b-e4e7-bc4da1daa0f5"
      },
      "execution_count": 31,
      "outputs": [
        {
          "output_type": "execute_result",
          "data": {
            "text/plain": [
              "Text(0, 0.5, 'Model')"
            ]
          },
          "metadata": {},
          "execution_count": 31
        },
        {
          "output_type": "display_data",
          "data": {
            "text/plain": [
              "<Figure size 640x480 with 1 Axes>"
            ],
            "image/png": "[encoded data removed]"
          },
          "metadata": {}
        }
      ]
    },
    {
      "cell_type": "markdown",
      "source": [
        "## 7. Make & Evaluate Random Predictions with Best Model"
      ],
      "metadata": {
        "id": "4hQmjD1YAwh_"
      }
    },
    {
      "cell_type": "code",
      "source": [
        "def make_prediction(model: torch.nn.Module,\n",
        "                    data: list,\n",
        "                    device:torch.device=device):\n",
        "  \n",
        "  pred_probs_list = []\n",
        "  model.to(device)\n",
        "\n",
        "  model.eval()\n",
        "  with torch.inference_mode():\n",
        "    for sample in data:\n",
        "      # 1. Prepare the sample (add a batch dimensions and pass to target device)\n",
        "      sample = torch.unsqueeze(sample, dim=0).to(device)\n",
        "\n",
        "      # 2. Forward Pass -> Raw Logits\n",
        "      pred_logit = model.forward(sample)\n",
        "\n",
        "      # 3. Raw Logits -> Prediction Probability\n",
        "      pred_prob = torch.softmax(pred_logit.squeeze(), dim=0)\n",
        "\n",
        "      # 4. Add Append\n",
        "      pred_probs_list.append(pred_prob.cpu())\n",
        "  \n",
        "  return torch.stack(pred_probs_list)"
      ],
      "metadata": {
        "id": "3YWBx70pAwfp"
      },
      "execution_count": 32,
      "outputs": []
    },
    {
      "cell_type": "code",
      "source": [
        "import random\n",
        "random.seed(42)\n",
        "\n",
        "test_samples, test_labels = [], []\n",
        "for sample, label in random.sample(list(test_data), k=20):\n",
        "  test_samples.append(sample)\n",
        "  test_labels.append(label)"
      ],
      "metadata": {
        "id": "IYAL9vDw9ttw"
      },
      "execution_count": 33,
      "outputs": []
    },
    {
      "cell_type": "code",
      "source": [
        "predictions = make_prediction(model=convNets_model,\n",
        "                              data=test_samples)\n",
        "\n",
        "predictions = predictions.argmax(dim=1)"
      ],
      "metadata": {
        "id": "vC-DnhLE-dU9"
      },
      "execution_count": 34,
      "outputs": []
    },
    {
      "cell_type": "code",
      "source": [
        "plt.figure(figsize=(20, 20))\n",
        "number_of_rows, number_of_columns = 5, 5\n",
        "\n",
        "for idx, samples in enumerate(test_samples):\n",
        "  # 1. Create Subplots\n",
        "  plt.subplot(number_of_rows, number_of_columns, idx+1)\n",
        "\n",
        "  # 2. Plot Target Image\n",
        "  plt.imshow(samples.squeeze(), cmap='gray')\n",
        "\n",
        "  # 3. Find Predictions\n",
        "  pred_label = class_names[predictions[idx]]\n",
        "\n",
        "  # 4. Ground Truth Label\n",
        "  ground_truth = class_names[test_labels[idx]]\n",
        "\n",
        "  # 5. Create a Title\n",
        "  text_title = f\"Truth: {ground_truth} | Prediction: {pred_label}\"\n",
        "\n",
        "  # 6. Set Color\n",
        "  color = 'green' if (ground_truth == pred_label) else 'red'\n",
        "\n",
        "  # 7. Set Title\n",
        "  plt.title(text_title, fontsize=10, color=color)"
      ],
      "metadata": {
        "colab": {
          "base_uri": "https://localhost:8080/",
          "height": 695
        },
        "id": "MrLjIHwW-glb",
        "outputId": "f3c629ed-4040-493d-bca3-e0baa5baa905"
      },
      "execution_count": 35,
      "outputs": [
        {
          "output_type": "display_data",
          "data": {
            "text/plain": [
              "<Figure size 2000x2000 with 20 Axes>"
            ],
            "image/png": "[encoded data removed]"
          },
          "metadata": {}
        }
      ]
    },
    {
      "cell_type": "markdown",
      "source": [
        "## 8. Generating a Confusion Matrix (CM) for Further Prediction Evaluation"
      ],
      "metadata": {
        "id": "1Y_8sU1vT18X"
      }
    },
    {
      "cell_type": "code",
      "source": [
        "# Import tqdm.auto\n",
        "from tqdm.auto import tqdm \n",
        "\n",
        "# 1. Make predictions with trained model\n",
        "label_preds = []\n",
        "convNets_model.eval()\n",
        "with torch.inference_mode():\n",
        "  for image, label in tqdm(test_dataloader, desc=\"Making Predictions...\"):\n",
        "    # Send the data and targets to target device\n",
        "    image, label = image.to(device), label.to(device)\n",
        "    # Do the forward pass\n",
        "    label_logit = convNets_model(image)\n",
        "    # Turn predictions from logits -> prediction probabilities -> prediction labels\n",
        "    label_pred = torch.softmax(label_logit.squeeze(), dim=0).argmax(dim=1)\n",
        "    # Put prediction on CPU for evaluation\n",
        "    label_preds.append(label_pred.cpu())\n",
        "\n",
        "# Concatenate list of predictions into a tensor\n",
        "preds_tensor = torch.cat(label_preds)\n",
        "preds_tensor"
      ],
      "metadata": {
        "colab": {
          "base_uri": "https://localhost:8080/",
          "height": 67,
          "referenced_widgets": [
            "02161dfe3fe348c3b77bbdc98f0f6ce5",
            "bd4bf471c5f4469cb7aee62f6eb703e4",
            "ee04c4bdc201409b96272a72a00863a1",
            "5ad340d4c6d0467896fc946c3d76a440",
            "99ab2d775ed44d74bb7a12709f693c59",
            "bcd3f4e06e79496880d52d17fd4a755b",
            "26b840ac27ba4165bd8fe63bb5e29862",
            "6d96f878c2a84c2da44667d746d33d4d",
            "eeef108fa11b44668023d06bd08ba6bf",
            "544eab4284fd4097989e92c1fdb9edf9",
            "aaa72405b67b48a6b745003b21f3df49"
          ]
        },
        "id": "SRc5FPiTZJZF",
        "outputId": "b6378fd3-03d9-49f2-86fd-e21e6a6b20cf"
      },
      "execution_count": 36,
      "outputs": [
        {
          "output_type": "display_data",
          "data": {
            "text/plain": [
              "Making Predictions...:   0%|          | 0/313 [00:00<?, ?it/s]"
            ],
            "application/vnd.jupyter.widget-view+json": {
              "version_major": 2,
              "version_minor": 0,
              "model_id": "02161dfe3fe348c3b77bbdc98f0f6ce5"
            }
          },
          "metadata": {}
        },
        {
          "output_type": "execute_result",
          "data": {
            "text/plain": [
              "tensor([9, 2, 1,  ..., 8, 0, 0])"
            ]
          },
          "metadata": {},
          "execution_count": 36
        }
      ]
    },
    {
      "cell_type": "code",
      "source": [
        "from helper_functions import confusion_matrix_and_classification_report, visualize_conf_matrix\n",
        "matrix, report = confusion_matrix_and_classification_report(preds_tensor, test_data.targets)\n",
        "visualize_conf_matrix(matrix)\n",
        "print(report)"
      ],
      "metadata": {
        "colab": {
          "base_uri": "https://localhost:8080/",
          "height": 751
        },
        "id": "qU_EvJo2ZJWT",
        "outputId": "d2ea38b9-5d30-4ae1-dc94-46ae7c06f9f8"
      },
      "execution_count": 37,
      "outputs": [
        {
          "output_type": "stream",
          "name": "stdout",
          "text": [
            "              precision    recall  f1-score   support\n",
            "\n",
            "           0       0.72      0.72      0.72      1000\n",
            "           1       0.95      0.89      0.92      1000\n",
            "           2       0.77      0.78      0.77      1000\n",
            "           3       0.75      0.88      0.81      1000\n",
            "           4       0.76      0.69      0.72      1000\n",
            "           5       0.93      0.78      0.85      1000\n",
            "           6       0.57      0.69      0.62      1000\n",
            "           7       0.81      0.93      0.87      1000\n",
            "           8       0.87      0.80      0.84      1000\n",
            "           9       0.93      0.81      0.86      1000\n",
            "\n",
            "    accuracy                           0.80     10000\n",
            "   macro avg       0.81      0.80      0.80     10000\n",
            "weighted avg       0.81      0.80      0.80     10000\n",
            "\n"
          ]
        },
        {
          "output_type": "display_data",
          "data": {
            "text/plain": [
              "<Figure size 640x480 with 2 Axes>"
            ],
            "image/png": "[encoded data removed]"
          },
          "metadata": {}
        }
      ]
    },
    {
      "cell_type": "markdown",
      "source": [
        "## 9. Save Best Performing Model"
      ],
      "metadata": {
        "id": "OWTSIASSZJLL"
      }
    },
    {
      "cell_type": "code",
      "source": [
        "from helper_functions import save_model\n",
        "save_model(convNets_model, 'pytorch_computer_vision')"
      ],
      "metadata": {
        "id": "-yV6YiSPZJIQ"
      },
      "execution_count": 38,
      "outputs": []
    }
  ]
}